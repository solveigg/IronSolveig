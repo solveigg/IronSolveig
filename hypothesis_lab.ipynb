{
 "cells": [
  {
   "cell_type": "markdown",
   "id": "c586bbcc",
   "metadata": {},
   "source": [
    "# Hypotheses Testing "
   ]
  },
  {
   "cell_type": "code",
   "execution_count": 21,
   "id": "bfe61718",
   "metadata": {},
   "outputs": [],
   "source": [
    "import numpy as np\n",
    "import pandas as pd\n",
    "import scipy.stats as stats\n",
    "import matplotlib.pyplot as plt\n",
    "import seaborn as sns\n",
    "\n",
    "%matplotlib inline"
   ]
  },
  {
   "cell_type": "markdown",
   "id": "2dbc345f",
   "metadata": {},
   "source": [
    "## Ho: No difference in means\n",
    "## H1: Blood presure in h is significantly different "
   ]
  },
  {
   "cell_type": "code",
   "execution_count": 23,
   "id": "a32fd855",
   "metadata": {},
   "outputs": [],
   "source": [
    "# Data \n",
    "n = 100\n",
    "sample_mean = 130.1\n",
    "pop_mean = 120\n",
    "#pop_std_dev = \n",
    "sample_std_dev = 21.21\n"
   ]
  },
  {
   "cell_type": "code",
   "execution_count": null,
   "id": "3aadbad1",
   "metadata": {},
   "outputs": [],
   "source": [
    "# we assume the following properties of the sample \n",
    "sem = np.std(pop)/np.sqrt(n)\n",
    "sem"
   ]
  },
  {
   "cell_type": "code",
   "execution_count": null,
   "id": "e3e70ad0",
   "metadata": {},
   "outputs": [],
   "source": [
    "#\n",
    "### The test we are about to introduce applies a t-score as the test statistic.\n",
    "### The test statistic will be\n",
    "### x ̄ − μ 0 t0 = s/√n\n",
    "### If μ = μ0 is true, t0 has a t-distribution with n − 1 degrees of freedom."
   ]
  },
  {
   "cell_type": "code",
   "execution_count": null,
   "id": "e7917abd",
   "metadata": {},
   "outputs": [],
   "source": [
    "s"
   ]
  },
  {
   "cell_type": "code",
   "execution_count": 14,
   "id": "2cbcb4ce",
   "metadata": {},
   "outputs": [
    {
     "ename": "NameError",
     "evalue": "name 'scipy' is not defined",
     "output_type": "error",
     "traceback": [
      "\u001b[0;31m---------------------------------------------------------------------------\u001b[0m",
      "\u001b[0;31mNameError\u001b[0m                                 Traceback (most recent call last)",
      "Input \u001b[0;32mIn [14]\u001b[0m, in \u001b[0;36m<cell line: 2>\u001b[0;34m()\u001b[0m\n\u001b[1;32m      1\u001b[0m \u001b[38;5;66;03m#tc = scipy.stats.t.ppf(0.99, df=99)\u001b[39;00m\n\u001b[0;32m----> 2\u001b[0m t_test \u001b[38;5;241m=\u001b[39m \u001b[43mscipy\u001b[49m\u001b[38;5;241m.\u001b[39mstats\u001b[38;5;241m.\u001b[39mttest_1samp(\u001b[38;5;241m130\u001b[39m,\u001b[38;5;241m1\u001b[39m, \u001b[38;5;241m120\u001b[39m,  alternative\u001b[38;5;241m=\u001b[39m\u001b[38;5;124m'\u001b[39m\u001b[38;5;124mtwo-sided\u001b[39m\u001b[38;5;124m'\u001b[39m)\n",
      "\u001b[0;31mNameError\u001b[0m: name 'scipy' is not defined"
     ]
    }
   ],
   "source": [
    "#tc = scipy.stats.t.ppf(0.99, df=99)\n",
    "#t_test = scipy.stats.ttest_1samp(130,1, 120,  alternative='two-sided')"
   ]
  },
  {
   "cell_type": "code",
   "execution_count": 24,
   "id": "5c4aeeff",
   "metadata": {},
   "outputs": [
    {
     "data": {
      "text/plain": [
       "4.761904761904759"
      ]
     },
     "execution_count": 24,
     "metadata": {},
     "output_type": "execute_result"
    }
   ],
   "source": [
    "# set z\n",
    "\n",
    "z = ( sample_mean - pop_mean ) / ( pop_std_dev / np.sqrt(100) )\n",
    "z"
   ]
  },
  {
   "cell_type": "code",
   "execution_count": 27,
   "id": "6230f348",
   "metadata": {},
   "outputs": [
    {
     "data": {
      "text/plain": [
       "2.5758293035489004"
      ]
     },
     "execution_count": 27,
     "metadata": {},
     "output_type": "execute_result"
    }
   ],
   "source": [
    "# Critical values at different levels \n",
    "\n",
    "zc_99 = stats.norm.ppf(1-(0.01/2))\n",
    "zc_99\n",
    "#zc_95 = stats.norm.ppf(1-(0.05/2))\n",
    "#zc_95\n",
    "#zc_90 = stats.norm.ppf(1-(0.1/2))\n",
    "#zc_90"
   ]
  },
  {
   "cell_type": "code",
   "execution_count": null,
   "id": "2c4fc312",
   "metadata": {},
   "outputs": [],
   "source": [
    "## People in H have devaiting heart rate (reject H0)"
   ]
  }
 ],
 "metadata": {
  "kernelspec": {
   "display_name": "Python 3 (ipykernel)",
   "language": "python",
   "name": "python3"
  },
  "language_info": {
   "codemirror_mode": {
    "name": "ipython",
    "version": 3
   },
   "file_extension": ".py",
   "mimetype": "text/x-python",
   "name": "python",
   "nbconvert_exporter": "python",
   "pygments_lexer": "ipython3",
   "version": "3.10.2"
  }
 },
 "nbformat": 4,
 "nbformat_minor": 5
}
