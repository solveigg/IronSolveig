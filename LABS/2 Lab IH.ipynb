{
 "cells": [
  {
   "cell_type": "code",
   "execution_count": null,
   "id": "5f69702b-c0db-4b17-9fdf-ac500bb33f50",
   "metadata": {},
   "outputs": [],
   "source": [
    "conda install -c conda-forge jupyter_contrib_nbextensions\n"
   ]
  },
  {
   "cell_type": "markdown",
   "id": "745a971d-20a9-4ead-9620-618497792393",
   "metadata": {},
   "source": [
    "# Holidays of my imaginary Friend\n"
   ]
  },
  {
   "cell_type": "markdown",
   "id": "ff816ae6-3d10-4ffd-8e66-9ceb91832e70",
   "metadata": {},
   "source": [
    "## Purpose of this nb is to familiarize myself with the syntax of Jupyter Notebooks "
   ]
  },
  {
   "cell_type": "code",
   "execution_count": null,
   "id": "76185a73-0d1b-4e00-9b16-17ed0cbb7481",
   "metadata": {},
   "outputs": [],
   "source": [
    "# Write a function that takes an input - \n",
    "# which will be the selected person's name\n",
    "input()\n",
    "print()\n",
    "\n",
    "# Why can't I asign my input command to the name name?1"
   ]
  },
  {
   "cell_type": "code",
   "execution_count": 6,
   "id": "e00ba828-4bcc-4144-8162-1ff62830d577",
   "metadata": {
    "tags": []
   },
   "outputs": [
    {
     "data": {
      "text/html": [
       "<img src=\"https://files.worldwildlife.org/wwfcmsprod/images/Sloth_3_12_2014/hero_full/95bi8m2u6i_sloth__c__Jorge_Salas_International_Expeditions.JPG\" width=\"400\" height=\"400\"/>"
      ],
      "text/plain": [
       "<IPython.core.display.Image object>"
      ]
     },
     "execution_count": 6,
     "metadata": {},
     "output_type": "execute_result"
    }
   ],
   "source": [
    "# upload a photo of that person to the notebook\n",
    "\n",
    "#1. Real pic from my local file \n",
    "\n",
    "#from IPython import display\n",
    "#display.Image(\"./image.png\")\n",
    "\n",
    "# How do I find my path \n",
    "\n",
    "\n",
    "# 2. How I see him \n",
    "#from IPython import display\n",
    "#display.Image(\"https://www.worldwildlife.org/species/sloth\")\n",
    "\n",
    "from IPython.display import Image\n",
    "Image(url= \"https://files.worldwildlife.org/wwfcmsprod/images/Sloth_3_12_2014/hero_full/95bi8m2u6i_sloth__c__Jorge_Salas_International_Expeditions.JPG\", width=400, height=400)\n"
   ]
  },
  {
   "cell_type": "code",
   "execution_count": 19,
   "id": "182b23f1-b52e-464a-bf07-7d3a430de94f",
   "metadata": {},
   "outputs": [
    {
     "ename": "IndentationError",
     "evalue": "unexpected indent (1795651799.py, line 15)",
     "output_type": "error",
     "traceback": [
      "\u001b[0;36m  File \u001b[0;32m\"/var/folders/np/_4nsf5195pl0jfyhg25kr9q80000gn/T/ipykernel_824/1795651799.py\"\u001b[0;36m, line \u001b[0;32m15\u001b[0m\n\u001b[0;31m    if user_preference == '1':\u001b[0m\n\u001b[0m    ^\u001b[0m\n\u001b[0;31mIndentationError\u001b[0m\u001b[0;31m:\u001b[0m unexpected indent\n"
     ]
    }
   ],
   "source": [
    "#Write a function that takes input for their holidays preference. This can be one question or multiple questions to \n",
    "#understand this person's preferences. Make sure you test it yourself.\n",
    "\n",
    "\n",
    "\n",
    "Continent = input('Which continent would you prefer?')\n",
    "print('I would like to go to, ', Continent)\n",
    "\n",
    "# How can I link a list? \n",
    "\n",
    "holiday_types = {\"adventure\" : 1, \"all-inclusive\" : 2, \"staycation\" : 3}\n",
    "\n",
    "print('What type of holidays would you prefer?', holiday_types )\n",
    "user_preference = input('Please enter a number in the range 1-3')\n",
    "    if user_preference == 1:\n",
    "        print \"great, lets do an andventure\"\n",
    "    elif user_preference == 2:\n",
    "        print: \"yay, you make me rich\", \n",
    "    elif user_prefernce ==3: \n",
    "        print \" its ok, thats the new mentality\"\n",
    "else (user_preference <1) or (user_prefernce >3) :\n",
    "        print \"invalid choice, please use another agent\"\n",
    "\n",
    "\n",
    "\n",
    "\n",
    "#def validate_holiday_preferences(preference):\n",
    "#    if preference < 1 || preference > 3\n",
    "#        return 0\n",
    "#    else\n",
    "#        return 1\n",
    "\n",
    "\n",
    "def holiday(type):\n",
    "    for x in type:\n",
    "        print(x)\n",
    "type = [\"adventure\", \"all-inclusive\", \"staycation\"]\n",
    "holiday(type)\n",
    "      \n",
    "\n"
   ]
  },
  {
   "cell_type": "markdown",
   "id": "293056e4-62af-4c5a-adb4-24b085e917e5",
   "metadata": {},
   "source": [
    "# Add a photo or screenshot of the holiday destination\n",
    "\n"
   ]
  },
  {
   "cell_type": "markdown",
   "id": "476586e4-926a-48b1-baf9-f8358470c4b2",
   "metadata": {
    "jupyter": {
     "source_hidden": true
    },
    "tags": []
   },
   "source": [
    "- Adventure\n",
    "- Beach\n",
    "- Cultual activity "
   ]
  },
  {
   "cell_type": "markdown",
   "id": "debe35e2-901d-4661-840b-590b14a227c5",
   "metadata": {},
   "source": [
    "__[The perfect holiday](http://www.youtube.com/watch?v=sQPXvtJQ9p4)__"
   ]
  },
  {
   "cell_type": "markdown",
   "id": "29416697-847b-49f7-9224-fa49eb74f15c",
   "metadata": {},
   "source": [
    "# Annotation: \n",
    "\n",
    "I apologize for the chaotic code.\n",
    "I used only basic input functions. \n",
    "The if else loop *doesnt work*, which is super annoying. \n",
    "Of course, its **not** the end of the world. \n",
    "\n",
    "however, its always nice if things are working like these great engineers \n",
    "<a> href=<\"https://excellence.ag/en\"> \n"
   ]
  },
  {
   "cell_type": "code",
   "execution_count": null,
   "id": "f9da95d3-315d-417c-9a50-0bcf29f0cba4",
   "metadata": {},
   "outputs": [],
   "source": []
  }
 ],
 "metadata": {
  "kernelspec": {
   "display_name": "Python 3 (ipykernel)",
   "language": "python",
   "name": "python3"
  },
  "language_info": {
   "codemirror_mode": {
    "name": "ipython",
    "version": 3
   },
   "file_extension": ".py",
   "mimetype": "text/x-python",
   "name": "python",
   "nbconvert_exporter": "python",
   "pygments_lexer": "ipython3",
   "version": "3.9.7"
  }
 },
 "nbformat": 4,
 "nbformat_minor": 5
}
