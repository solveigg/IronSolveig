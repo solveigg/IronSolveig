{
 "cells": [
  {
   "cell_type": "code",
<<<<<<< HEAD
   "execution_count": 1,
   "id": "fdfc44bb",
=======
   "execution_count": 247,
>>>>>>> b2579afc3260c43ee949c566ee934cbd28dc25af
   "metadata": {},
   "outputs": [],
   "source": [
    "## Case Study Chriss\n",
    "\n",
    "# Set up\n",
    "import numpy as np\n",
    "import pandas as pd"
   ]
  },
  {
   "cell_type": "code",
<<<<<<< HEAD
   "execution_count": 2,
   "id": "7e5023d2",
=======
   "execution_count": null,
   "metadata": {},
   "outputs": [],
   "source": []
  },
  {
   "cell_type": "code",
   "execution_count": 248,
>>>>>>> b2579afc3260c43ee949c566ee934cbd28dc25af
   "metadata": {},
   "outputs": [],
   "source": [
    "# input data \n",
    "\n",
    "file1 = pd.read_csv('Customer_Analysis_Case_Study/Data/file1.csv')\n",
    "file2 = pd.read_csv('Customer_Analysis_Case_Study/Data/file2.csv')\n",
    "file3 = pd.read_csv('Customer_Analysis_Case_Study/Data/file3.csv') \n",
    "\n",
    "file_list = [file1, file2, file3]\n"
   ]
  },
  {
   "cell_type": "code",
<<<<<<< HEAD
   "execution_count": 3,
   "id": "e8217440",
=======
   "execution_count": 249,
>>>>>>> b2579afc3260c43ee949c566ee934cbd28dc25af
   "metadata": {},
   "outputs": [
    {
     "data": {
      "text/plain": [
       "[11, 11, 11]"
      ]
     },
<<<<<<< HEAD
     "execution_count": 3,
=======
     "execution_count": 249,
>>>>>>> b2579afc3260c43ee949c566ee934cbd28dc25af
     "metadata": {},
     "output_type": "execute_result"
    }
   ],
   "source": [
    "list(map(lambda x: x.columns, file_list)) \n",
    "list(map(len, list(map(lambda x: x.columns, file_list)) ))"
   ]
  },
  {
<<<<<<< HEAD
   "cell_type": "markdown",
   "id": "4d24cbc6",
=======
   "cell_type": "code",
   "execution_count": null,
>>>>>>> b2579afc3260c43ee949c566ee934cbd28dc25af
   "metadata": {},
   "source": [
    "## Define to lower"
   ]
  },
  {
   "cell_type": "code",
<<<<<<< HEAD
   "execution_count": 4,
   "id": "242b91cb",
=======
   "execution_count": 250,
>>>>>>> b2579afc3260c43ee949c566ee934cbd28dc25af
   "metadata": {},
   "outputs": [],
   "source": [
    "\n",
    "def lower_case_column_names(file_list):\n",
    "    file_list.columns=[i.lower() for i in file_list.columns]\n",
    "    return file_list"
   ]
  },
  {
   "cell_type": "code",
<<<<<<< HEAD
   "execution_count": 5,
   "id": "5752fefc",
=======
   "execution_count": 251,
>>>>>>> b2579afc3260c43ee949c566ee934cbd28dc25af
   "metadata": {},
   "outputs": [
    {
     "data": {
      "text/plain": [
       "[     customer          st gender             education  \\\n",
       " 0     RB50392  Washington    NaN                Master   \n",
       " 1     QZ44356     Arizona      F              Bachelor   \n",
       " 2     AI49188      Nevada      F              Bachelor   \n",
       " 3     WW63253  California      M              Bachelor   \n",
       " 4     GA49547  Washington      M  High School or Below   \n",
       " ...       ...         ...    ...                   ...   \n",
       " 4003      NaN         NaN    NaN                   NaN   \n",
       " 4004      NaN         NaN    NaN                   NaN   \n",
       " 4005      NaN         NaN    NaN                   NaN   \n",
       " 4006      NaN         NaN    NaN                   NaN   \n",
       " 4007      NaN         NaN    NaN                   NaN   \n",
       " \n",
       "      customer lifetime value   income  monthly premium auto  \\\n",
       " 0                        NaN      0.0                1000.0   \n",
       " 1                 697953.59%      0.0                  94.0   \n",
       " 2                1288743.17%  48767.0                 108.0   \n",
       " 3                 764586.18%      0.0                 106.0   \n",
       " 4                 536307.65%  36357.0                  68.0   \n",
       " ...                      ...      ...                   ...   \n",
       " 4003                     NaN      NaN                   NaN   \n",
       " 4004                     NaN      NaN                   NaN   \n",
       " 4005                     NaN      NaN                   NaN   \n",
       " 4006                     NaN      NaN                   NaN   \n",
       " 4007                     NaN      NaN                   NaN   \n",
       " \n",
       "      number of open complaints     policy type  vehicle class  \\\n",
       " 0                       1/0/00   Personal Auto  Four-Door Car   \n",
       " 1                       1/0/00   Personal Auto  Four-Door Car   \n",
       " 2                       1/0/00   Personal Auto   Two-Door Car   \n",
       " 3                       1/0/00  Corporate Auto            SUV   \n",
       " 4                       1/0/00   Personal Auto  Four-Door Car   \n",
       " ...                        ...             ...            ...   \n",
       " 4003                       NaN             NaN            NaN   \n",
       " 4004                       NaN             NaN            NaN   \n",
       " 4005                       NaN             NaN            NaN   \n",
       " 4006                       NaN             NaN            NaN   \n",
       " 4007                       NaN             NaN            NaN   \n",
       " \n",
       "       total claim amount  \n",
       " 0               2.704934  \n",
       " 1            1131.464935  \n",
       " 2             566.472247  \n",
       " 3             529.881344  \n",
       " 4              17.269323  \n",
       " ...                  ...  \n",
       " 4003                 NaN  \n",
       " 4004                 NaN  \n",
       " 4005                 NaN  \n",
       " 4006                 NaN  \n",
       " 4007                 NaN  \n",
       " \n",
       " [4008 rows x 11 columns],\n",
       "     customer          st gender education customer lifetime value  income  \\\n",
       " 0    GS98873     Arizona      F  Bachelor              323912.47%   16061   \n",
       " 1    CW49887  California      F    Master              462680.11%   79487   \n",
       " 2    MY31220  California      F   College              899704.02%   54230   \n",
       " 3    UH35128      Oregon      F   College             2580706.30%   71210   \n",
       " 4    WH52799     Arizona      F   College              380812.21%   94903   \n",
       " ..       ...         ...    ...       ...                     ...     ...   \n",
       " 991  HV85198     Arizona      M    Master              847141.75%   63513   \n",
       " 992  BS91566     Arizona      F   College              543121.91%   58161   \n",
       " 993  IL40123      Nevada      F   College              568964.41%   83640   \n",
       " 994  MY32149  California      F    Master              368672.38%       0   \n",
       " 995  SA91515  California      M  Bachelor              399258.39%       0   \n",
       " \n",
       "      monthly premium auto number of open complaints  total claim amount  \\\n",
       " 0                      88                    1/0/00          633.600000   \n",
       " 1                     114                    1/0/00          547.200000   \n",
       " 2                     112                    1/0/00          537.600000   \n",
       " 3                     214                    1/1/00         1027.200000   \n",
       " 4                      94                    1/0/00          451.200000   \n",
       " ..                    ...                       ...                 ...   \n",
       " 991                    70                    1/0/00          185.667213   \n",
       " 992                    68                    1/0/00          140.747286   \n",
       " 993                    70                    1/0/00          471.050488   \n",
       " 994                    96                    1/0/00           28.460568   \n",
       " 995                   111                    1/0/00          700.349052   \n",
       " \n",
       "         policy type  vehicle class  \n",
       " 0     Personal Auto  Four-Door Car  \n",
       " 1      Special Auto            SUV  \n",
       " 2     Personal Auto   Two-Door Car  \n",
       " 3     Personal Auto     Luxury Car  \n",
       " 4    Corporate Auto   Two-Door Car  \n",
       " ..              ...            ...  \n",
       " 991   Personal Auto  Four-Door Car  \n",
       " 992  Corporate Auto  Four-Door Car  \n",
       " 993  Corporate Auto   Two-Door Car  \n",
       " 994   Personal Auto   Two-Door Car  \n",
       " 995   Personal Auto            SUV  \n",
       " \n",
       " [996 rows x 11 columns],\n",
       "      customer       state  customer lifetime value             education  \\\n",
       " 0     SA25987  Washington              3479.137523  High School or Below   \n",
       " 1     TB86706     Arizona              2502.637401                Master   \n",
       " 2     ZL73902      Nevada              3265.156348              Bachelor   \n",
       " 3     KX23516  California              4455.843406  High School or Below   \n",
       " 4     FN77294  California              7704.958480  High School or Below   \n",
       " ...       ...         ...                      ...                   ...   \n",
       " 7065  LA72316  California             23405.987980              Bachelor   \n",
       " 7066  PK87824  California              3096.511217               College   \n",
       " 7067  TD14365  California              8163.890428              Bachelor   \n",
       " 7068  UP19263  California              7524.442436               College   \n",
       " 7069  Y167826  California              2611.836866               College   \n",
       " \n",
       "      gender  income  monthly premium auto  number of open complaints  \\\n",
       " 0         M       0                   104                          0   \n",
       " 1         M       0                    66                          0   \n",
       " 2         F   25820                    82                          0   \n",
       " 3         F       0                   121                          0   \n",
       " 4         M   30366                   101                          2   \n",
       " ...     ...     ...                   ...                        ...   \n",
       " 7065      M   71941                    73                          0   \n",
       " 7066      F   21604                    79                          0   \n",
       " 7067      M       0                    85                          3   \n",
       " 7068      M   21941                    96                          0   \n",
       " 7069      M       0                    77                          0   \n",
       " \n",
       "          policy type  total claim amount  vehicle class  \n",
       " 0      Personal Auto          499.200000   Two-Door Car  \n",
       " 1      Personal Auto            3.468912   Two-Door Car  \n",
       " 2      Personal Auto          393.600000  Four-Door Car  \n",
       " 3      Personal Auto          699.615192            SUV  \n",
       " 4      Personal Auto          484.800000            SUV  \n",
       " ...              ...                 ...            ...  \n",
       " 7065   Personal Auto          198.234764  Four-Door Car  \n",
       " 7066  Corporate Auto          379.200000  Four-Door Car  \n",
       " 7067  Corporate Auto          790.784983  Four-Door Car  \n",
       " 7068   Personal Auto          691.200000  Four-Door Car  \n",
       " 7069  Corporate Auto          369.600000   Two-Door Car  \n",
       " \n",
       " [7070 rows x 11 columns]]"
      ]
     },
<<<<<<< HEAD
     "execution_count": 5,
=======
     "execution_count": 251,
>>>>>>> b2579afc3260c43ee949c566ee934cbd28dc25af
     "metadata": {},
     "output_type": "execute_result"
    }
   ],
   "source": [
    "# Apply to_lower\n",
    "\n",
    "list(map(lower_case_column_names,file_list ))\n"
   ]
  },
  {
   "cell_type": "code",
<<<<<<< HEAD
   "execution_count": 6,
   "id": "5e0cf52a",
=======
   "execution_count": 252,
>>>>>>> b2579afc3260c43ee949c566ee934cbd28dc25af
   "metadata": {},
   "outputs": [
    {
     "data": {
      "text/plain": [
       "[     customer       state gender             education  \\\n",
       " 0     RB50392  Washington    NaN                Master   \n",
       " 1     QZ44356     Arizona      F              Bachelor   \n",
       " 2     AI49188      Nevada      F              Bachelor   \n",
       " 3     WW63253  California      M              Bachelor   \n",
       " 4     GA49547  Washington      M  High School or Below   \n",
       " ...       ...         ...    ...                   ...   \n",
       " 4003      NaN         NaN    NaN                   NaN   \n",
       " 4004      NaN         NaN    NaN                   NaN   \n",
       " 4005      NaN         NaN    NaN                   NaN   \n",
       " 4006      NaN         NaN    NaN                   NaN   \n",
       " 4007      NaN         NaN    NaN                   NaN   \n",
       " \n",
       "      customer lifetime value   income  monthly premium auto  \\\n",
       " 0                        NaN      0.0                1000.0   \n",
       " 1                 697953.59%      0.0                  94.0   \n",
       " 2                1288743.17%  48767.0                 108.0   \n",
       " 3                 764586.18%      0.0                 106.0   \n",
       " 4                 536307.65%  36357.0                  68.0   \n",
       " ...                      ...      ...                   ...   \n",
       " 4003                     NaN      NaN                   NaN   \n",
       " 4004                     NaN      NaN                   NaN   \n",
       " 4005                     NaN      NaN                   NaN   \n",
       " 4006                     NaN      NaN                   NaN   \n",
       " 4007                     NaN      NaN                   NaN   \n",
       " \n",
       "      number of open complaints     policy type  vehicle class  \\\n",
       " 0                       1/0/00   Personal Auto  Four-Door Car   \n",
       " 1                       1/0/00   Personal Auto  Four-Door Car   \n",
       " 2                       1/0/00   Personal Auto   Two-Door Car   \n",
       " 3                       1/0/00  Corporate Auto            SUV   \n",
       " 4                       1/0/00   Personal Auto  Four-Door Car   \n",
       " ...                        ...             ...            ...   \n",
       " 4003                       NaN             NaN            NaN   \n",
       " 4004                       NaN             NaN            NaN   \n",
       " 4005                       NaN             NaN            NaN   \n",
       " 4006                       NaN             NaN            NaN   \n",
       " 4007                       NaN             NaN            NaN   \n",
       " \n",
       "       total claim amount  \n",
       " 0               2.704934  \n",
       " 1            1131.464935  \n",
       " 2             566.472247  \n",
       " 3             529.881344  \n",
       " 4              17.269323  \n",
       " ...                  ...  \n",
       " 4003                 NaN  \n",
       " 4004                 NaN  \n",
       " 4005                 NaN  \n",
       " 4006                 NaN  \n",
       " 4007                 NaN  \n",
       " \n",
       " [4008 rows x 11 columns],\n",
       "     customer       state gender education customer lifetime value  income  \\\n",
       " 0    GS98873     Arizona      F  Bachelor              323912.47%   16061   \n",
       " 1    CW49887  California      F    Master              462680.11%   79487   \n",
       " 2    MY31220  California      F   College              899704.02%   54230   \n",
       " 3    UH35128      Oregon      F   College             2580706.30%   71210   \n",
       " 4    WH52799     Arizona      F   College              380812.21%   94903   \n",
       " ..       ...         ...    ...       ...                     ...     ...   \n",
       " 991  HV85198     Arizona      M    Master              847141.75%   63513   \n",
       " 992  BS91566     Arizona      F   College              543121.91%   58161   \n",
       " 993  IL40123      Nevada      F   College              568964.41%   83640   \n",
       " 994  MY32149  California      F    Master              368672.38%       0   \n",
       " 995  SA91515  California      M  Bachelor              399258.39%       0   \n",
       " \n",
       "      monthly premium auto number of open complaints  total claim amount  \\\n",
       " 0                      88                    1/0/00          633.600000   \n",
       " 1                     114                    1/0/00          547.200000   \n",
       " 2                     112                    1/0/00          537.600000   \n",
       " 3                     214                    1/1/00         1027.200000   \n",
       " 4                      94                    1/0/00          451.200000   \n",
       " ..                    ...                       ...                 ...   \n",
       " 991                    70                    1/0/00          185.667213   \n",
       " 992                    68                    1/0/00          140.747286   \n",
       " 993                    70                    1/0/00          471.050488   \n",
       " 994                    96                    1/0/00           28.460568   \n",
       " 995                   111                    1/0/00          700.349052   \n",
       " \n",
       "         policy type  vehicle class  \n",
       " 0     Personal Auto  Four-Door Car  \n",
       " 1      Special Auto            SUV  \n",
       " 2     Personal Auto   Two-Door Car  \n",
       " 3     Personal Auto     Luxury Car  \n",
       " 4    Corporate Auto   Two-Door Car  \n",
       " ..              ...            ...  \n",
       " 991   Personal Auto  Four-Door Car  \n",
       " 992  Corporate Auto  Four-Door Car  \n",
       " 993  Corporate Auto   Two-Door Car  \n",
       " 994   Personal Auto   Two-Door Car  \n",
       " 995   Personal Auto            SUV  \n",
       " \n",
       " [996 rows x 11 columns],\n",
       "      customer       state  customer lifetime value             education  \\\n",
       " 0     SA25987  Washington              3479.137523  High School or Below   \n",
       " 1     TB86706     Arizona              2502.637401                Master   \n",
       " 2     ZL73902      Nevada              3265.156348              Bachelor   \n",
       " 3     KX23516  California              4455.843406  High School or Below   \n",
       " 4     FN77294  California              7704.958480  High School or Below   \n",
       " ...       ...         ...                      ...                   ...   \n",
       " 7065  LA72316  California             23405.987980              Bachelor   \n",
       " 7066  PK87824  California              3096.511217               College   \n",
       " 7067  TD14365  California              8163.890428              Bachelor   \n",
       " 7068  UP19263  California              7524.442436               College   \n",
       " 7069  Y167826  California              2611.836866               College   \n",
       " \n",
       "      gender  income  monthly premium auto  number of open complaints  \\\n",
       " 0         M       0                   104                          0   \n",
       " 1         M       0                    66                          0   \n",
       " 2         F   25820                    82                          0   \n",
       " 3         F       0                   121                          0   \n",
       " 4         M   30366                   101                          2   \n",
       " ...     ...     ...                   ...                        ...   \n",
       " 7065      M   71941                    73                          0   \n",
       " 7066      F   21604                    79                          0   \n",
       " 7067      M       0                    85                          3   \n",
       " 7068      M   21941                    96                          0   \n",
       " 7069      M       0                    77                          0   \n",
       " \n",
       "          policy type  total claim amount  vehicle class  \n",
       " 0      Personal Auto          499.200000   Two-Door Car  \n",
       " 1      Personal Auto            3.468912   Two-Door Car  \n",
       " 2      Personal Auto          393.600000  Four-Door Car  \n",
       " 3      Personal Auto          699.615192            SUV  \n",
       " 4      Personal Auto          484.800000            SUV  \n",
       " ...              ...                 ...            ...  \n",
       " 7065   Personal Auto          198.234764  Four-Door Car  \n",
       " 7066  Corporate Auto          379.200000  Four-Door Car  \n",
       " 7067  Corporate Auto          790.784983  Four-Door Car  \n",
       " 7068   Personal Auto          691.200000  Four-Door Car  \n",
       " 7069  Corporate Auto          369.600000   Two-Door Car  \n",
       " \n",
       " [7070 rows x 11 columns]]"
      ]
     },
<<<<<<< HEAD
     "execution_count": 6,
=======
     "execution_count": 252,
>>>>>>> b2579afc3260c43ee949c566ee934cbd28dc25af
     "metadata": {},
     "output_type": "execute_result"
    }
   ],
   "source": [
    "# define rename \n",
    "\n",
    "def rename_columns(file_list):\n",
    "    file_list.rename(columns={'st':'state'}, inplace=True )\n",
    "    return file_list\n",
    "\n",
    "# apply rename \n",
    "list(map(rename_columns, file_list))"
   ]
  },
  {
   "cell_type": "markdown",
   "id": "8a7f1dc9",
   "metadata": {},
   "source": [
    "## define drop"
   ]
  },
  {
   "cell_type": "code",
<<<<<<< HEAD
   "execution_count": 7,
   "id": "594500b0",
=======
   "execution_count": 253,
>>>>>>> b2579afc3260c43ee949c566ee934cbd28dc25af
   "metadata": {},
   "outputs": [],
   "source": [
    "def drop_columns(file_list) :\n",
    "    file_list.drop(columns=['customer'], inplace=True)\n",
    "    return file_list"
   ]
  },
  {
   "cell_type": "code",
<<<<<<< HEAD
   "execution_count": 8,
   "id": "4b4431fb",
=======
   "execution_count": 254,
>>>>>>> b2579afc3260c43ee949c566ee934cbd28dc25af
   "metadata": {},
   "outputs": [
    {
     "data": {
      "text/html": [
       "<div>\n",
       "<style scoped>\n",
       "    .dataframe tbody tr th:only-of-type {\n",
       "        vertical-align: middle;\n",
       "    }\n",
       "\n",
       "    .dataframe tbody tr th {\n",
       "        vertical-align: top;\n",
       "    }\n",
       "\n",
       "    .dataframe thead th {\n",
       "        text-align: right;\n",
       "    }\n",
       "</style>\n",
       "<table border=\"1\" class=\"dataframe\">\n",
       "  <thead>\n",
       "    <tr style=\"text-align: right;\">\n",
       "      <th></th>\n",
       "      <th>customer</th>\n",
       "      <th>state</th>\n",
       "      <th>gender</th>\n",
       "      <th>education</th>\n",
       "      <th>customer lifetime value</th>\n",
       "      <th>income</th>\n",
       "      <th>monthly premium auto</th>\n",
       "      <th>number of open complaints</th>\n",
       "      <th>policy type</th>\n",
       "      <th>vehicle class</th>\n",
       "      <th>total claim amount</th>\n",
       "    </tr>\n",
       "  </thead>\n",
       "  <tbody>\n",
       "    <tr>\n",
       "      <th>0</th>\n",
       "      <td>RB50392</td>\n",
       "      <td>Washington</td>\n",
       "      <td>NaN</td>\n",
       "      <td>Master</td>\n",
       "      <td>NaN</td>\n",
       "      <td>0.0</td>\n",
       "      <td>1000.0</td>\n",
       "      <td>1/0/00</td>\n",
       "      <td>Personal Auto</td>\n",
       "      <td>Four-Door Car</td>\n",
       "      <td>2.704934</td>\n",
       "    </tr>\n",
       "    <tr>\n",
       "      <th>1</th>\n",
       "      <td>QZ44356</td>\n",
       "      <td>Arizona</td>\n",
       "      <td>F</td>\n",
       "      <td>Bachelor</td>\n",
       "      <td>697953.59%</td>\n",
       "      <td>0.0</td>\n",
       "      <td>94.0</td>\n",
       "      <td>1/0/00</td>\n",
       "      <td>Personal Auto</td>\n",
       "      <td>Four-Door Car</td>\n",
       "      <td>1131.464935</td>\n",
       "    </tr>\n",
       "    <tr>\n",
       "      <th>2</th>\n",
       "      <td>AI49188</td>\n",
       "      <td>Nevada</td>\n",
       "      <td>F</td>\n",
       "      <td>Bachelor</td>\n",
       "      <td>1288743.17%</td>\n",
       "      <td>48767.0</td>\n",
       "      <td>108.0</td>\n",
       "      <td>1/0/00</td>\n",
       "      <td>Personal Auto</td>\n",
       "      <td>Two-Door Car</td>\n",
       "      <td>566.472247</td>\n",
       "    </tr>\n",
       "    <tr>\n",
       "      <th>3</th>\n",
       "      <td>WW63253</td>\n",
       "      <td>California</td>\n",
       "      <td>M</td>\n",
       "      <td>Bachelor</td>\n",
       "      <td>764586.18%</td>\n",
       "      <td>0.0</td>\n",
       "      <td>106.0</td>\n",
       "      <td>1/0/00</td>\n",
       "      <td>Corporate Auto</td>\n",
       "      <td>SUV</td>\n",
       "      <td>529.881344</td>\n",
       "    </tr>\n",
       "    <tr>\n",
       "      <th>4</th>\n",
       "      <td>GA49547</td>\n",
       "      <td>Washington</td>\n",
       "      <td>M</td>\n",
       "      <td>High School or Below</td>\n",
       "      <td>536307.65%</td>\n",
       "      <td>36357.0</td>\n",
       "      <td>68.0</td>\n",
       "      <td>1/0/00</td>\n",
       "      <td>Personal Auto</td>\n",
       "      <td>Four-Door Car</td>\n",
       "      <td>17.269323</td>\n",
       "    </tr>\n",
       "    <tr>\n",
       "      <th>...</th>\n",
       "      <td>...</td>\n",
       "      <td>...</td>\n",
       "      <td>...</td>\n",
       "      <td>...</td>\n",
       "      <td>...</td>\n",
       "      <td>...</td>\n",
       "      <td>...</td>\n",
       "      <td>...</td>\n",
       "      <td>...</td>\n",
       "      <td>...</td>\n",
       "      <td>...</td>\n",
       "    </tr>\n",
       "    <tr>\n",
       "      <th>12069</th>\n",
       "      <td>LA72316</td>\n",
       "      <td>California</td>\n",
       "      <td>M</td>\n",
       "      <td>Bachelor</td>\n",
       "      <td>23406</td>\n",
       "      <td>71941.0</td>\n",
       "      <td>73.0</td>\n",
       "      <td>0</td>\n",
       "      <td>Personal Auto</td>\n",
       "      <td>Four-Door Car</td>\n",
       "      <td>198.234764</td>\n",
       "    </tr>\n",
       "    <tr>\n",
       "      <th>12070</th>\n",
       "      <td>PK87824</td>\n",
       "      <td>California</td>\n",
       "      <td>F</td>\n",
       "      <td>College</td>\n",
       "      <td>3096.51</td>\n",
       "      <td>21604.0</td>\n",
       "      <td>79.0</td>\n",
       "      <td>0</td>\n",
       "      <td>Corporate Auto</td>\n",
       "      <td>Four-Door Car</td>\n",
       "      <td>379.200000</td>\n",
       "    </tr>\n",
       "    <tr>\n",
       "      <th>12071</th>\n",
       "      <td>TD14365</td>\n",
       "      <td>California</td>\n",
       "      <td>M</td>\n",
       "      <td>Bachelor</td>\n",
       "      <td>8163.89</td>\n",
       "      <td>0.0</td>\n",
       "      <td>85.0</td>\n",
       "      <td>3</td>\n",
       "      <td>Corporate Auto</td>\n",
       "      <td>Four-Door Car</td>\n",
       "      <td>790.784983</td>\n",
       "    </tr>\n",
       "    <tr>\n",
       "      <th>12072</th>\n",
       "      <td>UP19263</td>\n",
       "      <td>California</td>\n",
       "      <td>M</td>\n",
       "      <td>College</td>\n",
       "      <td>7524.44</td>\n",
       "      <td>21941.0</td>\n",
       "      <td>96.0</td>\n",
       "      <td>0</td>\n",
       "      <td>Personal Auto</td>\n",
       "      <td>Four-Door Car</td>\n",
       "      <td>691.200000</td>\n",
       "    </tr>\n",
       "    <tr>\n",
       "      <th>12073</th>\n",
       "      <td>Y167826</td>\n",
       "      <td>California</td>\n",
       "      <td>M</td>\n",
       "      <td>College</td>\n",
       "      <td>2611.84</td>\n",
       "      <td>0.0</td>\n",
       "      <td>77.0</td>\n",
       "      <td>0</td>\n",
       "      <td>Corporate Auto</td>\n",
       "      <td>Two-Door Car</td>\n",
       "      <td>369.600000</td>\n",
       "    </tr>\n",
       "  </tbody>\n",
       "</table>\n",
       "<p>12074 rows × 11 columns</p>\n",
       "</div>"
      ],
      "text/plain": [
       "      customer       state gender             education  \\\n",
       "0      RB50392  Washington    NaN                Master   \n",
       "1      QZ44356     Arizona      F              Bachelor   \n",
       "2      AI49188      Nevada      F              Bachelor   \n",
       "3      WW63253  California      M              Bachelor   \n",
       "4      GA49547  Washington      M  High School or Below   \n",
       "...        ...         ...    ...                   ...   \n",
       "12069  LA72316  California      M              Bachelor   \n",
       "12070  PK87824  California      F               College   \n",
       "12071  TD14365  California      M              Bachelor   \n",
       "12072  UP19263  California      M               College   \n",
       "12073  Y167826  California      M               College   \n",
       "\n",
       "      customer lifetime value   income  monthly premium auto  \\\n",
       "0                         NaN      0.0                1000.0   \n",
       "1                  697953.59%      0.0                  94.0   \n",
       "2                 1288743.17%  48767.0                 108.0   \n",
       "3                  764586.18%      0.0                 106.0   \n",
       "4                  536307.65%  36357.0                  68.0   \n",
       "...                       ...      ...                   ...   \n",
       "12069                   23406  71941.0                  73.0   \n",
       "12070                 3096.51  21604.0                  79.0   \n",
       "12071                 8163.89      0.0                  85.0   \n",
       "12072                 7524.44  21941.0                  96.0   \n",
       "12073                 2611.84      0.0                  77.0   \n",
       "\n",
       "      number of open complaints     policy type  vehicle class  \\\n",
       "0                        1/0/00   Personal Auto  Four-Door Car   \n",
       "1                        1/0/00   Personal Auto  Four-Door Car   \n",
       "2                        1/0/00   Personal Auto   Two-Door Car   \n",
       "3                        1/0/00  Corporate Auto            SUV   \n",
       "4                        1/0/00   Personal Auto  Four-Door Car   \n",
       "...                         ...             ...            ...   \n",
       "12069                         0   Personal Auto  Four-Door Car   \n",
       "12070                         0  Corporate Auto  Four-Door Car   \n",
       "12071                         3  Corporate Auto  Four-Door Car   \n",
       "12072                         0   Personal Auto  Four-Door Car   \n",
       "12073                         0  Corporate Auto   Two-Door Car   \n",
       "\n",
       "       total claim amount  \n",
       "0                2.704934  \n",
       "1             1131.464935  \n",
       "2              566.472247  \n",
       "3              529.881344  \n",
       "4               17.269323  \n",
       "...                   ...  \n",
       "12069          198.234764  \n",
       "12070          379.200000  \n",
       "12071          790.784983  \n",
       "12072          691.200000  \n",
       "12073          369.600000  \n",
       "\n",
       "[12074 rows x 11 columns]"
      ]
     },
<<<<<<< HEAD
     "execution_count": 8,
=======
     "execution_count": 254,
>>>>>>> b2579afc3260c43ee949c566ee934cbd28dc25af
     "metadata": {},
     "output_type": "execute_result"
    }
   ],
   "source": [
<<<<<<< HEAD
    "files_all = pd.concat(file_list, axis=0)\n",
=======
    "# concat \n",
    "\n",
    "files_all = pd.concat(file_list, axis=0, ignore_index = True )\n",
>>>>>>> b2579afc3260c43ee949c566ee934cbd28dc25af
    "\n",
    "files_all"
   ]
  },
  {
   "cell_type": "code",
<<<<<<< HEAD
   "execution_count": 9,
   "id": "69d32c25",
=======
   "execution_count": 255,
>>>>>>> b2579afc3260c43ee949c566ee934cbd28dc25af
   "metadata": {},
   "outputs": [
    {
     "name": "stdout",
     "output_type": "stream",
     "text": [
      "<class 'pandas.core.frame.DataFrame'>\n",
      "RangeIndex: 12074 entries, 0 to 12073\n",
      "Data columns (total 11 columns):\n",
      " #   Column                     Non-Null Count  Dtype  \n",
      "---  ------                     --------------  -----  \n",
      " 0   customer                   9137 non-null   object \n",
      " 1   state                      9137 non-null   object \n",
      " 2   gender                     9015 non-null   object \n",
      " 3   education                  9137 non-null   object \n",
      " 4   customer lifetime value    9130 non-null   object \n",
      " 5   income                     9137 non-null   float64\n",
      " 6   monthly premium auto       9137 non-null   float64\n",
      " 7   number of open complaints  9137 non-null   object \n",
      " 8   policy type                9137 non-null   object \n",
      " 9   vehicle class              9137 non-null   object \n",
      " 10  total claim amount         9137 non-null   float64\n",
      "dtypes: float64(3), object(8)\n",
      "memory usage: 1.0+ MB\n"
     ]
    }
   ],
   "source": [
    "# data type \n",
    "\n",
    "#files_all.describe\n",
    "files_all.info()"
   ]
  },
  {
   "cell_type": "code",
<<<<<<< HEAD
   "execution_count": 10,
   "id": "a6503816",
=======
   "execution_count": 256,
>>>>>>> b2579afc3260c43ee949c566ee934cbd28dc25af
   "metadata": {},
   "outputs": [
    {
     "name": "stdout",
     "output_type": "stream",
     "text": [
      "<class 'pandas.core.frame.DataFrame'>\n",
      "RangeIndex: 12074 entries, 0 to 12073\n",
      "Data columns (total 11 columns):\n",
      " #   Column                     Non-Null Count  Dtype  \n",
      "---  ------                     --------------  -----  \n",
      " 0   customer                   9137 non-null   object \n",
      " 1   state                      9137 non-null   object \n",
      " 2   gender                     9015 non-null   object \n",
      " 3   education                  9137 non-null   object \n",
      " 4   customer lifetime value    9130 non-null   object \n",
      " 5   income                     9137 non-null   float64\n",
      " 6   monthly premium auto       9137 non-null   float64\n",
      " 7   number of open complaints  9137 non-null   object \n",
      " 8   policy type                9137 non-null   object \n",
      " 9   vehicle class              9137 non-null   object \n",
      " 10  total claim amount         9137 non-null   float64\n",
      "dtypes: float64(3), object(8)\n",
      "memory usage: 1.0+ MB\n"
     ]
    }
   ],
   "source": [
    "files_all.info()"
   ]
  },
  {
   "cell_type": "code",
<<<<<<< HEAD
   "execution_count": 11,
   "id": "6248a180",
=======
   "execution_count": 257,
>>>>>>> b2579afc3260c43ee949c566ee934cbd28dc25af
   "metadata": {},
   "outputs": [],
   "source": [
    "## String Operations \n",
    "## remove % 'customer lifetime value'\n",
    "#files_all 'number of open complaints' \n",
    "\n",
    "#get_middle_number =  lambda x: x.extract(r'/(\\d)/') if type(x) == str else x\n",
    "#files_all['number of open complaints'] = files_all['number of open complaints'].apply(get_middle_number)"
   ]
  },
  {
   "cell_type": "code",
<<<<<<< HEAD
   "execution_count": 12,
   "id": "4d7ab3dc",
   "metadata": {},
   "outputs": [],
   "source": [
    "files_all['customer lifetime value'] = files_all['customer lifetime value'].str.rstrip('%')"
   ]
  },
  {
   "cell_type": "code",
   "execution_count": 13,
   "id": "66978991",
=======
   "execution_count": 258,
>>>>>>> b2579afc3260c43ee949c566ee934cbd28dc25af
   "metadata": {},
   "outputs": [],
   "source": [
    "files_all['number of open complaints'] = files_all['number of open complaints'].str.extract(r'/(\\d)/')"
   ]
  },
  {
   "cell_type": "code",
<<<<<<< HEAD
   "execution_count": 14,
   "id": "e512e17a",
=======
   "execution_count": 259,
>>>>>>> b2579afc3260c43ee949c566ee934cbd28dc25af
   "metadata": {},
   "outputs": [
    {
     "data": {
      "text/plain": [
       "array(['0', '2', '1', '3', '5', '4', nan], dtype=object)"
      ]
     },
<<<<<<< HEAD
     "execution_count": 14,
=======
     "execution_count": 259,
>>>>>>> b2579afc3260c43ee949c566ee934cbd28dc25af
     "metadata": {},
     "output_type": "execute_result"
    }
   ],
   "source": [
    "files_all['number of open complaints'].unique()"
   ]
  },
  {
   "cell_type": "code",
<<<<<<< HEAD
   "execution_count": 15,
   "id": "5a0fb85c",
=======
   "execution_count": 260,
   "metadata": {},
   "outputs": [],
   "source": [
    "# Get repex\n",
    "\n",
    "#get_middle_number =  lambda x: x.extract(r'/(\\d)/') if type(x) == str else x\n",
    "#files_all['number of open complaints'] = files_all['number of open complaints'].apply(get_middle_number)"
   ]
  },
  {
   "cell_type": "code",
   "execution_count": 261,
   "metadata": {},
   "outputs": [
    {
     "data": {
      "text/plain": [
       "False    2067\n",
       "Name: number of open complaints, dtype: int64"
      ]
     },
     "execution_count": 261,
     "metadata": {},
     "output_type": "execute_result"
    }
   ],
   "source": [
    "files_all['number of open complaints'].dropna().isna().value_counts()"
   ]
  },
  {
   "cell_type": "code",
   "execution_count": null,
>>>>>>> b2579afc3260c43ee949c566ee934cbd28dc25af
   "metadata": {},
   "outputs": [],
   "source": []
  },
  {
   "cell_type": "code",
   "execution_count": 262,
   "metadata": {
    "scrolled": true
   },
   "outputs": [
    {
<<<<<<< HEAD
     "data": {
      "text/plain": [
       "array(['0', '2', '1', '3', '5', '4', nan], dtype=object)"
      ]
     },
     "execution_count": 15,
     "metadata": {},
     "output_type": "execute_result"
=======
     "name": "stdout",
     "output_type": "stream",
     "text": [
      "10007\n"
     ]
>>>>>>> b2579afc3260c43ee949c566ee934cbd28dc25af
    }
   ],
   "source": [
    "#files_all['number of open complaints'].unique()\n",
    "\n",
    "files_all['number of open complaints'].dropna()\n",
    "files_all['number of open complaints'].unique()\n",
    "\n",
<<<<<<< HEAD
    "#files_all['number of open complaints'].isna().sum()\n",
    "\n",
    "#files_all['number of open complaints'].fillna((files_all['number of open complaints'].mean()), inplace=True)"
   ]
  },
  {
   "cell_type": "markdown",
   "id": "5e9b6678",
   "metadata": {},
   "source": [
    "## Remove dublicates "
=======
    "print(files_all['number of open complaints'].isna().sum())\n",
    "\n",
    "\n",
    "#files_all['number of open complaints'].dropna().fillna((files_all['number of open complaints'].mean()), inplace=True)"
>>>>>>> b2579afc3260c43ee949c566ee934cbd28dc25af
   ]
  },
  {
   "cell_type": "code",
<<<<<<< HEAD
   "execution_count": 16,
   "id": "dfc8712d",
=======
   "execution_count": 263,
>>>>>>> b2579afc3260c43ee949c566ee934cbd28dc25af
   "metadata": {},
   "outputs": [],
   "source": [
    "## remove dublicates \n",
    "\n",
    "files_all.drop_duplicates(subset=['customer lifetime value', 'income', 'total claim amount' ], keep='first', inplace=True)\n"
   ]
  },
  {
<<<<<<< HEAD
   "cell_type": "markdown",
   "id": "e37f8670",
   "metadata": {},
   "source": [
    "## Replacing null values – Replace missing values with means of the column (for numerical columns)"
   ]
  },
  {
   "cell_type": "markdown",
   "id": "cb4b87cf",
=======
   "cell_type": "code",
   "execution_count": 264,
>>>>>>> b2579afc3260c43ee949c566ee934cbd28dc25af
   "metadata": {},
   "source": [
    "## Cleaning up gender"
   ]
  },
  {
   "cell_type": "markdown",
   "metadata": {},
   "source": [
    "## Replacing null values – Replace missing values with means of the column (for numerical columns)"
   ]
  },
  {
   "cell_type": "code",
   "execution_count": 265,
   "metadata": {},
   "outputs": [],
   "source": [
    "\n",
    "\n",
    "## @ Team: need to write a function\n",
    "numerics = ['int16', 'int32', 'int64', 'float16', 'float32', 'float64']\n",
    "numeric_columns = (list(files_all.select_dtypes(numerics).columns))\n",
    "\n",
    "for col in numeric_columns: \n",
    "    files_all[col].fillna((files_all[col].mean()), inplace=True)\n"
   ]
  },
  {
   "cell_type": "code",
<<<<<<< HEAD
   "execution_count": 17,
   "id": "5c11b6cb",
   "metadata": {},
   "outputs": [
    {
     "ename": "SyntaxError",
     "evalue": "invalid syntax (737423248.py, line 1)",
     "output_type": "error",
     "traceback": [
      "\u001b[0;36m  File \u001b[0;32m\"/var/folders/np/_4nsf5195pl0jfyhg25kr9q80000gn/T/ipykernel_12296/737423248.py\"\u001b[0;36m, line \u001b[0;32m1\u001b[0m\n\u001b[0;31m    files_all.apply(, .fillna())\u001b[0m\n\u001b[0m                    ^\u001b[0m\n\u001b[0;31mSyntaxError\u001b[0m\u001b[0;31m:\u001b[0m invalid syntax\n"
     ]
    }
   ],
   "source": [
    "files_all.apply(, .fillna())   \n",
    "\n",
    "files_all['monthly premium auto'].fillna((files_all['monthly premium auto'].mean()), inplace=True)\n",
    "\n",
    "#files_all['monthly premium auto'].isnull().values.any()"
=======
   "execution_count": 266,
   "metadata": {},
   "outputs": [
    {
     "data": {
      "text/plain": [
       "False    7429\n",
       "Name: monthly premium auto, dtype: int64"
      ]
     },
     "execution_count": 266,
     "metadata": {},
     "output_type": "execute_result"
    }
   ],
   "source": [
    "files_all['monthly premium auto'].isna().value_counts()"
>>>>>>> b2579afc3260c43ee949c566ee934cbd28dc25af
   ]
  },
  {
   "cell_type": "code",
<<<<<<< HEAD
   "execution_count": null,
   "id": "089ccc2c",
   "metadata": {},
   "outputs": [],
=======
   "execution_count": 267,
   "metadata": {},
   "outputs": [
    {
     "name": "stderr",
     "output_type": "stream",
     "text": [
      "C:\\Users\\Lenovo\\anaconda3\\lib\\site-packages\\ipykernel_launcher.py:4: SettingWithCopyWarning: \n",
      "A value is trying to be set on a copy of a slice from a DataFrame\n",
      "\n",
      "See the caveats in the documentation: https://pandas.pydata.org/pandas-docs/stable/user_guide/indexing.html#returning-a-view-versus-a-copy\n",
      "  after removing the cwd from sys.path.\n",
      "C:\\Users\\Lenovo\\anaconda3\\lib\\site-packages\\ipykernel_launcher.py:5: SettingWithCopyWarning: \n",
      "A value is trying to be set on a copy of a slice from a DataFrame\n",
      "\n",
      "See the caveats in the documentation: https://pandas.pydata.org/pandas-docs/stable/user_guide/indexing.html#returning-a-view-versus-a-copy\n",
      "  \"\"\"\n",
      "C:\\Users\\Lenovo\\anaconda3\\lib\\site-packages\\ipykernel_launcher.py:6: SettingWithCopyWarning: \n",
      "A value is trying to be set on a copy of a slice from a DataFrame\n",
      "\n",
      "See the caveats in the documentation: https://pandas.pydata.org/pandas-docs/stable/user_guide/indexing.html#returning-a-view-versus-a-copy\n",
      "  \n"
     ]
    },
    {
     "data": {
      "text/plain": [
       "array([nan, 'F', 'M'], dtype=object)"
      ]
     },
     "execution_count": 267,
     "metadata": {},
     "output_type": "execute_result"
    }
   ],
>>>>>>> b2579afc3260c43ee949c566ee934cbd28dc25af
   "source": [
    "files_all.loc[:,'gender'][files_all['gender']=='Femal'] = \"F\"\n",
    "files_all.loc[:,'gender'][files_all['gender']=='female']= \"F\"\n",
    "files_all.loc[:,'gender'][files_all['gender']=='Male'] = 'M'\n",
    "          \n",
    "files_all['gender'].value_counts\n",
    "\n",
    "files_all.gender.unique()"
   ]
  },
  {
   "cell_type": "code",
<<<<<<< HEAD
   "execution_count": null,
   "id": "940d1a82",
   "metadata": {},
   "outputs": [],
=======
   "execution_count": 268,
   "metadata": {},
   "outputs": [
    {
     "data": {
      "text/plain": [
       "F    3774\n",
       "M    3533\n",
       "Name: gender, dtype: int64"
      ]
     },
     "execution_count": 268,
     "metadata": {},
     "output_type": "execute_result"
    }
   ],
>>>>>>> b2579afc3260c43ee949c566ee934cbd28dc25af
   "source": [
    "# check how many are na in gender\n",
    "\n",
    "files_all[files_all['gender'].isna()==True] \n",
    "\n",
    "files_all['gender'].value_counts(dropna=True)"
   ]
  },
  {
   "cell_type": "code",
<<<<<<< HEAD
   "execution_count": null,
   "id": "28de0c84",
=======
   "execution_count": 269,
>>>>>>> b2579afc3260c43ee949c566ee934cbd28dc25af
   "metadata": {},
   "outputs": [
    {
     "name": "stderr",
     "output_type": "stream",
     "text": [
      "C:\\Users\\Lenovo\\anaconda3\\lib\\site-packages\\ipykernel_launcher.py:8: SettingWithCopyWarning: \n",
      "A value is trying to be set on a copy of a slice from a DataFrame\n",
      "\n",
      "See the caveats in the documentation: https://pandas.pydata.org/pandas-docs/stable/user_guide/indexing.html#returning-a-view-versus-a-copy\n",
      "  \n",
      "C:\\Users\\Lenovo\\anaconda3\\lib\\site-packages\\ipykernel_launcher.py:9: SettingWithCopyWarning: \n",
      "A value is trying to be set on a copy of a slice from a DataFrame\n",
      "\n",
      "See the caveats in the documentation: https://pandas.pydata.org/pandas-docs/stable/user_guide/indexing.html#returning-a-view-versus-a-copy\n",
      "  if __name__ == '__main__':\n",
      "C:\\Users\\Lenovo\\anaconda3\\lib\\site-packages\\ipykernel_launcher.py:10: SettingWithCopyWarning: \n",
      "A value is trying to be set on a copy of a slice from a DataFrame\n",
      "\n",
      "See the caveats in the documentation: https://pandas.pydata.org/pandas-docs/stable/user_guide/indexing.html#returning-a-view-versus-a-copy\n",
      "  # Remove the CWD from sys.path while we load stuff.\n"
     ]
    }
   ],
   "source": [
    "## Cleaning up states"
   ]
  },
  {
   "cell_type": "code",
   "execution_count": 24,
   "id": "0b2f8057",
   "metadata": {},
   "outputs": [
    {
     "name": "stderr",
     "output_type": "stream",
     "text": [
      "/var/folders/np/_4nsf5195pl0jfyhg25kr9q80000gn/T/ipykernel_12296/3668924623.py:5: SettingWithCopyWarning: \n",
      "A value is trying to be set on a copy of a slice from a DataFrame\n",
      "\n",
      "See the caveats in the documentation: https://pandas.pydata.org/pandas-docs/stable/user_guide/indexing.html#returning-a-view-versus-a-copy\n",
      "  files_all.loc[:,'state'][(files_all['state']=='AZ')] = 'Arizona'\n",
      "/var/folders/np/_4nsf5195pl0jfyhg25kr9q80000gn/T/ipykernel_12296/3668924623.py:6: SettingWithCopyWarning: \n",
      "A value is trying to be set on a copy of a slice from a DataFrame\n",
      "\n",
      "See the caveats in the documentation: https://pandas.pydata.org/pandas-docs/stable/user_guide/indexing.html#returning-a-view-versus-a-copy\n",
      "  files_all.loc[:,'state'][(files_all['state']=='Cali')] = 'California'\n",
      "/var/folders/np/_4nsf5195pl0jfyhg25kr9q80000gn/T/ipykernel_12296/3668924623.py:7: SettingWithCopyWarning: \n",
      "A value is trying to be set on a copy of a slice from a DataFrame\n",
      "\n",
      "See the caveats in the documentation: https://pandas.pydata.org/pandas-docs/stable/user_guide/indexing.html#returning-a-view-versus-a-copy\n",
      "  files_all.loc[:,'state'][(files_all['state']=='WA')] = 'Washington'\n"
     ]
    }
   ],
   "source": [
    "files_all.state.unique()\n",
    "\n",
    "#files_all.loc[:,'gender'][files_all['gender']=='Male'] = 'M'\n",
    "\n",
    "files_all.loc[:,'state'][(files_all['state']=='AZ')] = 'Arizona'\n",
    "files_all.loc[:,'state'][(files_all['state']=='Cali')] = 'California'\n",
    "files_all.loc[:,'state'][(files_all['state']=='WA')] = 'Washington'\n"
   ]
  },
  {
   "cell_type": "code",
<<<<<<< HEAD
   "execution_count": 25,
   "id": "0ba81211",
=======
   "execution_count": 270,
>>>>>>> b2579afc3260c43ee949c566ee934cbd28dc25af
   "metadata": {},
   "outputs": [
    {
     "data": {
      "text/plain": [
       "array(['Washington', 'Arizona', 'Nevada', 'California', 'Oregon', nan],\n",
       "      dtype=object)"
      ]
     },
<<<<<<< HEAD
     "execution_count": 25,
=======
     "execution_count": 270,
>>>>>>> b2579afc3260c43ee949c566ee934cbd28dc25af
     "metadata": {},
     "output_type": "execute_result"
    }
   ],
   "source": [
    "files_all.state.unique()"
   ]
  },
  {
   "cell_type": "code",
<<<<<<< HEAD
   "execution_count": 26,
   "id": "6c67e348",
   "metadata": {},
   "outputs": [
    {
     "ename": "NameError",
     "evalue": "name 'df' is not defined",
     "output_type": "error",
     "traceback": [
      "\u001b[0;31m---------------------------------------------------------------------------\u001b[0m",
      "\u001b[0;31mNameError\u001b[0m                                 Traceback (most recent call last)",
      "\u001b[0;32m/var/folders/np/_4nsf5195pl0jfyhg25kr9q80000gn/T/ipykernel_12296/855554649.py\u001b[0m in \u001b[0;36m<module>\u001b[0;34m\u001b[0m\n\u001b[1;32m      1\u001b[0m \u001b[0;31m## Check how many percent are na's\u001b[0m\u001b[0;34m\u001b[0m\u001b[0;34m\u001b[0m\u001b[0m\n\u001b[0;32m----> 2\u001b[0;31m \u001b[0mround\u001b[0m\u001b[0;34m(\u001b[0m\u001b[0mdf\u001b[0m\u001b[0;34m.\u001b[0m\u001b[0misna\u001b[0m\u001b[0;34m(\u001b[0m\u001b[0;34m)\u001b[0m\u001b[0;34m.\u001b[0m\u001b[0msum\u001b[0m\u001b[0;34m/\u001b[0m\u001b[0mlen\u001b[0m\u001b[0;34m(\u001b[0m\u001b[0mhk_df\u001b[0m\u001b[0;34m)\u001b[0m\u001b[0;34m,\u001b[0m\u001b[0;36m4\u001b[0m\u001b[0;34m)\u001b[0m\u001b[0;34m*\u001b[0m\u001b[0;36m100\u001b[0m\u001b[0;34m\u001b[0m\u001b[0;34m\u001b[0m\u001b[0m\n\u001b[0m",
      "\u001b[0;31mNameError\u001b[0m: name 'df' is not defined"
     ]
    }
   ],
   "source": [
    "## Check how many percent are na's\n",
    "round(df.isna().sum/len(hk_df),4)*100"
   ]
  },
  {
   "cell_type": "markdown",
   "id": "334a9072",
   "metadata": {},
   "source": [
    "## States to regions "
   ]
  },
  {
   "cell_type": "code",
   "execution_count": 40,
   "id": "3e3f5b19",
   "metadata": {},
   "outputs": [],
   "source": [
    "def change_to_region(s):\n",
    "    if s.startswith('C'):\n",
    "        return \"West Region\"\n",
    "    elif s.startswith('O'):\n",
    "        return \"North West\"\n",
    "    elif s.startswith('W'):\n",
    "        return \"EAST\"\n",
    "    else:\n",
    "        return 'Central'\n"
   ]
  },
  {
   "cell_type": "code",
   "execution_count": 41,
   "id": "89293631",
   "metadata": {},
   "outputs": [
    {
     "ename": "AttributeError",
     "evalue": "'float' object has no attribute 'startswith'",
     "output_type": "error",
     "traceback": [
      "\u001b[0;31m---------------------------------------------------------------------------\u001b[0m",
      "\u001b[0;31mAttributeError\u001b[0m                            Traceback (most recent call last)",
      "\u001b[0;32m/var/folders/np/_4nsf5195pl0jfyhg25kr9q80000gn/T/ipykernel_12296/252628681.py\u001b[0m in \u001b[0;36m<module>\u001b[0;34m\u001b[0m\n\u001b[0;32m----> 1\u001b[0;31m \u001b[0mfiles_all\u001b[0m\u001b[0;34m[\u001b[0m\u001b[0;34m'region'\u001b[0m\u001b[0;34m]\u001b[0m \u001b[0;34m=\u001b[0m \u001b[0mlist\u001b[0m\u001b[0;34m(\u001b[0m\u001b[0mmap\u001b[0m\u001b[0;34m(\u001b[0m\u001b[0mchange_to_region\u001b[0m\u001b[0;34m,\u001b[0m \u001b[0mfiles_all\u001b[0m\u001b[0;34m[\u001b[0m\u001b[0;34m'state'\u001b[0m\u001b[0;34m]\u001b[0m\u001b[0;34m)\u001b[0m\u001b[0;34m)\u001b[0m\u001b[0;34m\u001b[0m\u001b[0;34m\u001b[0m\u001b[0m\n\u001b[0m",
      "\u001b[0;32m/var/folders/np/_4nsf5195pl0jfyhg25kr9q80000gn/T/ipykernel_12296/4116507698.py\u001b[0m in \u001b[0;36mchange_to_region\u001b[0;34m(s)\u001b[0m\n\u001b[1;32m      1\u001b[0m \u001b[0;32mdef\u001b[0m \u001b[0mchange_to_region\u001b[0m\u001b[0;34m(\u001b[0m\u001b[0ms\u001b[0m\u001b[0;34m)\u001b[0m\u001b[0;34m:\u001b[0m\u001b[0;34m\u001b[0m\u001b[0;34m\u001b[0m\u001b[0m\n\u001b[0;32m----> 2\u001b[0;31m     \u001b[0;32mif\u001b[0m \u001b[0ms\u001b[0m\u001b[0;34m.\u001b[0m\u001b[0mstartswith\u001b[0m\u001b[0;34m(\u001b[0m\u001b[0;34m'C'\u001b[0m\u001b[0;34m)\u001b[0m\u001b[0;34m:\u001b[0m\u001b[0;34m\u001b[0m\u001b[0;34m\u001b[0m\u001b[0m\n\u001b[0m\u001b[1;32m      3\u001b[0m         \u001b[0;32mreturn\u001b[0m \u001b[0;34m\"West Region\"\u001b[0m\u001b[0;34m\u001b[0m\u001b[0;34m\u001b[0m\u001b[0m\n\u001b[1;32m      4\u001b[0m     \u001b[0;32melif\u001b[0m \u001b[0ms\u001b[0m\u001b[0;34m.\u001b[0m\u001b[0mstartswith\u001b[0m\u001b[0;34m(\u001b[0m\u001b[0;34m'O'\u001b[0m\u001b[0;34m)\u001b[0m\u001b[0;34m:\u001b[0m\u001b[0;34m\u001b[0m\u001b[0;34m\u001b[0m\u001b[0m\n\u001b[1;32m      5\u001b[0m         \u001b[0;32mreturn\u001b[0m \u001b[0;34m\"North West\"\u001b[0m\u001b[0;34m\u001b[0m\u001b[0;34m\u001b[0m\u001b[0m\n",
      "\u001b[0;31mAttributeError\u001b[0m: 'float' object has no attribute 'startswith'"
     ]
    }
   ],
   "source": [
    "files_all['region'] = list(map(change_to_region, files_all['state'])) "
   ]
  },
  {
   "cell_type": "code",
   "execution_count": 32,
   "id": "e23401af",
   "metadata": {},
   "outputs": [
    {
     "ename": "AttributeError",
     "evalue": "'Series' object has no attribute '_replace_columnwise'",
     "output_type": "error",
     "traceback": [
      "\u001b[0;31m---------------------------------------------------------------------------\u001b[0m",
      "\u001b[0;31mAttributeError\u001b[0m                            Traceback (most recent call last)",
      "\u001b[0;32m/var/folders/np/_4nsf5195pl0jfyhg25kr9q80000gn/T/ipykernel_12296/1111259524.py\u001b[0m in \u001b[0;36m<module>\u001b[0;34m\u001b[0m\n\u001b[0;32m----> 1\u001b[0;31m \u001b[0mnew_regions\u001b[0m \u001b[0;34m=\u001b[0m \u001b[0mfiles_all\u001b[0m\u001b[0;34m[\u001b[0m\u001b[0;34m'state'\u001b[0m\u001b[0;34m]\u001b[0m\u001b[0;34m.\u001b[0m\u001b[0mreplace\u001b[0m\u001b[0;34m(\u001b[0m\u001b[0;34m{\u001b[0m\u001b[0;34m'regions'\u001b[0m \u001b[0;34m:\u001b[0m \u001b[0;34m{\u001b[0m\u001b[0;34m'California'\u001b[0m\u001b[0;34m:\u001b[0m \u001b[0;34m\"West Region\"\u001b[0m\u001b[0;34m,\u001b[0m\u001b[0;34m'Oregon'\u001b[0m\u001b[0;34m:\u001b[0m \u001b[0;34m\"North West\"\u001b[0m\u001b[0;34m,\u001b[0m\u001b[0;34m'Washington'\u001b[0m\u001b[0;34m:\u001b[0m\u001b[0;34m\"EAST\"\u001b[0m\u001b[0;34m}\u001b[0m\u001b[0;34m}\u001b[0m\u001b[0;34m)\u001b[0m\u001b[0;34m\u001b[0m\u001b[0;34m\u001b[0m\u001b[0m\n\u001b[0m",
      "\u001b[0;32m/opt/anaconda3/lib/python3.9/site-packages/pandas/core/series.py\u001b[0m in \u001b[0;36mreplace\u001b[0;34m(self, to_replace, value, inplace, limit, regex, method)\u001b[0m\n\u001b[1;32m   4866\u001b[0m         \u001b[0mmethod\u001b[0m\u001b[0;34m=\u001b[0m\u001b[0;34m\"pad\"\u001b[0m\u001b[0;34m,\u001b[0m\u001b[0;34m\u001b[0m\u001b[0;34m\u001b[0m\u001b[0m\n\u001b[1;32m   4867\u001b[0m     ):\n\u001b[0;32m-> 4868\u001b[0;31m         return super().replace(\n\u001b[0m\u001b[1;32m   4869\u001b[0m             \u001b[0mto_replace\u001b[0m\u001b[0;34m=\u001b[0m\u001b[0mto_replace\u001b[0m\u001b[0;34m,\u001b[0m\u001b[0;34m\u001b[0m\u001b[0;34m\u001b[0m\u001b[0m\n\u001b[1;32m   4870\u001b[0m             \u001b[0mvalue\u001b[0m\u001b[0;34m=\u001b[0m\u001b[0mvalue\u001b[0m\u001b[0;34m,\u001b[0m\u001b[0;34m\u001b[0m\u001b[0;34m\u001b[0m\u001b[0m\n",
      "\u001b[0;32m/opt/anaconda3/lib/python3.9/site-packages/pandas/core/generic.py\u001b[0m in \u001b[0;36mreplace\u001b[0;34m(self, to_replace, value, inplace, limit, regex, method)\u001b[0m\n\u001b[1;32m   6523\u001b[0m                 \u001b[0mto_replace\u001b[0m\u001b[0;34m,\u001b[0m \u001b[0mvalue\u001b[0m \u001b[0;34m=\u001b[0m \u001b[0mkeys\u001b[0m\u001b[0;34m,\u001b[0m \u001b[0mvalues\u001b[0m\u001b[0;34m\u001b[0m\u001b[0;34m\u001b[0m\u001b[0m\n\u001b[1;32m   6524\u001b[0m \u001b[0;34m\u001b[0m\u001b[0m\n\u001b[0;32m-> 6525\u001b[0;31m             return self.replace(\n\u001b[0m\u001b[1;32m   6526\u001b[0m                 \u001b[0mto_replace\u001b[0m\u001b[0;34m,\u001b[0m \u001b[0mvalue\u001b[0m\u001b[0;34m,\u001b[0m \u001b[0minplace\u001b[0m\u001b[0;34m=\u001b[0m\u001b[0minplace\u001b[0m\u001b[0;34m,\u001b[0m \u001b[0mlimit\u001b[0m\u001b[0;34m=\u001b[0m\u001b[0mlimit\u001b[0m\u001b[0;34m,\u001b[0m \u001b[0mregex\u001b[0m\u001b[0;34m=\u001b[0m\u001b[0mregex\u001b[0m\u001b[0;34m\u001b[0m\u001b[0;34m\u001b[0m\u001b[0m\n\u001b[1;32m   6527\u001b[0m             )\n",
      "\u001b[0;32m/opt/anaconda3/lib/python3.9/site-packages/pandas/core/series.py\u001b[0m in \u001b[0;36mreplace\u001b[0;34m(self, to_replace, value, inplace, limit, regex, method)\u001b[0m\n\u001b[1;32m   4866\u001b[0m         \u001b[0mmethod\u001b[0m\u001b[0;34m=\u001b[0m\u001b[0;34m\"pad\"\u001b[0m\u001b[0;34m,\u001b[0m\u001b[0;34m\u001b[0m\u001b[0;34m\u001b[0m\u001b[0m\n\u001b[1;32m   4867\u001b[0m     ):\n\u001b[0;32m-> 4868\u001b[0;31m         return super().replace(\n\u001b[0m\u001b[1;32m   4869\u001b[0m             \u001b[0mto_replace\u001b[0m\u001b[0;34m=\u001b[0m\u001b[0mto_replace\u001b[0m\u001b[0;34m,\u001b[0m\u001b[0;34m\u001b[0m\u001b[0;34m\u001b[0m\u001b[0m\n\u001b[1;32m   4870\u001b[0m             \u001b[0mvalue\u001b[0m\u001b[0;34m=\u001b[0m\u001b[0mvalue\u001b[0m\u001b[0;34m,\u001b[0m\u001b[0;34m\u001b[0m\u001b[0;34m\u001b[0m\u001b[0m\n",
      "\u001b[0;32m/opt/anaconda3/lib/python3.9/site-packages/pandas/core/generic.py\u001b[0m in \u001b[0;36mreplace\u001b[0;34m(self, to_replace, value, inplace, limit, regex, method)\u001b[0m\n\u001b[1;32m   6543\u001b[0m                         \u001b[0;32mif\u001b[0m \u001b[0mcol\u001b[0m \u001b[0;32min\u001b[0m \u001b[0mvalue\u001b[0m\u001b[0;34m.\u001b[0m\u001b[0mkeys\u001b[0m\u001b[0;34m(\u001b[0m\u001b[0;34m)\u001b[0m \u001b[0;32mand\u001b[0m \u001b[0mcol\u001b[0m \u001b[0;32min\u001b[0m \u001b[0mself\u001b[0m\u001b[0;34m\u001b[0m\u001b[0;34m\u001b[0m\u001b[0m\n\u001b[1;32m   6544\u001b[0m                     }\n\u001b[0;32m-> 6545\u001b[0;31m                     \u001b[0;32mreturn\u001b[0m \u001b[0mself\u001b[0m\u001b[0;34m.\u001b[0m\u001b[0m_replace_columnwise\u001b[0m\u001b[0;34m(\u001b[0m\u001b[0mmapping\u001b[0m\u001b[0;34m,\u001b[0m \u001b[0minplace\u001b[0m\u001b[0;34m,\u001b[0m \u001b[0mregex\u001b[0m\u001b[0;34m)\u001b[0m\u001b[0;34m\u001b[0m\u001b[0;34m\u001b[0m\u001b[0m\n\u001b[0m\u001b[1;32m   6546\u001b[0m \u001b[0;34m\u001b[0m\u001b[0m\n\u001b[1;32m   6547\u001b[0m                 \u001b[0;31m# {'A': NA} -> 0\u001b[0m\u001b[0;34m\u001b[0m\u001b[0;34m\u001b[0m\u001b[0m\n",
      "\u001b[0;32m/opt/anaconda3/lib/python3.9/site-packages/pandas/core/generic.py\u001b[0m in \u001b[0;36m__getattr__\u001b[0;34m(self, name)\u001b[0m\n\u001b[1;32m   5485\u001b[0m         ):\n\u001b[1;32m   5486\u001b[0m             \u001b[0;32mreturn\u001b[0m \u001b[0mself\u001b[0m\u001b[0;34m[\u001b[0m\u001b[0mname\u001b[0m\u001b[0;34m]\u001b[0m\u001b[0;34m\u001b[0m\u001b[0;34m\u001b[0m\u001b[0m\n\u001b[0;32m-> 5487\u001b[0;31m         \u001b[0;32mreturn\u001b[0m \u001b[0mobject\u001b[0m\u001b[0;34m.\u001b[0m\u001b[0m__getattribute__\u001b[0m\u001b[0;34m(\u001b[0m\u001b[0mself\u001b[0m\u001b[0;34m,\u001b[0m \u001b[0mname\u001b[0m\u001b[0;34m)\u001b[0m\u001b[0;34m\u001b[0m\u001b[0;34m\u001b[0m\u001b[0m\n\u001b[0m\u001b[1;32m   5488\u001b[0m \u001b[0;34m\u001b[0m\u001b[0m\n\u001b[1;32m   5489\u001b[0m     \u001b[0;32mdef\u001b[0m \u001b[0m__setattr__\u001b[0m\u001b[0;34m(\u001b[0m\u001b[0mself\u001b[0m\u001b[0;34m,\u001b[0m \u001b[0mname\u001b[0m\u001b[0;34m:\u001b[0m \u001b[0mstr\u001b[0m\u001b[0;34m,\u001b[0m \u001b[0mvalue\u001b[0m\u001b[0;34m)\u001b[0m \u001b[0;34m->\u001b[0m \u001b[0;32mNone\u001b[0m\u001b[0;34m:\u001b[0m\u001b[0;34m\u001b[0m\u001b[0;34m\u001b[0m\u001b[0m\n",
      "\u001b[0;31mAttributeError\u001b[0m: 'Series' object has no attribute '_replace_columnwise'"
     ]
    }
   ],
   "source": [
    "#new_regions = files_all['state'].replace({'regions' : {'California': \"West Region\",'Oregon': \"North West\",'Washington':\"EAST\"}})"
   ]
  },
  {
   "cell_type": "markdown",
   "id": "27f4c308",
   "metadata": {},
   "source": [
    "## Which variables are catergorical \n",
    "\n"
   ]
  },
  {
   "cell_type": "code",
   "execution_count": 22,
   "id": "e45cfee4",
=======
   "execution_count": 271,
>>>>>>> b2579afc3260c43ee949c566ee934cbd28dc25af
   "metadata": {},
   "outputs": [
    {
     "data": {
      "text/html": [
       "<div>\n",
       "<style scoped>\n",
       "    .dataframe tbody tr th:only-of-type {\n",
       "        vertical-align: middle;\n",
       "    }\n",
       "\n",
       "    .dataframe tbody tr th {\n",
       "        vertical-align: top;\n",
       "    }\n",
       "\n",
       "    .dataframe thead th {\n",
       "        text-align: right;\n",
       "    }\n",
       "</style>\n",
       "<table border=\"1\" class=\"dataframe\">\n",
       "  <thead>\n",
       "    <tr style=\"text-align: right;\">\n",
       "      <th></th>\n",
       "      <th>customer</th>\n",
       "      <th>state</th>\n",
       "      <th>gender</th>\n",
       "      <th>education</th>\n",
       "      <th>customer lifetime value</th>\n",
       "      <th>number of open complaints</th>\n",
       "      <th>policy type</th>\n",
       "      <th>vehicle class</th>\n",
       "    </tr>\n",
       "  </thead>\n",
       "  <tbody>\n",
       "    <tr>\n",
       "      <th>0</th>\n",
<<<<<<< HEAD
       "      <td>rb50392</td>\n",
       "      <td>washington</td>\n",
=======
       "      <td>RB50392</td>\n",
       "      <td>Washington</td>\n",
>>>>>>> b2579afc3260c43ee949c566ee934cbd28dc25af
       "      <td>NaN</td>\n",
       "      <td>master</td>\n",
       "      <td>NaN</td>\n",
<<<<<<< HEAD
       "      <td>0.0</td>\n",
       "      <td>1000.0</td>\n",
       "      <td>0</td>\n",
       "      <td>personal auto</td>\n",
       "      <td>four-door car</td>\n",
       "      <td>2.704934</td>\n",
       "    </tr>\n",
       "    <tr>\n",
       "      <th>1</th>\n",
       "      <td>qz44356</td>\n",
       "      <td>arizona</td>\n",
       "      <td>f</td>\n",
       "      <td>bachelor</td>\n",
       "      <td>697953.59</td>\n",
       "      <td>0.0</td>\n",
       "      <td>94.0</td>\n",
       "      <td>0</td>\n",
       "      <td>personal auto</td>\n",
       "      <td>four-door car</td>\n",
       "      <td>1131.464935</td>\n",
       "    </tr>\n",
       "    <tr>\n",
       "      <th>2</th>\n",
       "      <td>ai49188</td>\n",
       "      <td>nevada</td>\n",
       "      <td>f</td>\n",
       "      <td>bachelor</td>\n",
       "      <td>1288743.17</td>\n",
       "      <td>48767.0</td>\n",
       "      <td>108.0</td>\n",
       "      <td>0</td>\n",
       "      <td>personal auto</td>\n",
       "      <td>two-door car</td>\n",
       "      <td>566.472247</td>\n",
       "    </tr>\n",
       "    <tr>\n",
       "      <th>3</th>\n",
       "      <td>ww63253</td>\n",
       "      <td>california</td>\n",
       "      <td>m</td>\n",
       "      <td>bachelor</td>\n",
       "      <td>764586.18</td>\n",
       "      <td>0.0</td>\n",
       "      <td>106.0</td>\n",
       "      <td>0</td>\n",
       "      <td>corporate auto</td>\n",
       "      <td>suv</td>\n",
       "      <td>529.881344</td>\n",
       "    </tr>\n",
       "    <tr>\n",
       "      <th>4</th>\n",
       "      <td>ga49547</td>\n",
       "      <td>washington</td>\n",
       "      <td>m</td>\n",
       "      <td>high school or below</td>\n",
       "      <td>536307.65</td>\n",
       "      <td>36357.0</td>\n",
       "      <td>68.0</td>\n",
       "      <td>0</td>\n",
       "      <td>personal auto</td>\n",
       "      <td>four-door car</td>\n",
       "      <td>17.269323</td>\n",
=======
       "      <td>0</td>\n",
       "      <td>Personal Auto</td>\n",
       "      <td>Four-Door Car</td>\n",
       "    </tr>\n",
       "    <tr>\n",
       "      <th>1</th>\n",
       "      <td>QZ44356</td>\n",
       "      <td>Arizona</td>\n",
       "      <td>F</td>\n",
       "      <td>Bachelor</td>\n",
       "      <td>697953.59</td>\n",
       "      <td>0</td>\n",
       "      <td>Personal Auto</td>\n",
       "      <td>Four-Door Car</td>\n",
       "    </tr>\n",
       "    <tr>\n",
       "      <th>2</th>\n",
       "      <td>AI49188</td>\n",
       "      <td>Nevada</td>\n",
       "      <td>F</td>\n",
       "      <td>Bachelor</td>\n",
       "      <td>1288743.17</td>\n",
       "      <td>0</td>\n",
       "      <td>Personal Auto</td>\n",
       "      <td>Two-Door Car</td>\n",
       "    </tr>\n",
       "    <tr>\n",
       "      <th>3</th>\n",
       "      <td>WW63253</td>\n",
       "      <td>California</td>\n",
       "      <td>M</td>\n",
       "      <td>Bachelor</td>\n",
       "      <td>764586.18</td>\n",
       "      <td>0</td>\n",
       "      <td>Corporate Auto</td>\n",
       "      <td>SUV</td>\n",
       "    </tr>\n",
       "    <tr>\n",
       "      <th>4</th>\n",
       "      <td>GA49547</td>\n",
       "      <td>Washington</td>\n",
       "      <td>M</td>\n",
       "      <td>High School or Below</td>\n",
       "      <td>536307.65</td>\n",
       "      <td>0</td>\n",
       "      <td>Personal Auto</td>\n",
       "      <td>Four-Door Car</td>\n",
>>>>>>> b2579afc3260c43ee949c566ee934cbd28dc25af
       "    </tr>\n",
       "    <tr>\n",
       "      <th>...</th>\n",
       "      <td>...</td>\n",
       "      <td>...</td>\n",
       "      <td>...</td>\n",
       "      <td>...</td>\n",
       "      <td>...</td>\n",
       "      <td>...</td>\n",
       "      <td>...</td>\n",
       "      <td>...</td>\n",
<<<<<<< HEAD
       "      <td>...</td>\n",
       "      <td>...</td>\n",
       "      <td>...</td>\n",
       "    </tr>\n",
       "    <tr>\n",
       "      <th>7063</th>\n",
       "      <td>tf56202</td>\n",
       "      <td>california</td>\n",
       "      <td>m</td>\n",
       "      <td>college</td>\n",
       "      <td>NaN</td>\n",
       "      <td>66367.0</td>\n",
       "      <td>64.0</td>\n",
       "      <td>NaN</td>\n",
       "      <td>personal auto</td>\n",
       "      <td>two-door car</td>\n",
       "      <td>307.200000</td>\n",
       "    </tr>\n",
       "    <tr>\n",
       "      <th>7064</th>\n",
       "      <td>ym19146</td>\n",
       "      <td>california</td>\n",
       "      <td>f</td>\n",
       "      <td>college</td>\n",
       "      <td>NaN</td>\n",
       "      <td>47761.0</td>\n",
       "      <td>104.0</td>\n",
       "      <td>NaN</td>\n",
       "      <td>personal auto</td>\n",
       "      <td>four-door car</td>\n",
       "      <td>541.282007</td>\n",
       "    </tr>\n",
       "    <tr>\n",
       "      <th>7065</th>\n",
       "      <td>la72316</td>\n",
       "      <td>california</td>\n",
       "      <td>m</td>\n",
       "      <td>bachelor</td>\n",
       "      <td>NaN</td>\n",
       "      <td>71941.0</td>\n",
       "      <td>73.0</td>\n",
       "      <td>NaN</td>\n",
       "      <td>personal auto</td>\n",
       "      <td>four-door car</td>\n",
       "      <td>198.234764</td>\n",
       "    </tr>\n",
       "    <tr>\n",
       "      <th>7067</th>\n",
       "      <td>td14365</td>\n",
       "      <td>california</td>\n",
       "      <td>m</td>\n",
       "      <td>bachelor</td>\n",
       "      <td>NaN</td>\n",
       "      <td>0.0</td>\n",
       "      <td>85.0</td>\n",
       "      <td>NaN</td>\n",
       "      <td>corporate auto</td>\n",
       "      <td>four-door car</td>\n",
       "      <td>790.784983</td>\n",
       "    </tr>\n",
       "    <tr>\n",
       "      <th>7068</th>\n",
       "      <td>up19263</td>\n",
       "      <td>california</td>\n",
       "      <td>m</td>\n",
       "      <td>college</td>\n",
       "      <td>NaN</td>\n",
       "      <td>21941.0</td>\n",
       "      <td>96.0</td>\n",
       "      <td>NaN</td>\n",
       "      <td>personal auto</td>\n",
       "      <td>four-door car</td>\n",
       "      <td>691.200000</td>\n",
       "    </tr>\n",
       "  </tbody>\n",
       "</table>\n",
       "<p>7429 rows × 11 columns</p>\n",
       "</div>"
      ],
      "text/plain": [
       "     customer       state gender             education  \\\n",
       "0     rb50392  washington    NaN                master   \n",
       "1     qz44356     arizona      f              bachelor   \n",
       "2     ai49188      nevada      f              bachelor   \n",
       "3     ww63253  california      m              bachelor   \n",
       "4     ga49547  washington      m  high school or below   \n",
       "...       ...         ...    ...                   ...   \n",
       "7063  tf56202  california      m               college   \n",
       "7064  ym19146  california      f               college   \n",
       "7065  la72316  california      m              bachelor   \n",
       "7067  td14365  california      m              bachelor   \n",
       "7068  up19263  california      m               college   \n",
       "\n",
       "     customer lifetime value   income  monthly premium auto  \\\n",
       "0                        NaN      0.0                1000.0   \n",
       "1                  697953.59      0.0                  94.0   \n",
       "2                 1288743.17  48767.0                 108.0   \n",
       "3                  764586.18      0.0                 106.0   \n",
       "4                  536307.65  36357.0                  68.0   \n",
       "...                      ...      ...                   ...   \n",
       "7063                     NaN  66367.0                  64.0   \n",
       "7064                     NaN  47761.0                 104.0   \n",
       "7065                     NaN  71941.0                  73.0   \n",
       "7067                     NaN      0.0                  85.0   \n",
       "7068                     NaN  21941.0                  96.0   \n",
       "\n",
       "     number of open complaints     policy type  vehicle class  \\\n",
       "0                            0   personal auto  four-door car   \n",
       "1                            0   personal auto  four-door car   \n",
       "2                            0   personal auto   two-door car   \n",
       "3                            0  corporate auto            suv   \n",
       "4                            0   personal auto  four-door car   \n",
       "...                        ...             ...            ...   \n",
       "7063                       NaN   personal auto   two-door car   \n",
       "7064                       NaN   personal auto  four-door car   \n",
       "7065                       NaN   personal auto  four-door car   \n",
       "7067                       NaN  corporate auto  four-door car   \n",
       "7068                       NaN   personal auto  four-door car   \n",
       "\n",
       "      total claim amount  \n",
       "0               2.704934  \n",
       "1            1131.464935  \n",
       "2             566.472247  \n",
       "3             529.881344  \n",
       "4              17.269323  \n",
       "...                  ...  \n",
       "7063          307.200000  \n",
       "7064          541.282007  \n",
       "7065          198.234764  \n",
       "7067          790.784983  \n",
       "7068          691.200000  \n",
       "\n",
       "[7429 rows x 11 columns]"
      ]
     },
     "execution_count": 22,
=======
       "    </tr>\n",
       "    <tr>\n",
       "      <th>12067</th>\n",
       "      <td>TF56202</td>\n",
       "      <td>California</td>\n",
       "      <td>M</td>\n",
       "      <td>College</td>\n",
       "      <td>NaN</td>\n",
       "      <td>NaN</td>\n",
       "      <td>Personal Auto</td>\n",
       "      <td>Two-Door Car</td>\n",
       "    </tr>\n",
       "    <tr>\n",
       "      <th>12068</th>\n",
       "      <td>YM19146</td>\n",
       "      <td>California</td>\n",
       "      <td>F</td>\n",
       "      <td>College</td>\n",
       "      <td>NaN</td>\n",
       "      <td>NaN</td>\n",
       "      <td>Personal Auto</td>\n",
       "      <td>Four-Door Car</td>\n",
       "    </tr>\n",
       "    <tr>\n",
       "      <th>12069</th>\n",
       "      <td>LA72316</td>\n",
       "      <td>California</td>\n",
       "      <td>M</td>\n",
       "      <td>Bachelor</td>\n",
       "      <td>NaN</td>\n",
       "      <td>NaN</td>\n",
       "      <td>Personal Auto</td>\n",
       "      <td>Four-Door Car</td>\n",
       "    </tr>\n",
       "    <tr>\n",
       "      <th>12071</th>\n",
       "      <td>TD14365</td>\n",
       "      <td>California</td>\n",
       "      <td>M</td>\n",
       "      <td>Bachelor</td>\n",
       "      <td>NaN</td>\n",
       "      <td>NaN</td>\n",
       "      <td>Corporate Auto</td>\n",
       "      <td>Four-Door Car</td>\n",
       "    </tr>\n",
       "    <tr>\n",
       "      <th>12072</th>\n",
       "      <td>UP19263</td>\n",
       "      <td>California</td>\n",
       "      <td>M</td>\n",
       "      <td>College</td>\n",
       "      <td>NaN</td>\n",
       "      <td>NaN</td>\n",
       "      <td>Personal Auto</td>\n",
       "      <td>Four-Door Car</td>\n",
       "    </tr>\n",
       "  </tbody>\n",
       "</table>\n",
       "<p>7429 rows × 8 columns</p>\n",
       "</div>"
      ],
      "text/plain": [
       "      customer       state gender             education  \\\n",
       "0      RB50392  Washington    NaN                Master   \n",
       "1      QZ44356     Arizona      F              Bachelor   \n",
       "2      AI49188      Nevada      F              Bachelor   \n",
       "3      WW63253  California      M              Bachelor   \n",
       "4      GA49547  Washington      M  High School or Below   \n",
       "...        ...         ...    ...                   ...   \n",
       "12067  TF56202  California      M               College   \n",
       "12068  YM19146  California      F               College   \n",
       "12069  LA72316  California      M              Bachelor   \n",
       "12071  TD14365  California      M              Bachelor   \n",
       "12072  UP19263  California      M               College   \n",
       "\n",
       "      customer lifetime value number of open complaints     policy type  \\\n",
       "0                         NaN                         0   Personal Auto   \n",
       "1                   697953.59                         0   Personal Auto   \n",
       "2                  1288743.17                         0   Personal Auto   \n",
       "3                   764586.18                         0  Corporate Auto   \n",
       "4                   536307.65                         0   Personal Auto   \n",
       "...                       ...                       ...             ...   \n",
       "12067                     NaN                       NaN   Personal Auto   \n",
       "12068                     NaN                       NaN   Personal Auto   \n",
       "12069                     NaN                       NaN   Personal Auto   \n",
       "12071                     NaN                       NaN  Corporate Auto   \n",
       "12072                     NaN                       NaN   Personal Auto   \n",
       "\n",
       "       vehicle class  \n",
       "0      Four-Door Car  \n",
       "1      Four-Door Car  \n",
       "2       Two-Door Car  \n",
       "3                SUV  \n",
       "4      Four-Door Car  \n",
       "...              ...  \n",
       "12067   Two-Door Car  \n",
       "12068  Four-Door Car  \n",
       "12069  Four-Door Car  \n",
       "12071  Four-Door Car  \n",
       "12072  Four-Door Car  \n",
       "\n",
       "[7429 rows x 8 columns]"
      ]
     },
     "execution_count": 271,
>>>>>>> b2579afc3260c43ee949c566ee934cbd28dc25af
     "metadata": {},
     "output_type": "execute_result"
    }
   ],
   "source": [
    "files_all.applymap(lambda s:s.lower() if type(s) == str else s)"
   ]
  },
  {
   "cell_type": "markdown",
   "id": "2e43d2e0",
   "metadata": {},
   "source": [
    "## Which variables are numerical "
   ]
  },
  {
   "cell_type": "markdown",
   "metadata": {},
   "source": [
    "## Check how many percent are na's"
   ]
  },
  {
   "cell_type": "code",
<<<<<<< HEAD
   "execution_count": null,
   "id": "dc7ccc51",
=======
   "execution_count": 272,
>>>>>>> b2579afc3260c43ee949c566ee934cbd28dc25af
   "metadata": {},
   "outputs": [
    {
     "data": {
      "text/plain": [
       "customer                      0.01\n",
       "state                         0.01\n",
       "gender                        1.64\n",
       "education                     0.01\n",
       "customer lifetime value      74.11\n",
       "income                        0.00\n",
       "monthly premium auto          0.00\n",
       "number of open complaints    74.02\n",
       "policy type                   0.01\n",
       "vehicle class                 0.01\n",
       "total claim amount            0.00\n",
       "dtype: float64"
      ]
     },
     "execution_count": 272,
     "metadata": {},
     "output_type": "execute_result"
    }
   ],
   "source": [
    "round(files_all.isna().sum()/len(files_all),4)*100 "
   ]
  },
  {
   "cell_type": "code",
   "execution_count": 273,
   "metadata": {},
   "outputs": [
    {
     "data": {
      "text/html": [
       "<div>\n",
       "<style scoped>\n",
       "    .dataframe tbody tr th:only-of-type {\n",
       "        vertical-align: middle;\n",
       "    }\n",
       "\n",
       "    .dataframe tbody tr th {\n",
       "        vertical-align: top;\n",
       "    }\n",
       "\n",
       "    .dataframe thead th {\n",
       "        text-align: right;\n",
       "    }\n",
       "</style>\n",
       "<table border=\"1\" class=\"dataframe\">\n",
       "  <thead>\n",
       "    <tr style=\"text-align: right;\">\n",
       "      <th></th>\n",
       "      <th>header_name</th>\n",
       "      <th>percent_nulls</th>\n",
       "    </tr>\n",
       "  </thead>\n",
       "  <tbody>\n",
       "    <tr>\n",
       "      <th>0</th>\n",
       "      <td>customer</td>\n",
       "      <td>0.01</td>\n",
       "    </tr>\n",
       "    <tr>\n",
       "      <th>1</th>\n",
       "      <td>state</td>\n",
       "      <td>0.01</td>\n",
       "    </tr>\n",
       "    <tr>\n",
       "      <th>2</th>\n",
       "      <td>gender</td>\n",
       "      <td>1.64</td>\n",
       "    </tr>\n",
       "    <tr>\n",
       "      <th>3</th>\n",
       "      <td>education</td>\n",
       "      <td>0.01</td>\n",
       "    </tr>\n",
       "    <tr>\n",
       "      <th>4</th>\n",
       "      <td>customer lifetime value</td>\n",
       "      <td>74.11</td>\n",
       "    </tr>\n",
       "    <tr>\n",
       "      <th>5</th>\n",
       "      <td>income</td>\n",
       "      <td>0.00</td>\n",
       "    </tr>\n",
       "    <tr>\n",
       "      <th>6</th>\n",
       "      <td>monthly premium auto</td>\n",
       "      <td>0.00</td>\n",
       "    </tr>\n",
       "    <tr>\n",
       "      <th>7</th>\n",
       "      <td>number of open complaints</td>\n",
       "      <td>74.02</td>\n",
       "    </tr>\n",
       "    <tr>\n",
       "      <th>8</th>\n",
       "      <td>policy type</td>\n",
       "      <td>0.01</td>\n",
       "    </tr>\n",
       "    <tr>\n",
       "      <th>9</th>\n",
       "      <td>vehicle class</td>\n",
       "      <td>0.01</td>\n",
       "    </tr>\n",
       "    <tr>\n",
       "      <th>10</th>\n",
       "      <td>total claim amount</td>\n",
       "      <td>0.00</td>\n",
       "    </tr>\n",
       "  </tbody>\n",
       "</table>\n",
       "</div>"
      ],
      "text/plain": [
       "                  header_name  percent_nulls\n",
       "0                    customer           0.01\n",
       "1                       state           0.01\n",
       "2                      gender           1.64\n",
       "3                   education           0.01\n",
       "4     customer lifetime value          74.11\n",
       "5                      income           0.00\n",
       "6        monthly premium auto           0.00\n",
       "7   number of open complaints          74.02\n",
       "8                 policy type           0.01\n",
       "9               vehicle class           0.01\n",
       "10         total claim amount           0.00"
      ]
     },
     "execution_count": 273,
     "metadata": {},
     "output_type": "execute_result"
    }
   ],
   "source": [
    "nulls_df = pd.DataFrame(round(files_all.isna().sum()/len(files_all),4)*100)\n",
    "nulls_df = nulls_df.reset_index()\n",
    "nulls_df.columns = ['header_name', 'percent_nulls']\n",
    "nulls_df"
   ]
  },
  {
   "cell_type": "markdown",
   "metadata": {},
   "source": [
    "## Columns to drop"
   ]
  },
  {
   "cell_type": "code",
   "execution_count": 274,
   "metadata": {},
   "outputs": [
    {
     "name": "stdout",
     "output_type": "stream",
     "text": [
      "['customer lifetime value' 'number of open complaints']\n"
     ]
    }
   ],
   "source": [
<<<<<<< HEAD
    "files_all.select_dtypes('int64')"
=======
    "columns_drop = nulls_df[nulls_df['percent_nulls']>25]['header_name']  # dummy case with 3 \n",
    "print(columns_drop.values)\n"
>>>>>>> b2579afc3260c43ee949c566ee934cbd28dc25af
   ]
  },
  {
   "cell_type": "markdown",
   "metadata": {},
   "source": [
    "## Bucking States"
   ]
  },
  {
   "cell_type": "code",
   "execution_count": 275,
   "metadata": {},
   "outputs": [
    {
     "data": {
      "text/plain": [
       "California    2525\n",
       "Oregon        2123\n",
       "Arizona       1393\n",
       "Nevada         734\n",
       "Washington     653\n",
       "Name: state, dtype: int64"
      ]
     },
     "execution_count": 275,
     "metadata": {},
     "output_type": "execute_result"
    }
   ],
   "source": [
    "files_all['state'].value_counts()"
   ]
  },
  {
   "cell_type": "code",
   "execution_count": 276,
   "metadata": {},
   "outputs": [
    {
     "name": "stdout",
     "output_type": "stream",
     "text": [
      "0        False\n",
      "1        False\n",
      "2        False\n",
      "3         True\n",
      "4        False\n",
      "         ...  \n",
      "12067     True\n",
      "12068     True\n",
      "12069     True\n",
      "12071     True\n",
      "12072     True\n",
      "Name: state, Length: 7429, dtype: bool\n",
      "range(0, 7429)\n",
      "\n"
     ]
    }
   ],
   "source": [
    "print(files_all.loc[:, 'state'] == 'California')\n",
    "print(range(0,len(files_all['state'])))\n",
    "print()"
   ]
  },
  {
   "cell_type": "code",
   "execution_count": 282,
   "metadata": {},
   "outputs": [
    {
     "data": {
      "text/html": [
       "<div>\n",
       "<style scoped>\n",
       "    .dataframe tbody tr th:only-of-type {\n",
       "        vertical-align: middle;\n",
       "    }\n",
       "\n",
       "    .dataframe tbody tr th {\n",
       "        vertical-align: top;\n",
       "    }\n",
       "\n",
       "    .dataframe thead th {\n",
       "        text-align: right;\n",
       "    }\n",
       "</style>\n",
       "<table border=\"1\" class=\"dataframe\">\n",
       "  <thead>\n",
       "    <tr style=\"text-align: right;\">\n",
       "      <th></th>\n",
       "      <th>customer</th>\n",
       "      <th>state</th>\n",
       "      <th>gender</th>\n",
       "      <th>education</th>\n",
       "      <th>customer lifetime value</th>\n",
       "      <th>income</th>\n",
       "      <th>monthly premium auto</th>\n",
       "      <th>number of open complaints</th>\n",
       "      <th>policy type</th>\n",
       "      <th>vehicle class</th>\n",
       "      <th>total claim amount</th>\n",
       "      <th>zone</th>\n",
       "    </tr>\n",
       "  </thead>\n",
       "  <tbody>\n",
       "    <tr>\n",
       "      <th>0</th>\n",
       "      <td>RB50392</td>\n",
       "      <td>Washington</td>\n",
       "      <td>NaN</td>\n",
       "      <td>Master</td>\n",
       "      <td>NaN</td>\n",
       "      <td>0.0</td>\n",
       "      <td>1000.0</td>\n",
       "      <td>0</td>\n",
       "      <td>Personal Auto</td>\n",
       "      <td>Four-Door Car</td>\n",
       "      <td>2.704934</td>\n",
       "      <td>East</td>\n",
       "    </tr>\n",
       "    <tr>\n",
       "      <th>1</th>\n",
       "      <td>QZ44356</td>\n",
       "      <td>Arizona</td>\n",
       "      <td>F</td>\n",
       "      <td>Bachelor</td>\n",
       "      <td>697953.59</td>\n",
       "      <td>0.0</td>\n",
       "      <td>94.0</td>\n",
       "      <td>0</td>\n",
       "      <td>Personal Auto</td>\n",
       "      <td>Four-Door Car</td>\n",
       "      <td>1131.464935</td>\n",
       "      <td>Central</td>\n",
       "    </tr>\n",
       "    <tr>\n",
       "      <th>2</th>\n",
       "      <td>AI49188</td>\n",
       "      <td>Nevada</td>\n",
       "      <td>F</td>\n",
       "      <td>Bachelor</td>\n",
       "      <td>1288743.17</td>\n",
       "      <td>48767.0</td>\n",
       "      <td>108.0</td>\n",
       "      <td>0</td>\n",
       "      <td>Personal Auto</td>\n",
       "      <td>Two-Door Car</td>\n",
       "      <td>566.472247</td>\n",
       "      <td>Central</td>\n",
       "    </tr>\n",
       "    <tr>\n",
       "      <th>3</th>\n",
       "      <td>WW63253</td>\n",
       "      <td>California</td>\n",
       "      <td>M</td>\n",
       "      <td>Bachelor</td>\n",
       "      <td>764586.18</td>\n",
       "      <td>0.0</td>\n",
       "      <td>106.0</td>\n",
       "      <td>0</td>\n",
       "      <td>Corporate Auto</td>\n",
       "      <td>SUV</td>\n",
       "      <td>529.881344</td>\n",
       "      <td>West Region</td>\n",
       "    </tr>\n",
       "    <tr>\n",
       "      <th>4</th>\n",
       "      <td>GA49547</td>\n",
       "      <td>Washington</td>\n",
       "      <td>M</td>\n",
       "      <td>High School or Below</td>\n",
       "      <td>536307.65</td>\n",
       "      <td>36357.0</td>\n",
       "      <td>68.0</td>\n",
       "      <td>0</td>\n",
       "      <td>Personal Auto</td>\n",
       "      <td>Four-Door Car</td>\n",
       "      <td>17.269323</td>\n",
       "      <td>East</td>\n",
       "    </tr>\n",
       "    <tr>\n",
       "      <th>...</th>\n",
       "      <td>...</td>\n",
       "      <td>...</td>\n",
       "      <td>...</td>\n",
       "      <td>...</td>\n",
       "      <td>...</td>\n",
       "      <td>...</td>\n",
       "      <td>...</td>\n",
       "      <td>...</td>\n",
       "      <td>...</td>\n",
       "      <td>...</td>\n",
       "      <td>...</td>\n",
       "      <td>...</td>\n",
       "    </tr>\n",
       "    <tr>\n",
       "      <th>12067</th>\n",
       "      <td>TF56202</td>\n",
       "      <td>California</td>\n",
       "      <td>M</td>\n",
       "      <td>College</td>\n",
       "      <td>NaN</td>\n",
       "      <td>66367.0</td>\n",
       "      <td>64.0</td>\n",
       "      <td>NaN</td>\n",
       "      <td>Personal Auto</td>\n",
       "      <td>Two-Door Car</td>\n",
       "      <td>307.200000</td>\n",
       "      <td>NaN</td>\n",
       "    </tr>\n",
       "    <tr>\n",
       "      <th>12068</th>\n",
       "      <td>YM19146</td>\n",
       "      <td>California</td>\n",
       "      <td>F</td>\n",
       "      <td>College</td>\n",
       "      <td>NaN</td>\n",
       "      <td>47761.0</td>\n",
       "      <td>104.0</td>\n",
       "      <td>NaN</td>\n",
       "      <td>Personal Auto</td>\n",
       "      <td>Four-Door Car</td>\n",
       "      <td>541.282007</td>\n",
       "      <td>NaN</td>\n",
       "    </tr>\n",
       "    <tr>\n",
       "      <th>12069</th>\n",
       "      <td>LA72316</td>\n",
       "      <td>California</td>\n",
       "      <td>M</td>\n",
       "      <td>Bachelor</td>\n",
       "      <td>NaN</td>\n",
       "      <td>71941.0</td>\n",
       "      <td>73.0</td>\n",
       "      <td>NaN</td>\n",
       "      <td>Personal Auto</td>\n",
       "      <td>Four-Door Car</td>\n",
       "      <td>198.234764</td>\n",
       "      <td>NaN</td>\n",
       "    </tr>\n",
       "    <tr>\n",
       "      <th>12071</th>\n",
       "      <td>TD14365</td>\n",
       "      <td>California</td>\n",
       "      <td>M</td>\n",
       "      <td>Bachelor</td>\n",
       "      <td>NaN</td>\n",
       "      <td>0.0</td>\n",
       "      <td>85.0</td>\n",
       "      <td>NaN</td>\n",
       "      <td>Corporate Auto</td>\n",
       "      <td>Four-Door Car</td>\n",
       "      <td>790.784983</td>\n",
       "      <td>NaN</td>\n",
       "    </tr>\n",
       "    <tr>\n",
       "      <th>12072</th>\n",
       "      <td>UP19263</td>\n",
       "      <td>California</td>\n",
       "      <td>M</td>\n",
       "      <td>College</td>\n",
       "      <td>NaN</td>\n",
       "      <td>21941.0</td>\n",
       "      <td>96.0</td>\n",
       "      <td>NaN</td>\n",
       "      <td>Personal Auto</td>\n",
       "      <td>Four-Door Car</td>\n",
       "      <td>691.200000</td>\n",
       "      <td>NaN</td>\n",
       "    </tr>\n",
       "  </tbody>\n",
       "</table>\n",
       "<p>7429 rows × 12 columns</p>\n",
       "</div>"
      ],
      "text/plain": [
       "      customer       state gender             education  \\\n",
       "0      RB50392  Washington    NaN                Master   \n",
       "1      QZ44356     Arizona      F              Bachelor   \n",
       "2      AI49188      Nevada      F              Bachelor   \n",
       "3      WW63253  California      M              Bachelor   \n",
       "4      GA49547  Washington      M  High School or Below   \n",
       "...        ...         ...    ...                   ...   \n",
       "12067  TF56202  California      M               College   \n",
       "12068  YM19146  California      F               College   \n",
       "12069  LA72316  California      M              Bachelor   \n",
       "12071  TD14365  California      M              Bachelor   \n",
       "12072  UP19263  California      M               College   \n",
       "\n",
       "      customer lifetime value   income  monthly premium auto  \\\n",
       "0                         NaN      0.0                1000.0   \n",
       "1                   697953.59      0.0                  94.0   \n",
       "2                  1288743.17  48767.0                 108.0   \n",
       "3                   764586.18      0.0                 106.0   \n",
       "4                   536307.65  36357.0                  68.0   \n",
       "...                       ...      ...                   ...   \n",
       "12067                     NaN  66367.0                  64.0   \n",
       "12068                     NaN  47761.0                 104.0   \n",
       "12069                     NaN  71941.0                  73.0   \n",
       "12071                     NaN      0.0                  85.0   \n",
       "12072                     NaN  21941.0                  96.0   \n",
       "\n",
       "      number of open complaints     policy type  vehicle class  \\\n",
       "0                             0   Personal Auto  Four-Door Car   \n",
       "1                             0   Personal Auto  Four-Door Car   \n",
       "2                             0   Personal Auto   Two-Door Car   \n",
       "3                             0  Corporate Auto            SUV   \n",
       "4                             0   Personal Auto  Four-Door Car   \n",
       "...                         ...             ...            ...   \n",
       "12067                       NaN   Personal Auto   Two-Door Car   \n",
       "12068                       NaN   Personal Auto  Four-Door Car   \n",
       "12069                       NaN   Personal Auto  Four-Door Car   \n",
       "12071                       NaN  Corporate Auto  Four-Door Car   \n",
       "12072                       NaN   Personal Auto  Four-Door Car   \n",
       "\n",
       "       total claim amount         zone  \n",
       "0                2.704934         East  \n",
       "1             1131.464935      Central  \n",
       "2              566.472247      Central  \n",
       "3              529.881344  West Region  \n",
       "4               17.269323         East  \n",
       "...                   ...          ...  \n",
       "12067          307.200000          NaN  \n",
       "12068          541.282007          NaN  \n",
       "12069          198.234764          NaN  \n",
       "12071          790.784983          NaN  \n",
       "12072          691.200000          NaN  \n",
       "\n",
       "[7429 rows x 12 columns]"
      ]
     },
     "execution_count": 282,
     "metadata": {},
     "output_type": "execute_result"
    }
   ],
   "source": [
    "files_all"
   ]
  },
  {
   "cell_type": "code",
   "execution_count": 278,
   "metadata": {},
   "outputs": [
    {
     "data": {
      "text/plain": [
       "'Arizona'"
      ]
     },
     "execution_count": 278,
     "metadata": {},
     "output_type": "execute_result"
    }
   ],
   "source": [
    "files_all.loc[1, 'state']"
   ]
  },
  {
   "cell_type": "code",
   "execution_count": 279,
   "metadata": {},
   "outputs": [
    {
     "data": {
      "text/plain": [
       "'Arizona'"
      ]
     },
     "execution_count": 279,
     "metadata": {},
     "output_type": "execute_result"
    }
   ],
   "source": [
    "files_all.iloc[1,1]"
   ]
  },
  {
   "cell_type": "code",
   "execution_count": 302,
   "metadata": {
    "scrolled": false
   },
   "outputs": [
    {
     "name": "stdout",
     "output_type": "stream",
     "text": [
      "0        Washington\n",
      "1           Arizona\n",
      "2            Nevada\n",
      "3        California\n",
      "4        Washington\n",
      "            ...    \n",
      "12067    California\n",
      "12068    California\n",
      "12069    California\n",
      "12071    California\n",
      "12072    California\n",
      "Name: state, Length: 7429, dtype: object\n",
      "West Region    2525\n",
      "Central        2127\n",
      "North West     2123\n",
      "East            653\n",
      "Name: zone, dtype: int64 \n",
      "\n",
      " California    2525\n",
      "Oregon        2123\n",
      "Arizona       1393\n",
      "Nevada         734\n",
      "Washington     653\n",
      "Name: state, dtype: int64\n"
     ]
    }
   ],
   "source": [
    "# Bucketing the data - Write a function to replace column \"State\" to different zones. \n",
    "# California as West Region, Oregon as North West, \n",
    "# and Washington as East, and Arizona and Nevada as Central\n",
    "def change_states_to_zones(x):\n",
    "    '''add a new column named zone from states'''\n",
    "    if x == 'California':\n",
    "        x = 'West Region'\n",
    "    elif x == 'Oregon':\n",
    "        x = 'North West'\n",
    "    elif x=='Washington':\n",
    "        x = 'East'\n",
    "    elif x=='Arizona' or x=='Nevada':\n",
    "        x='Central'\n",
    "    return x\n",
    "\n",
    "\n",
    "files_all['zone'] = list(map(change_states_to_zones, files_all['state']))\n",
    "\n",
    "\n",
    "print(files_all['state'])\n",
    "print(files_all['zone'].value_counts(),'\\n\\n',  files_all['state'].value_counts())"
   ]
  },
  {
   "cell_type": "code",
   "execution_count": 290,
   "metadata": {},
   "outputs": [
    {
     "data": {
      "text/plain": [
       "California    2525\n",
       "Oregon        2123\n",
       "Arizona       1393\n",
       "Nevada         734\n",
       "Washington     653\n",
       "Name: state, dtype: int64"
      ]
     },
     "execution_count": 290,
     "metadata": {},
     "output_type": "execute_result"
    }
   ],
   "source": []
  }
 ],
 "metadata": {
  "kernelspec": {
   "display_name": "Python 3",
   "language": "python",
   "name": "python3"
  },
  "language_info": {
   "codemirror_mode": {
    "name": "ipython",
    "version": 3
   },
   "file_extension": ".py",
   "mimetype": "text/x-python",
   "name": "python",
   "nbconvert_exporter": "python",
   "pygments_lexer": "ipython3",
   "version": "3.7.6"
  }
 },
 "nbformat": 4,
 "nbformat_minor": 5
}
