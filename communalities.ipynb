{
 "cells": [
  {
   "cell_type": "markdown",
   "id": "ca623245-7f44-4aa1-8013-190611a16fed",
   "metadata": {},
   "source": [
    "# Things in common \n",
    "\n",
    "- not the siblings\n",
    "- not the music \n",
    "- not volunteering \n",
    "- not a dog/cat type\n",
    "\n",
    "# We enjoy working out!\n",
    "# We enjoy travelling to \n",
    "# Summer person!\n",
    "# Allergies \n",
    "# WE LOVE DATA\n",
    "# We enjoy (alcoholical) drinks!\n"
   ]
  }
 ],
 "metadata": {
  "kernelspec": {
   "display_name": "Python 3 (ipykernel)",
   "language": "python",
   "name": "python3"
  },
  "language_info": {
   "codemirror_mode": {
    "name": "ipython",
    "version": 3
   },
   "file_extension": ".py",
   "mimetype": "text/x-python",
   "name": "python",
   "nbconvert_exporter": "python",
   "pygments_lexer": "ipython3",
   "version": "3.9.7"
  }
 },
 "nbformat": 4,
 "nbformat_minor": 5
}
