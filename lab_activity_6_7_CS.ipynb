{
 "cells": [
  {
   "cell_type": "markdown",
   "id": "cb1a0d98",
   "metadata": {},
   "source": [
    "## Activity 6 \n",
    "## Preparation"
   ]
  },
  {
   "cell_type": "code",
   "execution_count": 1,
   "id": "29e4754d",
   "metadata": {},
   "outputs": [],
   "source": [
    "import numpy as np\n",
    "import pandas as pd\n",
    "import matplotlib.pyplot as plt\n",
    "%matplotlib inline\n",
    "import seaborn as sns\n",
    "from scipy import stats\n",
    "from sklearn.preprocessing import StandardScaler\n",
    "from sklearn.preprocessing import quantile_transform\n",
    "from sklearn.preprocessing import minmax_scale\n",
    "from sklearn.preprocessing import OneHotEncoder  ##. better to use dummy from pandas \n",
    "from sklearn.preprocessing import PowerTransformer\n",
    "from scipy.stats import boxcox\n",
    "from sklearn.linear_model import LinearRegression\n",
    "from sklearn import linear_model\n",
    "from sklearn.model_selection import train_test_split\n",
    "import statsmodels.api as sm\n",
    "from scipy.stats import boxcox\n",
    "from sklearn.model_selection import train_test_split\n",
    "from sklearn.metrics import r2_score\n",
    "from sklearn.metrics import mean_squared_error as mse\n",
    "from sklearn.metrics import mean_absolute_error as mae\n",
    "pd.options.display.max_rows = 50\n",
    "## Install xlrd package to load Excel files\n",
    "# conda install openpyxl\n",
    "## conda install xlrd\n"
   ]
  },
  {
   "cell_type": "code",
   "execution_count": 2,
   "id": "c6eb2b26",
   "metadata": {},
   "outputs": [],
   "source": [
    "clean_df = pd.read_csv('Customer_Analysis_Case_Study/Data/Data_Marketing_Customer_Analysis_Round3.csv')"
   ]
  },
  {
   "cell_type": "markdown",
   "id": "9b394e70",
   "metadata": {},
   "source": [
    "##Hint: use the file Create Data_Marketing_Customer_Analysis_Round3.csv\n",
    "\n",
    "### One Hot/Label Encoding of the categorical variables in the categoricals data frame that ### you created in Activity 4. ( Hint: check Dropfirst option).\n",
    "### for the first iteration, we will focus on the numericals data (numericals data frame) as ##our data source.\n",
    "### remove the outliers from the numerical columns.\n",
    "### check if there are highly correlated features and drop them if there are any.\n",
    "### X-y split (y is the target variable which is the total claim amount)"
   ]
  },
  {
   "cell_type": "code",
   "execution_count": 3,
   "id": "33de9588",
   "metadata": {},
   "outputs": [
    {
     "data": {
      "text/plain": [
       "Index(['Unnamed: 0', 'region', 'customer_lifetime_value', 'response',\n",
       "       'coverage', 'education', 'effective_to_date', 'month',\n",
       "       'employment_status', 'gender', 'income', 'location_code',\n",
       "       'marital_status', 'monthly_premium_auto', 'months_since_last_claim',\n",
       "       'months_since_policy_inception', 'number_of_open_complaints',\n",
       "       'number_of_policies', 'policy_type', 'policy', 'renew_offer_type',\n",
       "       'sales_channel', 'total_claim_amount', 'vehicle_class', 'vehicle_size'],\n",
       "      dtype='object')"
      ]
     },
     "execution_count": 3,
     "metadata": {},
     "output_type": "execute_result"
    }
   ],
   "source": [
    "clean_df.columns\n",
    "\n"
   ]
  },
  {
   "cell_type": "code",
   "execution_count": 5,
   "id": "2b8d9bb6",
   "metadata": {},
   "outputs": [],
   "source": [
    "numerical = clean_df.select_dtypes('int64') # asign numerics to new object\n"
   ]
  },
  {
   "cell_type": "code",
   "execution_count": null,
   "id": "e87e7e16",
   "metadata": {},
   "outputs": [],
   "source": [
    "categoricals = clean_df.select_dtypes('object')"
   ]
  },
  {
   "cell_type": "markdown",
   "id": "1c13dbec",
   "metadata": {},
   "source": [
    "## Hot coding of categorical  vars"
   ]
  },
  {
   "cell_type": "code",
   "execution_count": 50,
   "id": "ca085d11",
   "metadata": {},
   "outputs": [
    {
     "data": {
      "text/plain": [
       "Index(['region', 'response', 'coverage', 'education', 'effective_to_date',\n",
       "       'month', 'employment_status', 'gender', 'location_code',\n",
       "       'marital_status', 'policy_type', 'policy', 'renew_offer_type',\n",
       "       'sales_channel', 'vehicle_class', 'vehicle_size'],\n",
       "      dtype='object')"
      ]
     },
     "execution_count": 50,
     "metadata": {},
     "output_type": "execute_result"
    }
   ],
   "source": [
    "categoricals.columns"
   ]
  },
  {
   "cell_type": "code",
   "execution_count": 51,
   "id": "5f460777",
   "metadata": {},
   "outputs": [
    {
     "name": "stderr",
     "output_type": "stream",
     "text": [
      "/var/folders/np/_4nsf5195pl0jfyhg25kr9q80000gn/T/ipykernel_29702/3229202658.py:2: FutureWarning: In a future version of pandas all arguments of DataFrame.drop except for the argument 'labels' will be keyword-only.\n",
      "  categoricals =categoricals.drop('effective_to_date',1)\n"
     ]
    }
   ],
   "source": [
    "# Delete date column\n",
    "categoricals =categoricals.drop('effective_to_date',1)\n",
    "\n",
    "# Dont use in place here df.drop('a', axis=1, inplace=True) "
   ]
  },
  {
   "cell_type": "code",
   "execution_count": 52,
   "id": "8d77d975",
   "metadata": {},
   "outputs": [
    {
     "data": {
      "text/html": [
       "<div>\n",
       "<style scoped>\n",
       "    .dataframe tbody tr th:only-of-type {\n",
       "        vertical-align: middle;\n",
       "    }\n",
       "\n",
       "    .dataframe tbody tr th {\n",
       "        vertical-align: top;\n",
       "    }\n",
       "\n",
       "    .dataframe thead th {\n",
       "        text-align: right;\n",
       "    }\n",
       "</style>\n",
       "<table border=\"1\" class=\"dataframe\">\n",
       "  <thead>\n",
       "    <tr style=\"text-align: right;\">\n",
       "      <th></th>\n",
       "      <th>region</th>\n",
       "      <th>response</th>\n",
       "      <th>coverage</th>\n",
       "      <th>education</th>\n",
       "      <th>month</th>\n",
       "      <th>employment_status</th>\n",
       "      <th>gender</th>\n",
       "      <th>location_code</th>\n",
       "      <th>marital_status</th>\n",
       "      <th>policy_type</th>\n",
       "      <th>policy</th>\n",
       "      <th>renew_offer_type</th>\n",
       "      <th>sales_channel</th>\n",
       "      <th>vehicle_class</th>\n",
       "      <th>vehicle_size</th>\n",
       "    </tr>\n",
       "  </thead>\n",
       "  <tbody>\n",
       "    <tr>\n",
       "      <th>0</th>\n",
       "      <td>central</td>\n",
       "      <td>no</td>\n",
       "      <td>basic</td>\n",
       "      <td>college</td>\n",
       "      <td>feb</td>\n",
       "      <td>employed</td>\n",
       "      <td>m</td>\n",
       "      <td>suburban</td>\n",
       "      <td>married</td>\n",
       "      <td>corporate auto</td>\n",
       "      <td>corporate l3</td>\n",
       "      <td>offer3</td>\n",
       "      <td>agent</td>\n",
       "      <td>four-door car</td>\n",
       "      <td>medsize</td>\n",
       "    </tr>\n",
       "    <tr>\n",
       "      <th>1</th>\n",
       "      <td>west region</td>\n",
       "      <td>no</td>\n",
       "      <td>basic</td>\n",
       "      <td>college</td>\n",
       "      <td>jan</td>\n",
       "      <td>unemployed</td>\n",
       "      <td>f</td>\n",
       "      <td>suburban</td>\n",
       "      <td>single</td>\n",
       "      <td>personal auto</td>\n",
       "      <td>personal l3</td>\n",
       "      <td>offer4</td>\n",
       "      <td>call center</td>\n",
       "      <td>four-door car</td>\n",
       "      <td>medsize</td>\n",
       "    </tr>\n",
       "    <tr>\n",
       "      <th>2</th>\n",
       "      <td>east</td>\n",
       "      <td>no</td>\n",
       "      <td>basic</td>\n",
       "      <td>bachelor</td>\n",
       "      <td>feb</td>\n",
       "      <td>employed</td>\n",
       "      <td>m</td>\n",
       "      <td>suburban</td>\n",
       "      <td>single</td>\n",
       "      <td>personal auto</td>\n",
       "      <td>personal l3</td>\n",
       "      <td>offer3</td>\n",
       "      <td>call center</td>\n",
       "      <td>suv</td>\n",
       "      <td>medsize</td>\n",
       "    </tr>\n",
       "    <tr>\n",
       "      <th>3</th>\n",
       "      <td>north west</td>\n",
       "      <td>yes</td>\n",
       "      <td>extended</td>\n",
       "      <td>college</td>\n",
       "      <td>jan</td>\n",
       "      <td>employed</td>\n",
       "      <td>m</td>\n",
       "      <td>suburban</td>\n",
       "      <td>single</td>\n",
       "      <td>corporate auto</td>\n",
       "      <td>corporate l3</td>\n",
       "      <td>offer2</td>\n",
       "      <td>branch</td>\n",
       "      <td>four-door car</td>\n",
       "      <td>medsize</td>\n",
       "    </tr>\n",
       "    <tr>\n",
       "      <th>4</th>\n",
       "      <td>north west</td>\n",
       "      <td>no</td>\n",
       "      <td>premium</td>\n",
       "      <td>bachelor</td>\n",
       "      <td>jan</td>\n",
       "      <td>medical leave</td>\n",
       "      <td>f</td>\n",
       "      <td>suburban</td>\n",
       "      <td>married</td>\n",
       "      <td>personal auto</td>\n",
       "      <td>personal l2</td>\n",
       "      <td>offer1</td>\n",
       "      <td>branch</td>\n",
       "      <td>four-door car</td>\n",
       "      <td>medsize</td>\n",
       "    </tr>\n",
       "    <tr>\n",
       "      <th>...</th>\n",
       "      <td>...</td>\n",
       "      <td>...</td>\n",
       "      <td>...</td>\n",
       "      <td>...</td>\n",
       "      <td>...</td>\n",
       "      <td>...</td>\n",
       "      <td>...</td>\n",
       "      <td>...</td>\n",
       "      <td>...</td>\n",
       "      <td>...</td>\n",
       "      <td>...</td>\n",
       "      <td>...</td>\n",
       "      <td>...</td>\n",
       "      <td>...</td>\n",
       "      <td>...</td>\n",
       "    </tr>\n",
       "    <tr>\n",
       "      <th>10684</th>\n",
       "      <td>central</td>\n",
       "      <td>no</td>\n",
       "      <td>premium</td>\n",
       "      <td>bachelor</td>\n",
       "      <td>jan</td>\n",
       "      <td>unemployed</td>\n",
       "      <td>f</td>\n",
       "      <td>suburban</td>\n",
       "      <td>married</td>\n",
       "      <td>personal auto</td>\n",
       "      <td>personal l1</td>\n",
       "      <td>offer3</td>\n",
       "      <td>web</td>\n",
       "      <td>luxury car</td>\n",
       "      <td>medsize</td>\n",
       "    </tr>\n",
       "    <tr>\n",
       "      <th>10685</th>\n",
       "      <td>north west</td>\n",
       "      <td>no</td>\n",
       "      <td>basic</td>\n",
       "      <td>college</td>\n",
       "      <td>jan</td>\n",
       "      <td>employed</td>\n",
       "      <td>f</td>\n",
       "      <td>urban</td>\n",
       "      <td>married</td>\n",
       "      <td>personal auto</td>\n",
       "      <td>personal l3</td>\n",
       "      <td>offer2</td>\n",
       "      <td>branch</td>\n",
       "      <td>four-door car</td>\n",
       "      <td>medsize</td>\n",
       "    </tr>\n",
       "    <tr>\n",
       "      <th>10686</th>\n",
       "      <td>central</td>\n",
       "      <td>no</td>\n",
       "      <td>extended</td>\n",
       "      <td>bachelor</td>\n",
       "      <td>feb</td>\n",
       "      <td>employed</td>\n",
       "      <td>f</td>\n",
       "      <td>rural</td>\n",
       "      <td>married</td>\n",
       "      <td>corporate auto</td>\n",
       "      <td>corporate l3</td>\n",
       "      <td>offer1</td>\n",
       "      <td>web</td>\n",
       "      <td>luxury suv</td>\n",
       "      <td>medsize</td>\n",
       "    </tr>\n",
       "    <tr>\n",
       "      <th>10687</th>\n",
       "      <td>west region</td>\n",
       "      <td>no</td>\n",
       "      <td>premium</td>\n",
       "      <td>college</td>\n",
       "      <td>feb</td>\n",
       "      <td>employed</td>\n",
       "      <td>f</td>\n",
       "      <td>urban</td>\n",
       "      <td>divorced</td>\n",
       "      <td>personal auto</td>\n",
       "      <td>personal l1</td>\n",
       "      <td>offer1</td>\n",
       "      <td>branch</td>\n",
       "      <td>suv</td>\n",
       "      <td>medsize</td>\n",
       "    </tr>\n",
       "    <tr>\n",
       "      <th>10688</th>\n",
       "      <td>west region</td>\n",
       "      <td>no</td>\n",
       "      <td>basic</td>\n",
       "      <td>bachelor</td>\n",
       "      <td>jan</td>\n",
       "      <td>unemployed</td>\n",
       "      <td>m</td>\n",
       "      <td>suburban</td>\n",
       "      <td>single</td>\n",
       "      <td>personal auto</td>\n",
       "      <td>personal l1</td>\n",
       "      <td>offer4</td>\n",
       "      <td>web</td>\n",
       "      <td>suv</td>\n",
       "      <td>medsize</td>\n",
       "    </tr>\n",
       "  </tbody>\n",
       "</table>\n",
       "<p>10689 rows × 15 columns</p>\n",
       "</div>"
      ],
      "text/plain": [
       "            region response  coverage education month employment_status  \\\n",
       "0          central       no     basic   college   feb          employed   \n",
       "1      west region       no     basic   college   jan        unemployed   \n",
       "2             east       no     basic  bachelor   feb          employed   \n",
       "3       north west      yes  extended   college   jan          employed   \n",
       "4       north west       no   premium  bachelor   jan     medical leave   \n",
       "...            ...      ...       ...       ...   ...               ...   \n",
       "10684      central       no   premium  bachelor   jan        unemployed   \n",
       "10685   north west       no     basic   college   jan          employed   \n",
       "10686      central       no  extended  bachelor   feb          employed   \n",
       "10687  west region       no   premium   college   feb          employed   \n",
       "10688  west region       no     basic  bachelor   jan        unemployed   \n",
       "\n",
       "      gender location_code marital_status     policy_type        policy  \\\n",
       "0          m      suburban        married  corporate auto  corporate l3   \n",
       "1          f      suburban         single   personal auto   personal l3   \n",
       "2          m      suburban         single   personal auto   personal l3   \n",
       "3          m      suburban         single  corporate auto  corporate l3   \n",
       "4          f      suburban        married   personal auto   personal l2   \n",
       "...      ...           ...            ...             ...           ...   \n",
       "10684      f      suburban        married   personal auto   personal l1   \n",
       "10685      f         urban        married   personal auto   personal l3   \n",
       "10686      f         rural        married  corporate auto  corporate l3   \n",
       "10687      f         urban       divorced   personal auto   personal l1   \n",
       "10688      m      suburban         single   personal auto   personal l1   \n",
       "\n",
       "      renew_offer_type sales_channel  vehicle_class vehicle_size  \n",
       "0               offer3         agent  four-door car      medsize  \n",
       "1               offer4   call center  four-door car      medsize  \n",
       "2               offer3   call center            suv      medsize  \n",
       "3               offer2        branch  four-door car      medsize  \n",
       "4               offer1        branch  four-door car      medsize  \n",
       "...                ...           ...            ...          ...  \n",
       "10684           offer3           web     luxury car      medsize  \n",
       "10685           offer2        branch  four-door car      medsize  \n",
       "10686           offer1           web     luxury suv      medsize  \n",
       "10687           offer1        branch            suv      medsize  \n",
       "10688           offer4           web            suv      medsize  \n",
       "\n",
       "[10689 rows x 15 columns]"
      ]
     },
     "execution_count": 52,
     "metadata": {},
     "output_type": "execute_result"
    }
   ],
   "source": [
    "#Table of features\n",
    "categoricals_features= categoricals.select_dtypes(\"object\")\n",
    "categoricals_features\n"
   ]
  },
  {
   "cell_type": "code",
   "execution_count": 53,
   "id": "55daf233",
   "metadata": {},
   "outputs": [
    {
     "name": "stderr",
     "output_type": "stream",
     "text": [
      "/opt/anaconda3/envs/DA/lib/python3.10/site-packages/sklearn/utils/deprecation.py:87: FutureWarning: Function get_feature_names is deprecated; get_feature_names is deprecated in 1.0 and will be removed in 1.2. Please use get_feature_names_out instead.\n",
      "  warnings.warn(msg, category=FutureWarning)\n"
     ]
    }
   ],
   "source": [
    "\n",
    "cat_dic_cols =OneHotEncoder(drop='first').fit(categoricals_features).get_feature_names(input_features=categoricals_features.columns)"
   ]
  },
  {
   "cell_type": "code",
   "execution_count": 54,
   "id": "e4b17f0f",
   "metadata": {},
   "outputs": [
    {
     "data": {
      "text/plain": [
       "array(['region_east', 'region_north west', 'region_west region',\n",
       "       'response_yes', 'coverage_extended', 'coverage_premium',\n",
       "       'education_college', 'education_doctor',\n",
       "       'education_high school or below', 'education_master', 'month_jan',\n",
       "       'employment_status_employed', 'employment_status_medical leave',\n",
       "       'employment_status_retired', 'employment_status_unemployed',\n",
       "       'gender_m', 'location_code_suburban', 'location_code_urban',\n",
       "       'marital_status_married', 'marital_status_single',\n",
       "       'policy_type_personal auto', 'policy_type_special auto',\n",
       "       'policy_corporate l2', 'policy_corporate l3', 'policy_personal l1',\n",
       "       'policy_personal l2', 'policy_personal l3', 'policy_special l1',\n",
       "       'policy_special l2', 'policy_special l3',\n",
       "       'renew_offer_type_offer2', 'renew_offer_type_offer3',\n",
       "       'renew_offer_type_offer4', 'sales_channel_branch',\n",
       "       'sales_channel_call center', 'sales_channel_web',\n",
       "       'vehicle_class_luxury car', 'vehicle_class_luxury suv',\n",
       "       'vehicle_class_sports car', 'vehicle_class_suv',\n",
       "       'vehicle_class_two-door car', 'vehicle_size_medsize',\n",
       "       'vehicle_size_small'], dtype=object)"
      ]
     },
     "execution_count": 54,
     "metadata": {},
     "output_type": "execute_result"
    }
   ],
   "source": [
    "cat_dic_cols"
   ]
  },
  {
   "cell_type": "markdown",
   "id": "f22f4a4e",
   "metadata": {},
   "source": [
    "## Delete Outliers"
   ]
  },
  {
   "cell_type": "code",
   "execution_count": 6,
   "id": "5c941ab6",
   "metadata": {},
   "outputs": [
    {
     "name": "stderr",
     "output_type": "stream",
     "text": [
      "/var/folders/np/_4nsf5195pl0jfyhg25kr9q80000gn/T/ipykernel_84701/1690503946.py:3: FutureWarning: In a future version of pandas all arguments of DataFrame.drop except for the argument 'labels' will be keyword-only.\n",
      "  numerical =numerical.drop(['number_of_open_complaints', 'Unnamed: 0'],1)\n"
     ]
    }
   ],
   "source": [
    "# drop open claim \n",
    "# Delete date column\n",
    "numerical =numerical.drop(['number_of_open_complaints', 'Unnamed: 0'],1)"
   ]
  },
  {
   "cell_type": "code",
   "execution_count": 7,
   "id": "8ed503d8",
   "metadata": {},
   "outputs": [],
   "source": [
    "Q1 = numerical.quantile(0.25)\n",
    "Q3 = numerical.quantile(0.75)\n",
    "IQR = Q3 - Q1\n",
    "\n",
    "\n",
    "numerical_no_out = numerical[~((numerical < (Q1 - 1.5 * IQR)) |(numerical > (Q3 + 1.5 * IQR))).any(axis=1)]"
   ]
  },
  {
   "cell_type": "code",
   "execution_count": null,
   "id": "9330dbec",
   "metadata": {},
   "outputs": [],
   "source": []
  },
  {
   "cell_type": "code",
   "execution_count": 8,
   "id": "ff29d478",
   "metadata": {},
   "outputs": [
    {
     "name": "stdout",
     "output_type": "stream",
     "text": [
      "<class 'pandas.core.frame.DataFrame'>\n",
      "RangeIndex: 10689 entries, 0 to 10688\n",
      "Data columns (total 7 columns):\n",
      " #   Column                         Non-Null Count  Dtype\n",
      "---  ------                         --------------  -----\n",
      " 0   customer_lifetime_value        10689 non-null  int64\n",
      " 1   income                         10689 non-null  int64\n",
      " 2   monthly_premium_auto           10689 non-null  int64\n",
      " 3   months_since_last_claim        10689 non-null  int64\n",
      " 4   months_since_policy_inception  10689 non-null  int64\n",
      " 5   number_of_policies             10689 non-null  int64\n",
      " 6   total_claim_amount             10689 non-null  int64\n",
      "dtypes: int64(7)\n",
      "memory usage: 584.7 KB\n",
      "<class 'pandas.core.frame.DataFrame'>\n",
      "Int64Index: 8703 entries, 1 to 10687\n",
      "Data columns (total 7 columns):\n",
      " #   Column                         Non-Null Count  Dtype\n",
      "---  ------                         --------------  -----\n",
      " 0   customer_lifetime_value        8703 non-null   int64\n",
      " 1   income                         8703 non-null   int64\n",
      " 2   monthly_premium_auto           8703 non-null   int64\n",
      " 3   months_since_last_claim        8703 non-null   int64\n",
      " 4   months_since_policy_inception  8703 non-null   int64\n",
      " 5   number_of_policies             8703 non-null   int64\n",
      " 6   total_claim_amount             8703 non-null   int64\n",
      "dtypes: int64(7)\n",
      "memory usage: 543.9 KB\n"
     ]
    }
   ],
   "source": [
    "## Check if numerical and numerical_no_out are different\n",
    "\n",
    "numerical.info()\n",
    "numerical_no_out.info()"
   ]
  },
  {
   "cell_type": "markdown",
   "id": "931eee33",
   "metadata": {},
   "source": [
    "## Check for correlation"
   ]
  },
  {
   "cell_type": "code",
   "execution_count": 71,
   "id": "33eedb94",
   "metadata": {},
   "outputs": [
    {
     "data": {
      "image/png": "[encoded data removed]",
      "text/plain": [
       "<Figure size 648x504 with 2 Axes>"
      ]
     },
     "metadata": {},
     "output_type": "display_data"
    }
   ],
   "source": [
    "# Check for correlation\n",
    "\n",
    "corr = numerical_no_out.corr() # parse df to correlation command\n",
    "mask = np.zeros_like(corr) # mask all zeros \n",
    "mask[np.triu_indices_from(mask)] = True\n",
    "with sns.axes_style(\"white\"): # hide mirroring part\n",
    "    f, ax = plt.subplots(figsize=(9, 7)) # define plotsize\n",
    "    ax = sns.heatmap(corr, mask=mask,cmap= 'viridis', vmin=-1,vmax=1,annot=True, square=True)"
   ]
  },
  {
   "cell_type": "markdown",
   "id": "cc4f76b1",
   "metadata": {},
   "source": [
    "## Split x and y - I dont understand the question? I this supposed to be for supervised leaning?\n"
   ]
  },
  {
   "cell_type": "code",
   "execution_count": 10,
   "id": "242314a9",
   "metadata": {},
   "outputs": [
    {
     "data": {
      "text/plain": [
       "Index(['customer_lifetime_value', 'income', 'monthly_premium_auto',\n",
       "       'months_since_last_claim', 'months_since_policy_inception',\n",
       "       'number_of_policies', 'total_claim_amount'],\n",
       "      dtype='object')"
      ]
     },
     "execution_count": 10,
     "metadata": {},
     "output_type": "execute_result"
    }
   ],
   "source": [
    "### GLM \n",
    "\n",
    "numerical_no_out.columns\n",
    "#numerical_no_out =numerical_no_out.drop(['Unnamed: 0', 'number_of_open_complaints'],1, inplace=True)\n",
    "\n"
   ]
  },
  {
   "cell_type": "code",
   "execution_count": 11,
   "id": "a22a9ff8",
   "metadata": {},
   "outputs": [],
   "source": [
    "cs_df = numerical_no_out"
   ]
  },
  {
   "cell_type": "markdown",
   "id": "802fdaa0",
   "metadata": {},
   "source": [
    "##Activity 7\n",
    "\n",
    "##Linear Regression\n",
    "\n",
    "###Train-test split.\n",
    "##Standardize the data (after the data split).\n",
    "##Apply linear regression.\n",
    "##Model Interpretation.\n"
   ]
  },
  {
   "cell_type": "code",
   "execution_count": 12,
   "id": "1e0050e0",
   "metadata": {},
   "outputs": [
    {
     "data": {
      "text/html": [
       "<div>\n",
       "<style scoped>\n",
       "    .dataframe tbody tr th:only-of-type {\n",
       "        vertical-align: middle;\n",
       "    }\n",
       "\n",
       "    .dataframe tbody tr th {\n",
       "        vertical-align: top;\n",
       "    }\n",
       "\n",
       "    .dataframe thead th {\n",
       "        text-align: right;\n",
       "    }\n",
       "</style>\n",
       "<table border=\"1\" class=\"dataframe\">\n",
       "  <thead>\n",
       "    <tr style=\"text-align: right;\">\n",
       "      <th></th>\n",
       "      <th>customer_lifetime_value</th>\n",
       "      <th>income</th>\n",
       "      <th>monthly_premium_auto</th>\n",
       "      <th>months_since_last_claim</th>\n",
       "      <th>months_since_policy_inception</th>\n",
       "      <th>number_of_policies</th>\n",
       "      <th>total_claim_amount</th>\n",
       "    </tr>\n",
       "  </thead>\n",
       "  <tbody>\n",
       "    <tr>\n",
       "      <th>1</th>\n",
       "      <td>2228</td>\n",
       "      <td>26794</td>\n",
       "      <td>64</td>\n",
       "      <td>3</td>\n",
       "      <td>26</td>\n",
       "      <td>1</td>\n",
       "      <td>744</td>\n",
       "    </tr>\n",
       "    <tr>\n",
       "      <th>2</th>\n",
       "      <td>14947</td>\n",
       "      <td>22139</td>\n",
       "      <td>100</td>\n",
       "      <td>34</td>\n",
       "      <td>31</td>\n",
       "      <td>2</td>\n",
       "      <td>480</td>\n",
       "    </tr>\n",
       "    <tr>\n",
       "      <th>4</th>\n",
       "      <td>9025</td>\n",
       "      <td>23675</td>\n",
       "      <td>117</td>\n",
       "      <td>15</td>\n",
       "      <td>31</td>\n",
       "      <td>7</td>\n",
       "      <td>707</td>\n",
       "    </tr>\n",
       "    <tr>\n",
       "      <th>5</th>\n",
       "      <td>4745</td>\n",
       "      <td>50549</td>\n",
       "      <td>61</td>\n",
       "      <td>2</td>\n",
       "      <td>73</td>\n",
       "      <td>7</td>\n",
       "      <td>292</td>\n",
       "    </tr>\n",
       "    <tr>\n",
       "      <th>6</th>\n",
       "      <td>5035</td>\n",
       "      <td>37405</td>\n",
       "      <td>63</td>\n",
       "      <td>8</td>\n",
       "      <td>99</td>\n",
       "      <td>4</td>\n",
       "      <td>287</td>\n",
       "    </tr>\n",
       "    <tr>\n",
       "      <th>...</th>\n",
       "      <td>...</td>\n",
       "      <td>...</td>\n",
       "      <td>...</td>\n",
       "      <td>...</td>\n",
       "      <td>...</td>\n",
       "      <td>...</td>\n",
       "      <td>...</td>\n",
       "    </tr>\n",
       "    <tr>\n",
       "      <th>10680</th>\n",
       "      <td>4547</td>\n",
       "      <td>33531</td>\n",
       "      <td>116</td>\n",
       "      <td>11</td>\n",
       "      <td>15</td>\n",
       "      <td>1</td>\n",
       "      <td>801</td>\n",
       "    </tr>\n",
       "    <tr>\n",
       "      <th>10681</th>\n",
       "      <td>3579</td>\n",
       "      <td>28304</td>\n",
       "      <td>91</td>\n",
       "      <td>10</td>\n",
       "      <td>30</td>\n",
       "      <td>1</td>\n",
       "      <td>655</td>\n",
       "    </tr>\n",
       "    <tr>\n",
       "      <th>10682</th>\n",
       "      <td>2771</td>\n",
       "      <td>59855</td>\n",
       "      <td>74</td>\n",
       "      <td>30</td>\n",
       "      <td>82</td>\n",
       "      <td>1</td>\n",
       "      <td>355</td>\n",
       "    </tr>\n",
       "    <tr>\n",
       "      <th>10685</th>\n",
       "      <td>5259</td>\n",
       "      <td>61146</td>\n",
       "      <td>65</td>\n",
       "      <td>7</td>\n",
       "      <td>68</td>\n",
       "      <td>6</td>\n",
       "      <td>273</td>\n",
       "    </tr>\n",
       "    <tr>\n",
       "      <th>10687</th>\n",
       "      <td>11971</td>\n",
       "      <td>64195</td>\n",
       "      <td>158</td>\n",
       "      <td>0</td>\n",
       "      <td>27</td>\n",
       "      <td>6</td>\n",
       "      <td>618</td>\n",
       "    </tr>\n",
       "  </tbody>\n",
       "</table>\n",
       "<p>8703 rows × 7 columns</p>\n",
       "</div>"
      ],
      "text/plain": [
       "       customer_lifetime_value  income  monthly_premium_auto  \\\n",
       "1                         2228   26794                    64   \n",
       "2                        14947   22139                   100   \n",
       "4                         9025   23675                   117   \n",
       "5                         4745   50549                    61   \n",
       "6                         5035   37405                    63   \n",
       "...                        ...     ...                   ...   \n",
       "10680                     4547   33531                   116   \n",
       "10681                     3579   28304                    91   \n",
       "10682                     2771   59855                    74   \n",
       "10685                     5259   61146                    65   \n",
       "10687                    11971   64195                   158   \n",
       "\n",
       "       months_since_last_claim  months_since_policy_inception  \\\n",
       "1                            3                             26   \n",
       "2                           34                             31   \n",
       "4                           15                             31   \n",
       "5                            2                             73   \n",
       "6                            8                             99   \n",
       "...                        ...                            ...   \n",
       "10680                       11                             15   \n",
       "10681                       10                             30   \n",
       "10682                       30                             82   \n",
       "10685                        7                             68   \n",
       "10687                        0                             27   \n",
       "\n",
       "       number_of_policies  total_claim_amount  \n",
       "1                       1                 744  \n",
       "2                       2                 480  \n",
       "4                       7                 707  \n",
       "5                       7                 292  \n",
       "6                       4                 287  \n",
       "...                   ...                 ...  \n",
       "10680                   1                 801  \n",
       "10681                   1                 655  \n",
       "10682                   1                 355  \n",
       "10685                   6                 273  \n",
       "10687                   6                 618  \n",
       "\n",
       "[8703 rows x 7 columns]"
      ]
     },
     "execution_count": 12,
     "metadata": {},
     "output_type": "execute_result"
    }
   ],
   "source": [
    "cs_df"
   ]
  },
  {
   "cell_type": "markdown",
   "id": "3e443fb5",
   "metadata": {},
   "source": [
    "## check distribution of variables in x "
   ]
  },
  {
   "cell_type": "code",
   "execution_count": 81,
   "id": "4a777a2f",
   "metadata": {},
   "outputs": [
    {
     "data": {
      "text/plain": [
       "array([[<AxesSubplot:title={'center':'customer_lifetime_value'}>,\n",
       "        <AxesSubplot:title={'center':'income'}>],\n",
       "       [<AxesSubplot:title={'center':'monthly_premium_auto'}>,\n",
       "        <AxesSubplot:title={'center':'months_since_last_claim'}>],\n",
       "       [<AxesSubplot:title={'center':'months_since_policy_inception'}>,\n",
       "        <AxesSubplot:title={'center':'number_of_policies'}>]],\n",
       "      dtype=object)"
      ]
     },
     "execution_count": 81,
     "metadata": {},
     "output_type": "execute_result"
    },
    {
     "data": {
      "image/png": "[encoded data removed]",
      "text/plain": [
       "<Figure size 864x864 with 6 Axes>"
      ]
     },
     "metadata": {
      "needs_background": "light"
     },
     "output_type": "display_data"
    }
   ],
   "source": [
    "X.hist(figsize=(12,12))\n"
   ]
  },
  {
   "cell_type": "markdown",
   "id": "428b3be6",
   "metadata": {},
   "source": [
    "# Train test split"
   ]
  },
  {
   "cell_type": "code",
   "execution_count": 14,
   "id": "e1c9fad9",
   "metadata": {},
   "outputs": [],
   "source": [
    "# Split x and y \n",
    "\n",
    "y=cs_df['total_claim_amount']\n",
    "X=cs_df.drop('total_claim_amount', axis=1)\n"
   ]
  },
  {
   "cell_type": "code",
   "execution_count": 15,
   "id": "ae97b260",
   "metadata": {},
   "outputs": [],
   "source": [
    "# define train and test set \n",
    "\n",
    "X_train, X_test, y_train, y_test=train_test_split(X, y, test_size=.30,random_state=123)"
   ]
  },
  {
   "cell_type": "code",
   "execution_count": 16,
   "id": "36e08211",
   "metadata": {},
   "outputs": [
    {
     "data": {
      "text/html": [
       "<div>\n",
       "<style scoped>\n",
       "    .dataframe tbody tr th:only-of-type {\n",
       "        vertical-align: middle;\n",
       "    }\n",
       "\n",
       "    .dataframe tbody tr th {\n",
       "        vertical-align: top;\n",
       "    }\n",
       "\n",
       "    .dataframe thead th {\n",
       "        text-align: right;\n",
       "    }\n",
       "</style>\n",
       "<table border=\"1\" class=\"dataframe\">\n",
       "  <thead>\n",
       "    <tr style=\"text-align: right;\">\n",
       "      <th></th>\n",
       "      <th>customer_lifetime_value</th>\n",
       "      <th>income</th>\n",
       "      <th>monthly_premium_auto</th>\n",
       "      <th>months_since_last_claim</th>\n",
       "      <th>months_since_policy_inception</th>\n",
       "      <th>number_of_policies</th>\n",
       "    </tr>\n",
       "  </thead>\n",
       "  <tbody>\n",
       "    <tr>\n",
       "      <th>7648</th>\n",
       "      <td>4803</td>\n",
       "      <td>72817</td>\n",
       "      <td>69</td>\n",
       "      <td>3</td>\n",
       "      <td>25</td>\n",
       "      <td>7</td>\n",
       "    </tr>\n",
       "    <tr>\n",
       "      <th>2918</th>\n",
       "      <td>4731</td>\n",
       "      <td>30686</td>\n",
       "      <td>61</td>\n",
       "      <td>22</td>\n",
       "      <td>45</td>\n",
       "      <td>3</td>\n",
       "    </tr>\n",
       "    <tr>\n",
       "      <th>4870</th>\n",
       "      <td>14244</td>\n",
       "      <td>31189</td>\n",
       "      <td>122</td>\n",
       "      <td>18</td>\n",
       "      <td>10</td>\n",
       "      <td>2</td>\n",
       "    </tr>\n",
       "    <tr>\n",
       "      <th>5620</th>\n",
       "      <td>12231</td>\n",
       "      <td>43244</td>\n",
       "      <td>103</td>\n",
       "      <td>15</td>\n",
       "      <td>16</td>\n",
       "      <td>2</td>\n",
       "    </tr>\n",
       "    <tr>\n",
       "      <th>6852</th>\n",
       "      <td>3286</td>\n",
       "      <td>60934</td>\n",
       "      <td>82</td>\n",
       "      <td>1</td>\n",
       "      <td>64</td>\n",
       "      <td>1</td>\n",
       "    </tr>\n",
       "    <tr>\n",
       "      <th>...</th>\n",
       "      <td>...</td>\n",
       "      <td>...</td>\n",
       "      <td>...</td>\n",
       "      <td>...</td>\n",
       "      <td>...</td>\n",
       "      <td>...</td>\n",
       "    </tr>\n",
       "    <tr>\n",
       "      <th>9090</th>\n",
       "      <td>5008</td>\n",
       "      <td>49769</td>\n",
       "      <td>73</td>\n",
       "      <td>4</td>\n",
       "      <td>0</td>\n",
       "      <td>8</td>\n",
       "    </tr>\n",
       "    <tr>\n",
       "      <th>9553</th>\n",
       "      <td>2860</td>\n",
       "      <td>50332</td>\n",
       "      <td>72</td>\n",
       "      <td>2</td>\n",
       "      <td>11</td>\n",
       "      <td>1</td>\n",
       "    </tr>\n",
       "    <tr>\n",
       "      <th>6403</th>\n",
       "      <td>4518</td>\n",
       "      <td>19186</td>\n",
       "      <td>62</td>\n",
       "      <td>10</td>\n",
       "      <td>34</td>\n",
       "      <td>5</td>\n",
       "    </tr>\n",
       "    <tr>\n",
       "      <th>1642</th>\n",
       "      <td>11085</td>\n",
       "      <td>69090</td>\n",
       "      <td>139</td>\n",
       "      <td>24</td>\n",
       "      <td>11</td>\n",
       "      <td>5</td>\n",
       "    </tr>\n",
       "    <tr>\n",
       "      <th>4393</th>\n",
       "      <td>4439</td>\n",
       "      <td>75453</td>\n",
       "      <td>112</td>\n",
       "      <td>6</td>\n",
       "      <td>90</td>\n",
       "      <td>1</td>\n",
       "    </tr>\n",
       "  </tbody>\n",
       "</table>\n",
       "<p>6092 rows × 6 columns</p>\n",
       "</div>"
      ],
      "text/plain": [
       "      customer_lifetime_value  income  monthly_premium_auto  \\\n",
       "7648                     4803   72817                    69   \n",
       "2918                     4731   30686                    61   \n",
       "4870                    14244   31189                   122   \n",
       "5620                    12231   43244                   103   \n",
       "6852                     3286   60934                    82   \n",
       "...                       ...     ...                   ...   \n",
       "9090                     5008   49769                    73   \n",
       "9553                     2860   50332                    72   \n",
       "6403                     4518   19186                    62   \n",
       "1642                    11085   69090                   139   \n",
       "4393                     4439   75453                   112   \n",
       "\n",
       "      months_since_last_claim  months_since_policy_inception  \\\n",
       "7648                        3                             25   \n",
       "2918                       22                             45   \n",
       "4870                       18                             10   \n",
       "5620                       15                             16   \n",
       "6852                        1                             64   \n",
       "...                       ...                            ...   \n",
       "9090                        4                              0   \n",
       "9553                        2                             11   \n",
       "6403                       10                             34   \n",
       "1642                       24                             11   \n",
       "4393                        6                             90   \n",
       "\n",
       "      number_of_policies  \n",
       "7648                   7  \n",
       "2918                   3  \n",
       "4870                   2  \n",
       "5620                   2  \n",
       "6852                   1  \n",
       "...                  ...  \n",
       "9090                   8  \n",
       "9553                   1  \n",
       "6403                   5  \n",
       "1642                   5  \n",
       "4393                   1  \n",
       "\n",
       "[6092 rows x 6 columns]"
      ]
     },
     "execution_count": 16,
     "metadata": {},
     "output_type": "execute_result"
    }
   ],
   "source": [
    "X_train"
   ]
  },
  {
   "cell_type": "code",
   "execution_count": null,
   "id": "feb3d0ad",
   "metadata": {},
   "outputs": [],
   "source": [
    "## Standardize the data (Done after split based on distribution before split)\n",
    "\n",
    "## How do perform different transformations on different variables "
   ]
  },
  {
   "cell_type": "code",
   "execution_count": 20,
   "id": "94a905b2",
   "metadata": {},
   "outputs": [],
   "source": [
    "std_scaler=StandardScaler().fit(X_train) \n",
    "\n",
    "X_train_scaled=std_scaler.transform(X_train)"
   ]
  },
  {
   "cell_type": "code",
   "execution_count": 21,
   "id": "4db7fc6a",
   "metadata": {},
   "outputs": [],
   "source": [
    "X_test_scaled=std_scaler.transform(X_test)"
   ]
  },
  {
   "cell_type": "markdown",
   "id": "1aebff1f",
   "metadata": {},
   "source": [
    "## LN model "
   ]
  },
  {
   "cell_type": "code",
   "execution_count": 22,
   "id": "9513ea66",
   "metadata": {},
   "outputs": [
    {
     "data": {
      "text/plain": [
       "(6092, 6)"
      ]
     },
     "execution_count": 22,
     "metadata": {},
     "output_type": "execute_result"
    }
   ],
   "source": [
    "X_train.shape"
   ]
  },
  {
   "cell_type": "code",
   "execution_count": 23,
   "id": "f25e53a4",
   "metadata": {},
   "outputs": [
    {
     "data": {
      "text/plain": [
       "(6092,)"
      ]
     },
     "execution_count": 23,
     "metadata": {},
     "output_type": "execute_result"
    }
   ],
   "source": [
    "y_train.shape"
   ]
  },
  {
   "cell_type": "code",
   "execution_count": 26,
   "id": "81fd8417",
   "metadata": {},
   "outputs": [
    {
     "data": {
      "text/plain": [
       "LinearRegression()"
      ]
     },
     "execution_count": 26,
     "metadata": {},
     "output_type": "execute_result"
    }
   ],
   "source": [
    "## On Stockoverflow \n",
    "reg = linear_model.LinearRegression()\n",
    "reg.fit(X_train, y_train)"
   ]
  },
  {
   "cell_type": "code",
   "execution_count": 28,
   "id": "68272a43",
   "metadata": {},
   "outputs": [
    {
     "data": {
      "text/plain": [
       "array([-2.46408159e-03, -1.14417791e-03,  4.16056423e+00, -3.16171773e-01,\n",
       "       -1.82092439e-01,  6.42631625e-01])"
      ]
     },
     "execution_count": 28,
     "metadata": {},
     "output_type": "execute_result"
    }
   ],
   "source": [
    "reg.coef_\n",
    "reg.intercept_"
   ]
  },
  {
   "cell_type": "code",
   "execution_count": null,
   "id": "eb0e6e14",
   "metadata": {},
   "outputs": [],
   "source": [
    "# The coefficients\n",
    "print(\"Coefficients: \\n\", reg.coef_)\n",
    "# The mean squared error\n",
    "print(\"Mean squared error: %.2f\" % mean_squared_error(reg))\n",
    "# The coefficient of determination: 1 is perfect prediction\n",
    "print(\"Coefficient of determination: %.2f\" % r2_score(reg))"
   ]
  },
  {
   "cell_type": "code",
   "execution_count": 30,
   "id": "927c93d4",
   "metadata": {},
   "outputs": [
    {
     "name": "stdout",
     "output_type": "stream",
     "text": [
      "                            OLS Regression Results                            \n",
      "==============================================================================\n",
      "Dep. Variable:     total_claim_amount   R-squared:                       0.208\n",
      "Model:                            OLS   Adj. R-squared:                  0.207\n",
      "Method:                 Least Squares   F-statistic:                     266.2\n",
      "Date:                Wed, 13 Apr 2022   Prob (F-statistic):          2.16e-303\n",
      "Time:                        14:45:45   Log-Likelihood:                -40328.\n",
      "No. Observations:                6092   AIC:                         8.067e+04\n",
      "Df Residuals:                    6085   BIC:                         8.072e+04\n",
      "Df Model:                           6                                         \n",
      "Covariance Type:            nonrobust                                         \n",
      "==============================================================================\n",
      "                 coef    std err          t      P>|t|      [0.025      0.975]\n",
      "------------------------------------------------------------------------------\n",
      "const        380.2106      2.326    163.458      0.000     375.651     384.770\n",
      "x1            -7.7360      2.642     -2.928      0.003     -12.915      -2.557\n",
      "x2           -28.6768      2.326    -12.326      0.000     -33.237     -24.116\n",
      "x3            91.0567      2.567     35.474      0.000      86.025      96.089\n",
      "x4            -3.1749      2.328     -1.364      0.173      -7.739       1.390\n",
      "x5            -5.0581      2.329     -2.172      0.030      -9.623      -0.493\n",
      "x6             1.3626      2.425      0.562      0.574      -3.392       6.117\n",
      "==============================================================================\n",
      "Omnibus:                       36.633   Durbin-Watson:                   1.974\n",
      "Prob(Omnibus):                  0.000   Jarque-Bera (JB):               47.166\n",
      "Skew:                          -0.094   Prob(JB):                     5.73e-11\n",
      "Kurtosis:                       3.388   Cond. No.                         1.68\n",
      "==============================================================================\n",
      "\n",
      "Notes:\n",
      "[1] Standard Errors assume that the covariance matrix of the errors is correctly specified.\n"
     ]
    }
   ],
   "source": [
    "## FROM RAFA \n",
    "\n",
    "# Check model fit\n",
    "X_train_const_scaled = sm.add_constant(X_train_scaled) # adding a constant\n",
    "\n",
    "model = sm.OLS(y_train, X_train_const_scaled).fit()\n",
    "predictions_train = model.predict(X_train_const_scaled) \n",
    "\n",
    "X_test_const_scaled = sm.add_constant(X_test_scaled) # adding a constant\n",
    "predictions_test = model.predict(X_test_const_scaled) \n",
    "print_model = model.summary()\n",
    "print(print_model)"
   ]
  },
  {
   "cell_type": "code",
   "execution_count": null,
   "id": "b0cd0e95",
   "metadata": {},
   "outputs": [],
   "source": [
    "## Interpretation\n",
    "# R very low. Ony 20% ca be explained -> adjust or drop model\n",
    "# WHere can I see my critical F? \n",
    "\n",
    "#"
   ]
  },
  {
   "cell_type": "markdown",
   "id": "ae4d99d5",
   "metadata": {},
   "source": [
    "### Model fit"
   ]
  },
  {
   "cell_type": "code",
   "execution_count": 105,
   "id": "82c4a66b",
   "metadata": {},
   "outputs": [
    {
     "name": "stdout",
     "output_type": "stream",
     "text": [
      "Coefficients: \n",
      " [-2.46408159e-03 -1.14417791e-03  4.16056423e+00 -3.16171773e-01\n",
      " -1.82092439e-01  6.42631625e-01]\n"
     ]
    },
    {
     "ename": "NameError",
     "evalue": "name 'mean_squared_error' is not defined",
     "output_type": "error",
     "traceback": [
      "\u001b[0;31m---------------------------------------------------------------------------\u001b[0m",
      "\u001b[0;31mNameError\u001b[0m                                 Traceback (most recent call last)",
      "Input \u001b[0;32mIn [105]\u001b[0m, in \u001b[0;36m<cell line: 4>\u001b[0;34m()\u001b[0m\n\u001b[1;32m      2\u001b[0m \u001b[38;5;28mprint\u001b[39m(\u001b[38;5;124m\"\u001b[39m\u001b[38;5;124mCoefficients: \u001b[39m\u001b[38;5;130;01m\\n\u001b[39;00m\u001b[38;5;124m\"\u001b[39m, reg\u001b[38;5;241m.\u001b[39mcoef_)\n\u001b[1;32m      3\u001b[0m \u001b[38;5;66;03m# The mean squared error\u001b[39;00m\n\u001b[0;32m----> 4\u001b[0m \u001b[38;5;28mprint\u001b[39m(\u001b[38;5;124m\"\u001b[39m\u001b[38;5;124mMean squared error: \u001b[39m\u001b[38;5;132;01m%.2f\u001b[39;00m\u001b[38;5;124m\"\u001b[39m \u001b[38;5;241m%\u001b[39m \u001b[43mmean_squared_error\u001b[49m(reg))\n\u001b[1;32m      5\u001b[0m \u001b[38;5;66;03m# The coefficient of determination: 1 is perfect prediction\u001b[39;00m\n\u001b[1;32m      6\u001b[0m \u001b[38;5;28mprint\u001b[39m(\u001b[38;5;124m\"\u001b[39m\u001b[38;5;124mCoefficient of determination: \u001b[39m\u001b[38;5;132;01m%.2f\u001b[39;00m\u001b[38;5;124m\"\u001b[39m \u001b[38;5;241m%\u001b[39m r2_score(reg))\n",
      "\u001b[0;31mNameError\u001b[0m: name 'mean_squared_error' is not defined"
     ]
    }
   ],
   "source": [
    "# The coefficients\n",
    "print(\"Coefficients: \\n\", reg.coef_)\n",
    "# The mean squared error\n",
    "print(\"Mean squared error: %.2f\" % mean_squared_error(reg))\n",
    "# The coefficient of determination: 1 is perfect prediction\n",
    "print(\"Coefficient of determination: %.2f\" % r2_score(reg))\n"
   ]
  },
  {
   "cell_type": "code",
   "execution_count": null,
   "id": "e1d654c2",
   "metadata": {},
   "outputs": [],
   "source": [
    "## Predict "
   ]
  },
  {
   "cell_type": "code",
   "execution_count": 32,
   "id": "c4705a8f",
   "metadata": {},
   "outputs": [
    {
     "name": "stderr",
     "output_type": "stream",
     "text": [
      "/opt/anaconda3/envs/DA/lib/python3.10/site-packages/sklearn/base.py:450: UserWarning: X does not have valid feature names, but LinearRegression was fitted with feature names\n",
      "  warnings.warn(\n",
      "/opt/anaconda3/envs/DA/lib/python3.10/site-packages/sklearn/base.py:450: UserWarning: X does not have valid feature names, but LinearRegression was fitted with feature names\n",
      "  warnings.warn(\n"
     ]
    }
   ],
   "source": [
    "y_pred=reg.predict(X_test_scaled)  \n",
    "\n",
    "y_pred_train=reg.predict(X_train_scaled)"
   ]
  },
  {
   "cell_type": "code",
   "execution_count": 33,
   "id": "a264262a",
   "metadata": {},
   "outputs": [
    {
     "data": {
      "text/html": [
       "<div>\n",
       "<style scoped>\n",
       "    .dataframe tbody tr th:only-of-type {\n",
       "        vertical-align: middle;\n",
       "    }\n",
       "\n",
       "    .dataframe tbody tr th {\n",
       "        vertical-align: top;\n",
       "    }\n",
       "\n",
       "    .dataframe thead th {\n",
       "        text-align: right;\n",
       "    }\n",
       "</style>\n",
       "<table border=\"1\" class=\"dataframe\">\n",
       "  <thead>\n",
       "    <tr style=\"text-align: right;\">\n",
       "      <th></th>\n",
       "      <th>customer_lifetime_value</th>\n",
       "      <th>income</th>\n",
       "      <th>monthly_premium_auto</th>\n",
       "      <th>months_since_last_claim</th>\n",
       "      <th>months_since_policy_inception</th>\n",
       "      <th>number_of_policies</th>\n",
       "    </tr>\n",
       "  </thead>\n",
       "  <tbody>\n",
       "    <tr>\n",
       "      <th>1</th>\n",
       "      <td>2228</td>\n",
       "      <td>26794</td>\n",
       "      <td>64</td>\n",
       "      <td>3</td>\n",
       "      <td>26</td>\n",
       "      <td>1</td>\n",
       "    </tr>\n",
       "    <tr>\n",
       "      <th>2</th>\n",
       "      <td>14947</td>\n",
       "      <td>22139</td>\n",
       "      <td>100</td>\n",
       "      <td>34</td>\n",
       "      <td>31</td>\n",
       "      <td>2</td>\n",
       "    </tr>\n",
       "    <tr>\n",
       "      <th>4</th>\n",
       "      <td>9025</td>\n",
       "      <td>23675</td>\n",
       "      <td>117</td>\n",
       "      <td>15</td>\n",
       "      <td>31</td>\n",
       "      <td>7</td>\n",
       "    </tr>\n",
       "    <tr>\n",
       "      <th>5</th>\n",
       "      <td>4745</td>\n",
       "      <td>50549</td>\n",
       "      <td>61</td>\n",
       "      <td>2</td>\n",
       "      <td>73</td>\n",
       "      <td>7</td>\n",
       "    </tr>\n",
       "    <tr>\n",
       "      <th>6</th>\n",
       "      <td>5035</td>\n",
       "      <td>37405</td>\n",
       "      <td>63</td>\n",
       "      <td>8</td>\n",
       "      <td>99</td>\n",
       "      <td>4</td>\n",
       "    </tr>\n",
       "    <tr>\n",
       "      <th>...</th>\n",
       "      <td>...</td>\n",
       "      <td>...</td>\n",
       "      <td>...</td>\n",
       "      <td>...</td>\n",
       "      <td>...</td>\n",
       "      <td>...</td>\n",
       "    </tr>\n",
       "    <tr>\n",
       "      <th>10680</th>\n",
       "      <td>4547</td>\n",
       "      <td>33531</td>\n",
       "      <td>116</td>\n",
       "      <td>11</td>\n",
       "      <td>15</td>\n",
       "      <td>1</td>\n",
       "    </tr>\n",
       "    <tr>\n",
       "      <th>10681</th>\n",
       "      <td>3579</td>\n",
       "      <td>28304</td>\n",
       "      <td>91</td>\n",
       "      <td>10</td>\n",
       "      <td>30</td>\n",
       "      <td>1</td>\n",
       "    </tr>\n",
       "    <tr>\n",
       "      <th>10682</th>\n",
       "      <td>2771</td>\n",
       "      <td>59855</td>\n",
       "      <td>74</td>\n",
       "      <td>30</td>\n",
       "      <td>82</td>\n",
       "      <td>1</td>\n",
       "    </tr>\n",
       "    <tr>\n",
       "      <th>10685</th>\n",
       "      <td>5259</td>\n",
       "      <td>61146</td>\n",
       "      <td>65</td>\n",
       "      <td>7</td>\n",
       "      <td>68</td>\n",
       "      <td>6</td>\n",
       "    </tr>\n",
       "    <tr>\n",
       "      <th>10687</th>\n",
       "      <td>11971</td>\n",
       "      <td>64195</td>\n",
       "      <td>158</td>\n",
       "      <td>0</td>\n",
       "      <td>27</td>\n",
       "      <td>6</td>\n",
       "    </tr>\n",
       "  </tbody>\n",
       "</table>\n",
       "<p>8703 rows × 6 columns</p>\n",
       "</div>"
      ],
      "text/plain": [
       "       customer_lifetime_value  income  monthly_premium_auto  \\\n",
       "1                         2228   26794                    64   \n",
       "2                        14947   22139                   100   \n",
       "4                         9025   23675                   117   \n",
       "5                         4745   50549                    61   \n",
       "6                         5035   37405                    63   \n",
       "...                        ...     ...                   ...   \n",
       "10680                     4547   33531                   116   \n",
       "10681                     3579   28304                    91   \n",
       "10682                     2771   59855                    74   \n",
       "10685                     5259   61146                    65   \n",
       "10687                    11971   64195                   158   \n",
       "\n",
       "       months_since_last_claim  months_since_policy_inception  \\\n",
       "1                            3                             26   \n",
       "2                           34                             31   \n",
       "4                           15                             31   \n",
       "5                            2                             73   \n",
       "6                            8                             99   \n",
       "...                        ...                            ...   \n",
       "10680                       11                             15   \n",
       "10681                       10                             30   \n",
       "10682                       30                             82   \n",
       "10685                        7                             68   \n",
       "10687                        0                             27   \n",
       "\n",
       "       number_of_policies  \n",
       "1                       1  \n",
       "2                       2  \n",
       "4                       7  \n",
       "5                       7  \n",
       "6                       4  \n",
       "...                   ...  \n",
       "10680                   1  \n",
       "10681                   1  \n",
       "10682                   1  \n",
       "10685                   6  \n",
       "10687                   6  \n",
       "\n",
       "[8703 rows x 6 columns]"
      ]
     },
     "execution_count": 33,
     "metadata": {},
     "output_type": "execute_result"
    }
   ],
   "source": [
    "X"
   ]
  },
  {
   "cell_type": "code",
   "execution_count": 89,
   "id": "897df2fd",
   "metadata": {},
   "outputs": [
    {
     "name": "stderr",
     "output_type": "stream",
     "text": [
      "/opt/anaconda3/envs/DA/lib/python3.10/site-packages/numpy/core/fromnumeric.py:3472: FutureWarning: In a future version, DataFrame.mean(axis=None) will return a scalar mean over the entire DataFrame. To retain the old behavior, use 'frame.mean(axis=0)' or just 'frame.mean()'\n",
      "  return mean(axis=axis, dtype=dtype, out=out, **kwargs)\n"
     ]
    },
    {
     "ename": "TypeError",
     "evalue": "unsupported format string passed to Series.__format__",
     "output_type": "error",
     "traceback": [
      "\u001b[0;31m---------------------------------------------------------------------------\u001b[0m",
      "\u001b[0;31mTypeError\u001b[0m                                 Traceback (most recent call last)",
      "Input \u001b[0;32mIn [89]\u001b[0m, in \u001b[0;36m<cell line: 6>\u001b[0;34m()\u001b[0m\n\u001b[1;32m      3\u001b[0m \u001b[38;5;66;03m# Intercept\u001b[39;00m\n\u001b[1;32m      4\u001b[0m a \u001b[38;5;241m=\u001b[39m np\u001b[38;5;241m.\u001b[39mmean(y) \u001b[38;5;241m-\u001b[39m np\u001b[38;5;241m.\u001b[39mmean(x)\u001b[38;5;241m*\u001b[39mb\n\u001b[0;32m----> 6\u001b[0m \u001b[38;5;28mprint\u001b[39m(\u001b[38;5;124;43m\"\u001b[39;49m\u001b[38;5;124;43mThe slope of the regression is: \u001b[39;49m\u001b[38;5;132;43;01m{:.2f}\u001b[39;49;00m\u001b[38;5;124;43m\"\u001b[39;49m\u001b[38;5;241;43m.\u001b[39;49m\u001b[43mformat\u001b[49m\u001b[43m(\u001b[49m\u001b[43mb\u001b[49m\u001b[43m)\u001b[49m)\n\u001b[1;32m      7\u001b[0m \u001b[38;5;28mprint\u001b[39m(\u001b[38;5;124m\"\u001b[39m\u001b[38;5;124mThe intercept of the regression is: \u001b[39m\u001b[38;5;132;01m{:.2f}\u001b[39;00m\u001b[38;5;124m\"\u001b[39m\u001b[38;5;241m.\u001b[39mformat(a))\n",
      "\u001b[0;31mTypeError\u001b[0m: unsupported format string passed to Series.__format__"
     ]
    }
   ],
   "source": [
    "#Tasks \n",
    "\n",
    "##Model Evaluation:\n",
    "##MSE.\n",
    "##RMSE.\n",
    "##MAE.\n",
    "##R2.\n",
    "##Adjusted R2.\n",
    "##Feature Importance."
   ]
  },
  {
   "cell_type": "markdown",
   "id": "1ed75d91",
   "metadata": {},
   "source": [
    "## Model Performance \n"
   ]
  },
  {
   "cell_type": "code",
   "execution_count": 35,
   "id": "c9e3809f",
   "metadata": {},
   "outputs": [
    {
     "data": {
      "text/plain": [
       "array([105.4567995 , 106.54859682, 113.88738186, ..., 109.93183271,\n",
       "       116.52721406, 107.24242912])"
      ]
     },
     "execution_count": 35,
     "metadata": {},
     "output_type": "execute_result"
    }
   ],
   "source": [
    "y_test\n",
    "y_pred"
   ]
  },
  {
   "cell_type": "code",
   "execution_count": 36,
   "id": "0a7f1f03",
   "metadata": {},
   "outputs": [],
   "source": [
    "result=pd.DataFrame({\"y_test\":y_test,\"y_pred\":y_pred})"
   ]
  },
  {
   "cell_type": "code",
   "execution_count": 37,
   "id": "4ab25034",
   "metadata": {},
   "outputs": [
    {
     "data": {
      "text/plain": [
       "[<matplotlib.lines.Line2D at 0x13f252530>]"
      ]
     },
     "execution_count": 37,
     "metadata": {},
     "output_type": "execute_result"
    },
    {
     "data": {
      "image/png": "[encoded data removed]",
      "text/plain": [
       "<Figure size 1008x288 with 3 Axes>"
      ]
     },
     "metadata": {
      "needs_background": "light"
     },
     "output_type": "display_data"
    }
   ],
   "source": [
    "# Make an scatter plot y_pred vs y\n",
    "# What kind of plot you will get if all the all the predictions are ok?\n",
    "# A stright line\n",
    "\n",
    "fig, ax = plt.subplots(1,3,figsize=(14,4))\n",
    "ax[0].plot(y_pred, y_test, 'o')\n",
    "ax[0].set_xlabel(\"y_test\")\n",
    "ax[0].set_ylabel(\"y_pred\")\n",
    "ax[0].set_title(\"Test Set -Predicted vs real\")\n",
    "\n",
    "# Get a histogram of the residuals ie: y - y_pred.  Homoscdasticity\n",
    "# It resembles a normal distribution?\n",
    "ax[1].hist(y_test - y_pred)\n",
    "ax[1].set_xlabel(\"Test y-y_pred\")\n",
    "ax[1].set_title(\"Test Set Residual histogram\")\n",
    "\n",
    "ax[2].plot(y_pred,y_test - y_pred,\"o\")\n",
    "ax[2].set_xlabel(\"predited\")\n",
    "ax[2].set_ylabel(\"residuals\")\n",
    "ax[2].set_title(\"Residuals by Predicted\")\n",
    "ax[2].plot(y_pred,np.zeros(len(y_pred)),linestyle='dashed')"
   ]
  },
  {
   "cell_type": "code",
   "execution_count": 38,
   "id": "60a26153",
   "metadata": {},
   "outputs": [
    {
     "data": {
      "text/plain": [
       "<AxesSubplot:xlabel='y_pred', ylabel='y_test'>"
      ]
     },
     "execution_count": 38,
     "metadata": {},
     "output_type": "execute_result"
    },
    {
     "data": {
      "image/png": "[encoded data removed]",
      "text/plain": [
       "<Figure size 432x288 with 1 Axes>"
      ]
     },
     "metadata": {
      "needs_background": "light"
     },
     "output_type": "display_data"
    }
   ],
   "source": [
    "sns.regplot(x='y_pred',y='y_test', data=result, scatter_kws={\"color\": \"red\"}, line_kws={\"color\": \"black\"})"
   ]
  },
  {
   "cell_type": "markdown",
   "id": "6f124158",
   "metadata": {},
   "source": [
    "##Error metrics"
   ]
  },
  {
   "cell_type": "code",
   "execution_count": 39,
   "id": "fc9e11c5",
   "metadata": {},
   "outputs": [
    {
     "name": "stdout",
     "output_type": "stream",
     "text": [
      "119704.76761614846\n",
      "290.39608651395775\n"
     ]
    }
   ],
   "source": [
    "print(mse(y_test,y_pred))\n",
    "print(mae(y_test,y_pred))"
   ]
  },
  {
   "cell_type": "code",
   "execution_count": 40,
   "id": "a9165bbf",
   "metadata": {},
   "outputs": [
    {
     "data": {
      "text/plain": [
       "114604.91734876252"
      ]
     },
     "execution_count": 40,
     "metadata": {},
     "output_type": "execute_result"
    }
   ],
   "source": [
    "##prediction on the train set\n",
    "mse(y_train,y_pred_train)"
   ]
  },
  {
   "cell_type": "code",
   "execution_count": 41,
   "id": "d1d7ceed",
   "metadata": {},
   "outputs": [
    {
     "data": {
      "text/plain": [
       "-1.7489596296336711"
      ]
     },
     "execution_count": 41,
     "metadata": {},
     "output_type": "execute_result"
    }
   ],
   "source": [
    "R2=r2_score(y_test,y_pred)\n",
    "R2"
   ]
  },
  {
   "cell_type": "code",
   "execution_count": 44,
   "id": "2c8c2b66",
   "metadata": {},
   "outputs": [
    {
     "name": "stderr",
     "output_type": "stream",
     "text": [
      "/opt/anaconda3/envs/DA/lib/python3.10/site-packages/sklearn/base.py:450: UserWarning: X does not have valid feature names, but LinearRegression was fitted with feature names\n",
      "  warnings.warn(\n",
      "/opt/anaconda3/envs/DA/lib/python3.10/site-packages/sklearn/base.py:450: UserWarning: X does not have valid feature names, but LinearRegression was fitted with feature names\n",
      "  warnings.warn(\n"
     ]
    }
   ],
   "source": [
    "R2_test=reg.score(X_test_scaled,y_test)\n",
    "R2_train=reg.score(X_train_scaled,y_train)"
   ]
  },
  {
   "cell_type": "code",
   "execution_count": null,
   "id": "1d76b839",
   "metadata": {},
   "outputs": [],
   "source": []
  }
 ],
 "metadata": {
  "kernelspec": {
   "display_name": "Python 3 (ipykernel)",
   "language": "python",
   "name": "python3"
  },
  "language_info": {
   "codemirror_mode": {
    "name": "ipython",
    "version": 3
   },
   "file_extension": ".py",
   "mimetype": "text/x-python",
   "name": "python",
   "nbconvert_exporter": "python",
   "pygments_lexer": "ipython3",
   "version": "3.10.2"
  }
 },
 "nbformat": 4,
 "nbformat_minor": 5
}
