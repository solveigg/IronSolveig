{
 "cells": [
  {
   "cell_type": "code",
   "execution_count": null,
   "id": "16229b14",
   "metadata": {},
   "outputs": [],
   "source": [
    "### Load required packages"
   ]
  },
  {
   "cell_type": "code",
   "execution_count": 9,
   "id": "bdd3ed45",
   "metadata": {},
   "outputs": [],
   "source": [
    "import numpy as np\n",
    "import pandas as pd\n",
    "import json\n",
    "import requests\n",
    "import seaborn as sn \n",
    "import scipy.stats as stats\n"
   ]
  },
  {
   "cell_type": "code",
   "execution_count": 1,
   "id": "89c21de6",
   "metadata": {
    "scrolled": true
   },
   "outputs": [],
   "source": [
    "### HDI and MPI data \n",
    "\n",
    "\n",
    "#http://ec2-54-174-131-205.compute-1.amazonaws.com/API/hdro_api_all.json # all HDR\n",
    "\n",
    "#http://ec2-54-174-131-205.compute-1.amazonaws.com/API/HDRO_API.php # MPI all - NOT HELPFUL HAS ONLY AGGREGATED VALUES"
   ]
  },
  {
   "cell_type": "code",
   "execution_count": 33,
   "id": "b98d5a4e",
   "metadata": {},
   "outputs": [
    {
     "name": "stdout",
     "output_type": "stream",
     "text": [
      "200\n"
     ]
    }
   ],
   "source": [
    "#Import full dataset \n",
    "\n",
    "response = requests.get(\"http://ec2-54-174-131-205.compute-1.amazonaws.com/API/hdro_api_all.json\")\n",
    "print(response.status_code)\n",
    "results = response.json()\n"
   ]
  },
  {
   "cell_type": "code",
   "execution_count": null,
   "id": "0c06b581",
   "metadata": {},
   "outputs": [],
   "source": [
    "# move to panda "
   ]
  },
  {
   "cell_type": "code",
   "execution_count": 35,
   "id": "eaee51ea",
   "metadata": {},
   "outputs": [],
   "source": [
    "HDRO_Full = pd.DataFrame(results)"
   ]
  },
  {
   "cell_type": "code",
   "execution_count": null,
   "id": "910de4fb",
   "metadata": {},
   "outputs": [],
   "source": [
    "# Familisarize with data"
   ]
  },
  {
   "cell_type": "code",
   "execution_count": 36,
   "id": "cdfccebb",
   "metadata": {},
   "outputs": [
    {
     "data": {
      "text/plain": [
       "Index(['indicator_id', 'indicator_name', 'country_code', 'country_name',\n",
       "       'year', 'value'],\n",
       "      dtype='object')"
      ]
     },
     "execution_count": 36,
     "metadata": {},
     "output_type": "execute_result"
    }
   ],
   "source": [
    "HDRO_Full.describe\n",
    "HDRO_Full.columns"
   ]
  },
  {
   "cell_type": "code",
   "execution_count": 37,
   "id": "4291ba6a",
   "metadata": {},
   "outputs": [],
   "source": [
    "## Select case studies \n",
    "\n",
    "#cs = MPI_Full['country_code'][['CAF', 'EGY', 'ECU', 'MDA', 'IND']]\n",
    "\n",
    "cs = HDRO_Full[HDRO_Full['country_code'].isin(['CAF', 'EGY', 'ECU', 'MDA', 'IND'])]\n",
    "\n"
   ]
  },
  {
   "cell_type": "code",
   "execution_count": 41,
   "id": "0ac55718",
   "metadata": {},
   "outputs": [
    {
     "data": {
      "text/plain": [
       "1762                   Multidimensional poverty index (MPI)\n",
       "1763      Population in multidimensional poverty, intens...\n",
       "1764      Population in multidimensional poverty, headco...\n",
       "1765      Population living below income poverty line, n...\n",
       "1766                Internet users, total (% of population)\n",
       "                                ...                        \n",
       "278598                        Human Development Index (HDI)\n",
       "278599    Labour force participation rate (% ages 15 and...\n",
       "278600    Proportion of births attended by skilled healt...\n",
       "278601    Carbon dioxide emissions, production emissions...\n",
       "278602    Gross national income (GNI) per capita (consta...\n",
       "Name: indicator_name, Length: 8017, dtype: object"
      ]
     },
     "execution_count": 41,
     "metadata": {},
     "output_type": "execute_result"
    }
   ],
   "source": [
    "cs['indicator_name']"
   ]
  },
  {
   "cell_type": "code",
   "execution_count": 42,
   "id": "88a70628",
   "metadata": {},
   "outputs": [],
   "source": [
    "cs_small = cs[cs['indicator_id'].isin([164406,186806,181106,135006,117806,\n",
    "117906,\n",
    "118006,\n",
    "103706,\n",
    "123506,\n",
    "123606,\n",
    "69706,\n",
    "123306,\n",
    "123406,\n",
    "194906,\n",
    "68606,\n",
    "149206,\n",
    "178306,\n",
    "133006,\n",
    "63206,\n",
    "63306,\n",
    "63406,\n",
    "195706,\n",
    "146206,\n",
    "137506,\n",
    "136906,\n",
    "137006,\n",
    "103606,\n",
    "67106,\n",
    "135106,\n",
    "186906,\n",
    "186106,\n",
    "187006,\n",
    "101606,\n",
    "101706,\n",
    "101806,\n",
    "71406,\n",
    "138806,\n",
    "71606,\n",
    "71506,\n",
    "69206,\n",
    "120606,\n",
    "121106,\n",
    "103206,\n",
    "101406,\n",
    "182106,\n",
    "89006,\n",
    "103006,\n",
    "24106,\n",
    "24206,\n",
    "47906,\n",
    "46006,\n",
    "57806,\n",
    "57206,\n",
    "57906,\n",
    "57506,\n",
    "38406,\n",
    "73506,\n",
    "183206,\n",
    "38606,\n",
    "102006,\n",
    "183406,\n",
    "38506,\n",
    "101006,\n",
    "39006,\n",
    "167106,\n",
    "132806,\n",
    "182806,\n",
    "195206,\n",
    "142506,\n",
    "23806,\n",
    "23906,\n",
    "24006,\n",
    "46106])]\n"
   ]
  },
  {
   "cell_type": "code",
   "execution_count": null,
   "id": "6b5ac628",
   "metadata": {},
   "outputs": [],
   "source": []
  }
 ],
 "metadata": {
  "kernelspec": {
   "display_name": "Python 3 (ipykernel)",
   "language": "python",
   "name": "python3"
  },
  "language_info": {
   "codemirror_mode": {
    "name": "ipython",
    "version": 3
   },
   "file_extension": ".py",
   "mimetype": "text/x-python",
   "name": "python",
   "nbconvert_exporter": "python",
   "pygments_lexer": "ipython3",
   "version": "3.9.7"
  }
 },
 "nbformat": 4,
 "nbformat_minor": 5
}
