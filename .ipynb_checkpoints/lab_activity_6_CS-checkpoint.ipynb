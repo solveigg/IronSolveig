{
 "cells": [
  {
   "cell_type": "code",
   "execution_count": 4,
   "id": "4d13165c",
   "metadata": {},
   "outputs": [],
   "source": [
    "import numpy as np\n",
    "import pandas as pd\n"
   ]
  },
  {
   "cell_type": "code",
   "execution_count": 5,
   "id": "abe9aaa7",
   "metadata": {},
   "outputs": [],
   "source": [
    "clean_df = pd.read_csv('Customer_Analysis_Case_Study/Data/Data_Marketing_Customer_Analysis_Round3.csv')"
   ]
  },
  {
   "cell_type": "raw",
   "id": "dc144cd8",
   "metadata": {},
   "source": [
    "#Hint: use the file Create Data_Marketing_Customer_Analysis_Round3.csv\n",
    "\n",
    "#One Hot/Label Encoding of the categorical variables in the categoricals data frame that # you created in Activity 4. ( Hint: check Dropfirst option).\n",
    "for the first iteration, we will focus on the numericals data (numericals data frame) as our data source.\n",
    "remove the outliers from the numerical columns.\n",
    "check if there are highly correlated features and drop them if there are any.\n",
    "X-y split (y is the target variable which is the total claim amount)"
   ]
  },
  {
   "cell_type": "code",
   "execution_count": 7,
   "id": "74c3e156",
   "metadata": {},
   "outputs": [
    {
     "data": {
      "text/plain": [
       "Index(['Unnamed: 0', 'region', 'customer_lifetime_value', 'response',\n",
       "       'coverage', 'education', 'effective_to_date', 'month',\n",
       "       'employment_status', 'gender', 'income', 'location_code',\n",
       "       'marital_status', 'monthly_premium_auto', 'months_since_last_claim',\n",
       "       'months_since_policy_inception', 'number_of_open_complaints',\n",
       "       'number_of_policies', 'policy_type', 'policy', 'renew_offer_type',\n",
       "       'sales_channel', 'total_claim_amount', 'vehicle_class', 'vehicle_size'],\n",
       "      dtype='object')"
      ]
     },
     "execution_count": 7,
     "metadata": {},
     "output_type": "execute_result"
    }
   ],
   "source": [
    "clean_df.columns"
   ]
  }
 ],
 "metadata": {
  "kernelspec": {
   "display_name": "Python 3 (ipykernel)",
   "language": "python",
   "name": "python3"
  },
  "language_info": {
   "codemirror_mode": {
    "name": "ipython",
    "version": 3
   },
   "file_extension": ".py",
   "mimetype": "text/x-python",
   "name": "python",
   "nbconvert_exporter": "python",
   "pygments_lexer": "ipython3",
   "version": "3.10.2"
  }
 },
 "nbformat": 4,
 "nbformat_minor": 5
}
