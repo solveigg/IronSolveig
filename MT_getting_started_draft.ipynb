{
 "cells": [
  {
   "cell_type": "code",
   "execution_count": null,
   "id": "9be0a958",
   "metadata": {},
   "outputs": [],
   "source": [
    "### Load required packages"
   ]
  },
  {
   "cell_type": "code",
   "execution_count": 8,
   "id": "5d68193b",
   "metadata": {},
   "outputs": [],
   "source": [
    "import numpy as np\n",
    "import pandas as pd\n",
    "import json\n",
    "import requests\n",
    "import seaborn as sn \n",
    "import scipy.stats as stats\n"
   ]
  },
  {
   "cell_type": "code",
   "execution_count": 1,
   "id": "b6fb5abe",
   "metadata": {
    "scrolled": true
   },
   "outputs": [],
   "source": [
    "### HDI and MPI data \n",
    "\n",
    "\n",
    "#http://ec2-54-174-131-205.compute-1.amazonaws.com/API/hdro_api_all.json # all HDR\n",
    "\n",
    "#http://ec2-54-174-131-205.compute-1.amazonaws.com/API/HDRO_API.php # MPI all - NOT HELPFUL HAS ONLY AGGREGATED VALUES"
   ]
  },
  {
   "cell_type": "code",
   "execution_count": 9,
   "id": "e28208e6",
   "metadata": {},
   "outputs": [
    {
     "name": "stdout",
     "output_type": "stream",
     "text": [
      "200\n"
     ]
    }
   ],
   "source": [
    "#Import full dataset \n",
    "\n",
    "response = requests.get(\"http://ec2-54-174-131-205.compute-1.amazonaws.com/API/hdro_api_all.json\")\n",
    "print(response.status_code)\n",
    "results = response.json()\n"
   ]
  },
  {
   "cell_type": "code",
   "execution_count": null,
   "id": "96c00da0",
   "metadata": {},
   "outputs": [],
   "source": [
    "# move to panda "
   ]
  },
  {
   "cell_type": "code",
   "execution_count": 10,
   "id": "a33544db",
   "metadata": {},
   "outputs": [],
   "source": [
    "HDRO_Full = pd.DataFrame(results)\n"
   ]
  },
  {
   "cell_type": "code",
   "execution_count": null,
   "id": "f858c24d",
   "metadata": {},
   "outputs": [],
   "source": [
    "## export \n",
    "HDRO_Full.to_csv('HDRO_Full.csv', index = False)"
   ]
  },
  {
   "cell_type": "code",
   "execution_count": null,
   "id": "55b2cb1c",
   "metadata": {},
   "outputs": [],
   "source": [
    "# Familisarize with data"
   ]
  },
  {
   "cell_type": "code",
   "execution_count": 50,
   "id": "6d24891e",
   "metadata": {},
   "outputs": [
    {
     "data": {
      "text/plain": [
       "Index(['indicator_id', 'indicator_name', 'country_code', 'country_name',\n",
       "       'year', 'value'],\n",
       "      dtype='object')"
      ]
     },
     "execution_count": 50,
     "metadata": {},
     "output_type": "execute_result"
    }
   ],
   "source": [
    "#HDRO_Full.describe\n",
    "HDRO_Full.columns"
   ]
  },
  {
   "cell_type": "code",
   "execution_count": 37,
   "id": "732676d5",
   "metadata": {},
   "outputs": [],
   "source": [
    "## Select case studies \n",
    "\n",
    "#cs = MPI_Full['country_code'][['CAF', 'EGY', 'ECU', 'MDA', 'IND']]\n",
    "\n",
    "cs = HDRO_Full[HDRO_Full['country_code'].isin(['CAF', 'EGY', 'ECU', 'MDA', 'IND'])]\n",
    "\n"
   ]
  },
  {
   "cell_type": "code",
   "execution_count": 41,
   "id": "0dff698c",
   "metadata": {},
   "outputs": [
    {
     "data": {
      "text/plain": [
       "1762                   Multidimensional poverty index (MPI)\n",
       "1763      Population in multidimensional poverty, intens...\n",
       "1764      Population in multidimensional poverty, headco...\n",
       "1765      Population living below income poverty line, n...\n",
       "1766                Internet users, total (% of population)\n",
       "                                ...                        \n",
       "278598                        Human Development Index (HDI)\n",
       "278599    Labour force participation rate (% ages 15 and...\n",
       "278600    Proportion of births attended by skilled healt...\n",
       "278601    Carbon dioxide emissions, production emissions...\n",
       "278602    Gross national income (GNI) per capita (consta...\n",
       "Name: indicator_name, Length: 8017, dtype: object"
      ]
     },
     "execution_count": 41,
     "metadata": {},
     "output_type": "execute_result"
    }
   ],
   "source": [
    "cs['indicator_name']"
   ]
  },
  {
   "cell_type": "code",
   "execution_count": 48,
   "id": "410ac711",
   "metadata": {},
   "outputs": [],
   "source": [
    "cs_small = cs[cs['indicator_id'].isin([164406,186806,181106,135006,117806,117906,118006,103706,123506,123606,69706,\n",
    "123306,123406,194906,68606,149206,178306,133006,63206,63306,63406,195706,146206,137506,136906,137006,103606,67106,135106,186906,\n",
    "186106,187006,101606,101706,101806,71406,138806,71606,71506,69206,120606,121106,103206,101406,182106,89006,103006,24106,\n",
    "24206,47906,46006,57806,57206,57906,57506,38406,73506,183206,38606,102006,183406,38506,101006,39006,\n",
    "167106,132806,182806,195206,142506,23806,23906,24006,46106])]\n"
   ]
  },
  {
   "cell_type": "code",
   "execution_count": 49,
   "id": "3fcde89e",
   "metadata": {},
   "outputs": [
    {
     "data": {
      "text/html": [
       "<div>\n",
       "<style scoped>\n",
       "    .dataframe tbody tr th:only-of-type {\n",
       "        vertical-align: middle;\n",
       "    }\n",
       "\n",
       "    .dataframe tbody tr th {\n",
       "        vertical-align: top;\n",
       "    }\n",
       "\n",
       "    .dataframe thead th {\n",
       "        text-align: right;\n",
       "    }\n",
       "</style>\n",
       "<table border=\"1\" class=\"dataframe\">\n",
       "  <thead>\n",
       "    <tr style=\"text-align: right;\">\n",
       "      <th></th>\n",
       "      <th>indicator_id</th>\n",
       "      <th>indicator_name</th>\n",
       "      <th>country_code</th>\n",
       "      <th>country_name</th>\n",
       "      <th>year</th>\n",
       "      <th>value</th>\n",
       "    </tr>\n",
       "  </thead>\n",
       "  <tbody>\n",
       "    <tr>\n",
       "      <th>1762</th>\n",
       "      <td>38406</td>\n",
       "      <td>Multidimensional poverty index (MPI)</td>\n",
       "      <td>CAF</td>\n",
       "      <td>Central African Republic</td>\n",
       "      <td>2008-2019</td>\n",
       "      <td>0.464864</td>\n",
       "    </tr>\n",
       "    <tr>\n",
       "      <th>1763</th>\n",
       "      <td>38506</td>\n",
       "      <td>Population in multidimensional poverty, intens...</td>\n",
       "      <td>CAF</td>\n",
       "      <td>Central African Republic</td>\n",
       "      <td>2008-2019</td>\n",
       "      <td>58.576363</td>\n",
       "    </tr>\n",
       "    <tr>\n",
       "      <th>1764</th>\n",
       "      <td>38606</td>\n",
       "      <td>Population in multidimensional poverty, headco...</td>\n",
       "      <td>CAF</td>\n",
       "      <td>Central African Republic</td>\n",
       "      <td>2008-2019</td>\n",
       "      <td>79.360294</td>\n",
       "    </tr>\n",
       "    <tr>\n",
       "      <th>1765</th>\n",
       "      <td>39006</td>\n",
       "      <td>Population living below income poverty line, n...</td>\n",
       "      <td>CAF</td>\n",
       "      <td>Central African Republic</td>\n",
       "      <td>2008-2019</td>\n",
       "      <td>62.000000</td>\n",
       "    </tr>\n",
       "    <tr>\n",
       "      <th>1767</th>\n",
       "      <td>46006</td>\n",
       "      <td>Mobile phone subscriptions (per 100 people)</td>\n",
       "      <td>CAF</td>\n",
       "      <td>Central African Republic</td>\n",
       "      <td>2018</td>\n",
       "      <td>27.674300</td>\n",
       "    </tr>\n",
       "    <tr>\n",
       "      <th>...</th>\n",
       "      <td>...</td>\n",
       "      <td>...</td>\n",
       "      <td>...</td>\n",
       "      <td>...</td>\n",
       "      <td>...</td>\n",
       "      <td>...</td>\n",
       "    </tr>\n",
       "    <tr>\n",
       "      <th>278594</th>\n",
       "      <td>123406</td>\n",
       "      <td>Expected years of schooling, male (years)</td>\n",
       "      <td>MDA</td>\n",
       "      <td>Moldova (Republic of)</td>\n",
       "      <td>1990</td>\n",
       "      <td>11.727800</td>\n",
       "    </tr>\n",
       "    <tr>\n",
       "      <th>278596</th>\n",
       "      <td>132806</td>\n",
       "      <td>Population under age 5 (millions)</td>\n",
       "      <td>MDA</td>\n",
       "      <td>Moldova (Republic of)</td>\n",
       "      <td>1990</td>\n",
       "      <td>0.427077</td>\n",
       "    </tr>\n",
       "    <tr>\n",
       "      <th>278597</th>\n",
       "      <td>133006</td>\n",
       "      <td>Gross enrolment ratio, pre-primary (% of presc...</td>\n",
       "      <td>MDA</td>\n",
       "      <td>Moldova (Republic of)</td>\n",
       "      <td>1990</td>\n",
       "      <td>72.463190</td>\n",
       "    </tr>\n",
       "    <tr>\n",
       "      <th>278598</th>\n",
       "      <td>137506</td>\n",
       "      <td>Human Development Index (HDI)</td>\n",
       "      <td>MDA</td>\n",
       "      <td>Moldova (Republic of)</td>\n",
       "      <td>1990</td>\n",
       "      <td>0.690000</td>\n",
       "    </tr>\n",
       "    <tr>\n",
       "      <th>278602</th>\n",
       "      <td>195706</td>\n",
       "      <td>Gross national income (GNI) per capita (consta...</td>\n",
       "      <td>MDA</td>\n",
       "      <td>Moldova (Republic of)</td>\n",
       "      <td>1990</td>\n",
       "      <td>14171.123620</td>\n",
       "    </tr>\n",
       "  </tbody>\n",
       "</table>\n",
       "<p>3913 rows × 6 columns</p>\n",
       "</div>"
      ],
      "text/plain": [
       "        indicator_id                                     indicator_name  \\\n",
       "1762           38406               Multidimensional poverty index (MPI)   \n",
       "1763           38506  Population in multidimensional poverty, intens...   \n",
       "1764           38606  Population in multidimensional poverty, headco...   \n",
       "1765           39006  Population living below income poverty line, n...   \n",
       "1767           46006        Mobile phone subscriptions (per 100 people)   \n",
       "...              ...                                                ...   \n",
       "278594        123406          Expected years of schooling, male (years)   \n",
       "278596        132806                  Population under age 5 (millions)   \n",
       "278597        133006  Gross enrolment ratio, pre-primary (% of presc...   \n",
       "278598        137506                      Human Development Index (HDI)   \n",
       "278602        195706  Gross national income (GNI) per capita (consta...   \n",
       "\n",
       "       country_code              country_name       year         value  \n",
       "1762            CAF  Central African Republic  2008-2019      0.464864  \n",
       "1763            CAF  Central African Republic  2008-2019     58.576363  \n",
       "1764            CAF  Central African Republic  2008-2019     79.360294  \n",
       "1765            CAF  Central African Republic  2008-2019     62.000000  \n",
       "1767            CAF  Central African Republic       2018     27.674300  \n",
       "...             ...                       ...        ...           ...  \n",
       "278594          MDA     Moldova (Republic of)       1990     11.727800  \n",
       "278596          MDA     Moldova (Republic of)       1990      0.427077  \n",
       "278597          MDA     Moldova (Republic of)       1990     72.463190  \n",
       "278598          MDA     Moldova (Republic of)       1990      0.690000  \n",
       "278602          MDA     Moldova (Republic of)       1990  14171.123620  \n",
       "\n",
       "[3913 rows x 6 columns]"
      ]
     },
     "execution_count": 49,
     "metadata": {},
     "output_type": "execute_result"
    }
   ],
   "source": [
    "cs_small\n"
   ]
  },
  {
   "cell_type": "code",
   "execution_count": 51,
   "id": "39d11fa9",
   "metadata": {},
   "outputs": [
    {
     "ename": "ValueError",
     "evalue": "Index contains duplicate entries, cannot reshape",
     "output_type": "error",
     "traceback": [
      "\u001b[0;31m---------------------------------------------------------------------------\u001b[0m",
      "\u001b[0;31mValueError\u001b[0m                                Traceback (most recent call last)",
      "\u001b[0;32m/var/folders/np/_4nsf5195pl0jfyhg25kr9q80000gn/T/ipykernel_936/3873487807.py\u001b[0m in \u001b[0;36m<module>\u001b[0;34m\u001b[0m\n\u001b[1;32m      1\u001b[0m \u001b[0;31m## Reshape data\u001b[0m\u001b[0;34m\u001b[0m\u001b[0;34m\u001b[0m\u001b[0m\n\u001b[0;32m----> 2\u001b[0;31m \u001b[0mpivot_test\u001b[0m \u001b[0;34m=\u001b[0m \u001b[0mcs_small\u001b[0m\u001b[0;34m.\u001b[0m\u001b[0mpivot\u001b[0m\u001b[0;34m(\u001b[0m\u001b[0mindex\u001b[0m\u001b[0;34m=\u001b[0m\u001b[0;34m\"country_code\"\u001b[0m\u001b[0;34m,\u001b[0m \u001b[0mcolumns\u001b[0m\u001b[0;34m=\u001b[0m\u001b[0;34m\"indicator_name\"\u001b[0m\u001b[0;34m,\u001b[0m \u001b[0mvalues\u001b[0m\u001b[0;34m=\u001b[0m\u001b[0;34m\"value\"\u001b[0m\u001b[0;34m)\u001b[0m\u001b[0;34m\u001b[0m\u001b[0;34m\u001b[0m\u001b[0m\n\u001b[0m\u001b[1;32m      3\u001b[0m \u001b[0;34m\u001b[0m\u001b[0m\n\u001b[1;32m      4\u001b[0m \u001b[0mpivot_test\u001b[0m\u001b[0;34m\u001b[0m\u001b[0;34m\u001b[0m\u001b[0m\n",
      "\u001b[0;32m/opt/anaconda3/lib/python3.9/site-packages/pandas/core/frame.py\u001b[0m in \u001b[0;36mpivot\u001b[0;34m(self, index, columns, values)\u001b[0m\n\u001b[1;32m   7791\u001b[0m         \u001b[0;32mfrom\u001b[0m \u001b[0mpandas\u001b[0m\u001b[0;34m.\u001b[0m\u001b[0mcore\u001b[0m\u001b[0;34m.\u001b[0m\u001b[0mreshape\u001b[0m\u001b[0;34m.\u001b[0m\u001b[0mpivot\u001b[0m \u001b[0;32mimport\u001b[0m \u001b[0mpivot\u001b[0m\u001b[0;34m\u001b[0m\u001b[0;34m\u001b[0m\u001b[0m\n\u001b[1;32m   7792\u001b[0m \u001b[0;34m\u001b[0m\u001b[0m\n\u001b[0;32m-> 7793\u001b[0;31m         \u001b[0;32mreturn\u001b[0m \u001b[0mpivot\u001b[0m\u001b[0;34m(\u001b[0m\u001b[0mself\u001b[0m\u001b[0;34m,\u001b[0m \u001b[0mindex\u001b[0m\u001b[0;34m=\u001b[0m\u001b[0mindex\u001b[0m\u001b[0;34m,\u001b[0m \u001b[0mcolumns\u001b[0m\u001b[0;34m=\u001b[0m\u001b[0mcolumns\u001b[0m\u001b[0;34m,\u001b[0m \u001b[0mvalues\u001b[0m\u001b[0;34m=\u001b[0m\u001b[0mvalues\u001b[0m\u001b[0;34m)\u001b[0m\u001b[0;34m\u001b[0m\u001b[0;34m\u001b[0m\u001b[0m\n\u001b[0m\u001b[1;32m   7794\u001b[0m \u001b[0;34m\u001b[0m\u001b[0m\n\u001b[1;32m   7795\u001b[0m     _shared_docs[\n",
      "\u001b[0;32m/opt/anaconda3/lib/python3.9/site-packages/pandas/core/reshape/pivot.py\u001b[0m in \u001b[0;36mpivot\u001b[0;34m(data, index, columns, values)\u001b[0m\n\u001b[1;32m    515\u001b[0m         \u001b[0;32melse\u001b[0m\u001b[0;34m:\u001b[0m\u001b[0;34m\u001b[0m\u001b[0;34m\u001b[0m\u001b[0m\n\u001b[1;32m    516\u001b[0m             \u001b[0mindexed\u001b[0m \u001b[0;34m=\u001b[0m \u001b[0mdata\u001b[0m\u001b[0;34m.\u001b[0m\u001b[0m_constructor_sliced\u001b[0m\u001b[0;34m(\u001b[0m\u001b[0mdata\u001b[0m\u001b[0;34m[\u001b[0m\u001b[0mvalues\u001b[0m\u001b[0;34m]\u001b[0m\u001b[0;34m.\u001b[0m\u001b[0m_values\u001b[0m\u001b[0;34m,\u001b[0m \u001b[0mindex\u001b[0m\u001b[0;34m=\u001b[0m\u001b[0mmultiindex\u001b[0m\u001b[0;34m)\u001b[0m\u001b[0;34m\u001b[0m\u001b[0;34m\u001b[0m\u001b[0m\n\u001b[0;32m--> 517\u001b[0;31m     \u001b[0;32mreturn\u001b[0m \u001b[0mindexed\u001b[0m\u001b[0;34m.\u001b[0m\u001b[0munstack\u001b[0m\u001b[0;34m(\u001b[0m\u001b[0mcolumns_listlike\u001b[0m\u001b[0;34m)\u001b[0m\u001b[0;34m\u001b[0m\u001b[0;34m\u001b[0m\u001b[0m\n\u001b[0m\u001b[1;32m    518\u001b[0m \u001b[0;34m\u001b[0m\u001b[0m\n\u001b[1;32m    519\u001b[0m \u001b[0;34m\u001b[0m\u001b[0m\n",
      "\u001b[0;32m/opt/anaconda3/lib/python3.9/site-packages/pandas/core/series.py\u001b[0m in \u001b[0;36munstack\u001b[0;34m(self, level, fill_value)\u001b[0m\n\u001b[1;32m   4079\u001b[0m         \u001b[0;32mfrom\u001b[0m \u001b[0mpandas\u001b[0m\u001b[0;34m.\u001b[0m\u001b[0mcore\u001b[0m\u001b[0;34m.\u001b[0m\u001b[0mreshape\u001b[0m\u001b[0;34m.\u001b[0m\u001b[0mreshape\u001b[0m \u001b[0;32mimport\u001b[0m \u001b[0munstack\u001b[0m\u001b[0;34m\u001b[0m\u001b[0;34m\u001b[0m\u001b[0m\n\u001b[1;32m   4080\u001b[0m \u001b[0;34m\u001b[0m\u001b[0m\n\u001b[0;32m-> 4081\u001b[0;31m         \u001b[0;32mreturn\u001b[0m \u001b[0munstack\u001b[0m\u001b[0;34m(\u001b[0m\u001b[0mself\u001b[0m\u001b[0;34m,\u001b[0m \u001b[0mlevel\u001b[0m\u001b[0;34m,\u001b[0m \u001b[0mfill_value\u001b[0m\u001b[0;34m)\u001b[0m\u001b[0;34m\u001b[0m\u001b[0;34m\u001b[0m\u001b[0m\n\u001b[0m\u001b[1;32m   4082\u001b[0m \u001b[0;34m\u001b[0m\u001b[0m\n\u001b[1;32m   4083\u001b[0m     \u001b[0;31m# ----------------------------------------------------------------------\u001b[0m\u001b[0;34m\u001b[0m\u001b[0;34m\u001b[0m\u001b[0m\n",
      "\u001b[0;32m/opt/anaconda3/lib/python3.9/site-packages/pandas/core/reshape/reshape.py\u001b[0m in \u001b[0;36munstack\u001b[0;34m(obj, level, fill_value)\u001b[0m\n\u001b[1;32m    458\u001b[0m         \u001b[0;32mif\u001b[0m \u001b[0mis_1d_only_ea_dtype\u001b[0m\u001b[0;34m(\u001b[0m\u001b[0mobj\u001b[0m\u001b[0;34m.\u001b[0m\u001b[0mdtype\u001b[0m\u001b[0;34m)\u001b[0m\u001b[0;34m:\u001b[0m\u001b[0;34m\u001b[0m\u001b[0;34m\u001b[0m\u001b[0m\n\u001b[1;32m    459\u001b[0m             \u001b[0;32mreturn\u001b[0m \u001b[0m_unstack_extension_series\u001b[0m\u001b[0;34m(\u001b[0m\u001b[0mobj\u001b[0m\u001b[0;34m,\u001b[0m \u001b[0mlevel\u001b[0m\u001b[0;34m,\u001b[0m \u001b[0mfill_value\u001b[0m\u001b[0;34m)\u001b[0m\u001b[0;34m\u001b[0m\u001b[0;34m\u001b[0m\u001b[0m\n\u001b[0;32m--> 460\u001b[0;31m         unstacker = _Unstacker(\n\u001b[0m\u001b[1;32m    461\u001b[0m             \u001b[0mobj\u001b[0m\u001b[0;34m.\u001b[0m\u001b[0mindex\u001b[0m\u001b[0;34m,\u001b[0m \u001b[0mlevel\u001b[0m\u001b[0;34m=\u001b[0m\u001b[0mlevel\u001b[0m\u001b[0;34m,\u001b[0m \u001b[0mconstructor\u001b[0m\u001b[0;34m=\u001b[0m\u001b[0mobj\u001b[0m\u001b[0;34m.\u001b[0m\u001b[0m_constructor_expanddim\u001b[0m\u001b[0;34m\u001b[0m\u001b[0;34m\u001b[0m\u001b[0m\n\u001b[1;32m    462\u001b[0m         )\n",
      "\u001b[0;32m/opt/anaconda3/lib/python3.9/site-packages/pandas/core/reshape/reshape.py\u001b[0m in \u001b[0;36m__init__\u001b[0;34m(self, index, level, constructor)\u001b[0m\n\u001b[1;32m    131\u001b[0m             \u001b[0;32mraise\u001b[0m \u001b[0mValueError\u001b[0m\u001b[0;34m(\u001b[0m\u001b[0;34m\"Unstacked DataFrame is too big, causing int32 overflow\"\u001b[0m\u001b[0;34m)\u001b[0m\u001b[0;34m\u001b[0m\u001b[0;34m\u001b[0m\u001b[0m\n\u001b[1;32m    132\u001b[0m \u001b[0;34m\u001b[0m\u001b[0m\n\u001b[0;32m--> 133\u001b[0;31m         \u001b[0mself\u001b[0m\u001b[0;34m.\u001b[0m\u001b[0m_make_selectors\u001b[0m\u001b[0;34m(\u001b[0m\u001b[0;34m)\u001b[0m\u001b[0;34m\u001b[0m\u001b[0;34m\u001b[0m\u001b[0m\n\u001b[0m\u001b[1;32m    134\u001b[0m \u001b[0;34m\u001b[0m\u001b[0m\n\u001b[1;32m    135\u001b[0m     \u001b[0;34m@\u001b[0m\u001b[0mcache_readonly\u001b[0m\u001b[0;34m\u001b[0m\u001b[0;34m\u001b[0m\u001b[0m\n",
      "\u001b[0;32m/opt/anaconda3/lib/python3.9/site-packages/pandas/core/reshape/reshape.py\u001b[0m in \u001b[0;36m_make_selectors\u001b[0;34m(self)\u001b[0m\n\u001b[1;32m    183\u001b[0m \u001b[0;34m\u001b[0m\u001b[0m\n\u001b[1;32m    184\u001b[0m         \u001b[0;32mif\u001b[0m \u001b[0mmask\u001b[0m\u001b[0;34m.\u001b[0m\u001b[0msum\u001b[0m\u001b[0;34m(\u001b[0m\u001b[0;34m)\u001b[0m \u001b[0;34m<\u001b[0m \u001b[0mlen\u001b[0m\u001b[0;34m(\u001b[0m\u001b[0mself\u001b[0m\u001b[0;34m.\u001b[0m\u001b[0mindex\u001b[0m\u001b[0;34m)\u001b[0m\u001b[0;34m:\u001b[0m\u001b[0;34m\u001b[0m\u001b[0;34m\u001b[0m\u001b[0m\n\u001b[0;32m--> 185\u001b[0;31m             \u001b[0;32mraise\u001b[0m \u001b[0mValueError\u001b[0m\u001b[0;34m(\u001b[0m\u001b[0;34m\"Index contains duplicate entries, cannot reshape\"\u001b[0m\u001b[0;34m)\u001b[0m\u001b[0;34m\u001b[0m\u001b[0;34m\u001b[0m\u001b[0m\n\u001b[0m\u001b[1;32m    186\u001b[0m \u001b[0;34m\u001b[0m\u001b[0m\n\u001b[1;32m    187\u001b[0m         \u001b[0mself\u001b[0m\u001b[0;34m.\u001b[0m\u001b[0mgroup_index\u001b[0m \u001b[0;34m=\u001b[0m \u001b[0mcomp_index\u001b[0m\u001b[0;34m\u001b[0m\u001b[0;34m\u001b[0m\u001b[0m\n",
      "\u001b[0;31mValueError\u001b[0m: Index contains duplicate entries, cannot reshape"
     ]
    }
   ],
   "source": [
    "## Reshape data \n",
    "pivot_test = cs_small.pivot(index=\"country_code\", columns=\"indicator_name\", values=\"value\")\n",
    "\n",
    "pivot_test"
   ]
  }
 ],
 "metadata": {
  "kernelspec": {
   "display_name": "Python 3 (ipykernel)",
   "language": "python",
   "name": "python3"
  },
  "language_info": {
   "codemirror_mode": {
    "name": "ipython",
    "version": 3
   },
   "file_extension": ".py",
   "mimetype": "text/x-python",
   "name": "python",
   "nbconvert_exporter": "python",
   "pygments_lexer": "ipython3",
   "version": "3.10.2"
  }
 },
 "nbformat": 4,
 "nbformat_minor": 5
}
