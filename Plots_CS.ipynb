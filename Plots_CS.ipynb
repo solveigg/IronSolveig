{
 "cells": [
  {
   "cell_type": "markdown",
   "id": "b4bd3949",
   "metadata": {},
   "source": [
    "# Load packages "
   ]
  },
  {
   "cell_type": "code",
   "execution_count": null,
   "id": "900b42ed",
   "metadata": {},
   "outputs": [],
   "source": [
    "import numpy as np\n",
    "import pandas as pd\n",
    "import matplotlib.pyplot as plt\n",
    "%matplotlib inline\n",
    "import seaborn as sns"
   ]
  },
  {
   "cell_type": "markdown",
   "id": "6bd3ac79",
   "metadata": {},
   "source": [
    "### Import data "
   ]
  },
  {
   "cell_type": "code",
   "execution_count": null,
   "id": "6f9d4bd4",
   "metadata": {},
   "outputs": [],
   "source": [
    "\n",
    "clean_df = pd.read_csv('Customer_Analysis_Case_Study/Data/Data_Marketing_Customer_Analysis_Round3.csv')"
   ]
  },
  {
   "cell_type": "markdown",
   "id": "1baa0e80",
   "metadata": {},
   "source": [
    "### Get overview of data "
   ]
  },
  {
   "cell_type": "code",
   "execution_count": null,
   "id": "b1fe1fb8",
   "metadata": {},
   "outputs": [],
   "source": [
    "clean_df.info()"
   ]
  },
  {
   "cell_type": "markdown",
   "id": "6677bc70",
   "metadata": {},
   "source": [
    "# Activities 4\n",
    "\n",
    "#- Get the numeric data into dataframe called `numerical` and categorical columns in a dataframe called `categoricals`.\n",
    "#(You can use np.number and np.object to select the numerical data types and categorical data types respectively)\n",
    "#- Now we will try to check the normality of the numerical variables visually\n",
    "#- Use seaborn library to construct distribution plots for the numerical variables\n",
    "#- Use Matplotlib to construct histograms\n",
    "#- Do the distributions for different numerical variables look like a normal distribution \n",
    "#- For the numerical variables, check the multicollinearity between the features. Please note that we will use the column `total_claim_amount` later as the target variable.\n",
    "#- Drop one of the two features that show a high correlation between them (greater than 0.9). If there is no pair of features that have a high correlation, then do not drop any features."
   ]
  },
  {
   "cell_type": "markdown",
   "id": "4e86a713",
   "metadata": {},
   "source": [
    "### create numerical and catergorial frame "
   ]
  },
  {
   "cell_type": "code",
   "execution_count": null,
   "id": "205c6809",
   "metadata": {},
   "outputs": [],
   "source": [
    "numerical = clean_df.select_dtypes('int64') # asign numerics to new object\n",
    "categoricals = clean_df.select_dtypes('object')"
   ]
  },
  {
   "cell_type": "code",
   "execution_count": null,
   "id": "9f87cc49",
   "metadata": {},
   "outputs": [],
   "source": [
    "#Check \n",
    "#numerical.info\n",
    "#categoricals.info"
   ]
  },
  {
   "cell_type": "markdown",
   "id": "c569e356",
   "metadata": {},
   "source": [
    "### Check the normality of the numerical variables visually"
   ]
  },
  {
   "cell_type": "code",
   "execution_count": null,
   "id": "124781dc",
   "metadata": {},
   "outputs": [],
   "source": [
    "# Seaborn\n",
    "sns.pairplot(numerical) # command to produce pairwise plot\n",
    "plt.show()  # comand. to output plot"
   ]
  },
  {
   "cell_type": "code",
   "execution_count": null,
   "id": "56ac92bc",
   "metadata": {},
   "outputs": [],
   "source": [
    "# Seaborn displot\n",
    "\n",
    "sns.displot(numerical, bins=20) # produce pairwise plot and fix with of bins\n",
    "#plt.show()\n",
    "\n",
    "for column in numerical.columns:# write function to create distribution plot for all cols\n",
    "    plt.figure()             \n",
    "    sns.distplot(numerical[column])"
   ]
  },
  {
   "cell_type": "code",
   "execution_count": null,
   "id": "ac7d3980",
   "metadata": {},
   "outputs": [],
   "source": [
    "# Matplotlib\n",
    "\n",
    "numerical.hist(figsize=(9,9), bins = 30, color = \"pink\")\n",
    "#numerical.plt.hist2d(figsize=(9,9))"
   ]
  },
  {
   "cell_type": "markdown",
   "id": "c317e2bf",
   "metadata": {},
   "source": [
    "### Check the multicollinearity between the features.\n",
    "\n",
    "#- no high correlation, subsequently non dropped"
   ]
  },
  {
   "cell_type": "code",
   "execution_count": null,
   "id": "e7c37fdf",
   "metadata": {},
   "outputs": [],
   "source": [
    "# Used heatmap cod eto perform task \n",
    "\n",
    "corr = numerical.corr() # parse df to correlation command\n",
    "mask = np.zeros_like(corr) # mask all zeros \n",
    "mask[np.triu_indices_from(mask)] = True\n",
    "with sns.axes_style(\"white\"): # hide mirroring part\n",
    "    f, ax = plt.subplots(figsize=(9, 7)) # define plotsize\n",
    "    ax = sns.heatmap(corr, mask=mask,cmap= 'viridis', vmin=-1,vmax=1,annot=True, square=True)"
   ]
  },
  {
   "cell_type": "markdown",
   "id": "1bd5136a",
   "metadata": {},
   "source": [
    "## Activity 5\n",
    "#- Show a plot of the total number of responses.\n",
    "#- Show a plot of the response rate by the sales channel.\n",
    "#- Show a plot of the response rate by the total claim amount.\n",
    "#- Show a plot of the response rate by income.\n",
    "#- Don't limit your creativity!  plot any interesting findings/insights that describe some interesting facts about your data set and its variables.\n",
    "#- Plot the Correlation Heatmap.\n",
    "#- Clean your notebook and make it a readible and presentable with a good documentation that summarizes the Data Cleaning, Exploration(including plots) Steps that you have performed."
   ]
  },
  {
   "cell_type": "code",
   "execution_count": null,
   "id": "4dbdff8c",
   "metadata": {},
   "outputs": [],
   "source": [
    "## Total number of responses \n",
    "\n",
    "\n",
    "categoricals['response'].value_counts()\n",
    "\n",
    "ax = sns.countplot(x=\"response\", data=categoricals)\n",
    "\n",
    "# create figure and axes\n",
    "fig, ax1 = plt.subplots(figsize = (6,6))\n",
    "\n",
    "# set title\n",
    "ax1.set_title('Response Rate', fontweight='bold')\n",
    "\n",
    "# plot the bar \n",
    "ax1.bar(response.index, response, color=('red','green'))\n"
   ]
  },
  {
   "cell_type": "code",
   "execution_count": null,
   "id": "890c78b9",
   "metadata": {},
   "outputs": [],
   "source": [
    "categoricals.columns"
   ]
  },
  {
   "cell_type": "code",
   "execution_count": null,
   "id": "76ab58a5",
   "metadata": {},
   "outputs": [],
   "source": [
    "categoricals['sales_channel'].value_counts()"
   ]
  },
  {
   "cell_type": "code",
   "execution_count": null,
   "id": "a1a12c6d",
   "metadata": {
    "scrolled": true
   },
   "outputs": [],
   "source": [
    "#  Show a plot of the response rate by sales chanel \n",
    "\n",
    "fig_bar, ax2 = plt.subplots(figsize = (12,8))\n",
    "\n",
    "ax2.set_title('Response rate by the sales channel', size='25', fontweight='bold')\n",
    "sns.barplot(x =clean_df['sales_channel'] , y = clean_df.index, hue = clean_df['response'],palette=\"dark\", ax = ax2)"
   ]
  },
  {
   "cell_type": "code",
   "execution_count": null,
   "id": "defbb8b0",
   "metadata": {},
   "outputs": [],
   "source": [
    "# response rate by income\n",
    "\n",
    "fig_rate_by_income = sns.catplot(x='response', y = 'income', data = clean_df,  kind=\"box\", margin_titles = True)\n",
    "fig_rate_by_income.fig.suptitle('Response by income', size='20', fontweight='bold', y = 1.05)\n",
    "fig_rate_by_income.set_xticklabels(['Yes', 'No'])\n",
    "fig_rate_by_income.set_ylabels('income')\n",
    "fig_rate_by_income.set_xlabels('Response')"
   ]
  },
  {
   "cell_type": "markdown",
   "id": "48511125",
   "metadata": {},
   "source": [
    "## Playing "
   ]
  },
  {
   "cell_type": "code",
   "execution_count": null,
   "id": "9990d5a3",
   "metadata": {},
   "outputs": [],
   "source": [
    "# reproduce as violinplot\n",
    "fig_rate_by_income_2 = sns.violinplot(x='response', y = 'income', data = clean_df,  kind=\"box\", palette = 'pink', margin_titles = True)\n",
    "fig_rate_by_income_2.fig_rate_by_income_2.suptitle('Response by income', size='20', fontweight='bold', y = 1.05)\n",
    "fig_rate_by_income_2.set_xticklabels(['Yes', 'No'])\n",
    "fig_rate_by_income_2.set_ylabels('income')\n",
    "fig_rate_by_income_2.set_xlabels('Response')"
   ]
  },
  {
   "cell_type": "code",
   "execution_count": null,
   "id": "4924137e",
   "metadata": {},
   "outputs": [],
   "source": [
    "# Show a plot of the response rate by the total claim amount\n",
    "\n",
    "#fig_strip = sns.stripplot(x= 'response',\n",
    "                #  y=\"total_claim_amount\",\n",
    "                  #data= clean_df)\n",
    "\n",
    "fig_bar = sns.scatterplot(x=\"total_claim_amount\",\n",
    "                y='response',\n",
    "                data=clean_df)"
   ]
  },
  {
   "cell_type": "code",
   "execution_count": null,
   "id": "d6ee428a",
   "metadata": {},
   "outputs": [],
   "source": [
    "fig_joint_2 = sns.jointplot(x='income', y='total_claim_amount', data=clean_df, hue ='monthly_premium_auto')\n",
    "fig_joint_2.ax_marg_x.set_xlim(10000, 200000)\n",
    "fig_joint_2.ax_marg_y.set_ylim(0, 5000)\n"
   ]
  },
  {
   "cell_type": "code",
   "execution_count": null,
   "id": "d3ad36b4",
   "metadata": {},
   "outputs": [],
   "source": [
    "plt.scatter(x=numerical['income'], y=numerical['monthly_premium_auto'])\n",
    "plt.show()"
   ]
  },
  {
   "cell_type": "code",
   "execution_count": null,
   "id": "40ef59f0",
   "metadata": {},
   "outputs": [],
   "source": []
  }
 ],
 "metadata": {
  "kernelspec": {
   "display_name": "Python 3 (ipykernel)",
   "language": "python",
   "name": "python3"
  },
  "language_info": {
   "codemirror_mode": {
    "name": "ipython",
    "version": 3
   },
   "file_extension": ".py",
   "mimetype": "text/x-python",
   "name": "python",
   "nbconvert_exporter": "python",
   "pygments_lexer": "ipython3",
   "version": "3.9.7"
  }
 },
 "nbformat": 4,
 "nbformat_minor": 5
}
