{
 "cells": [
  {
   "cell_type": "code",
   "execution_count": 19,
   "metadata": {},
   "outputs": [],
   "source": [
    "## Case Study Chriss\n",
    "\n",
    "# Set up\n",
    "import numpy as np\n",
    "import pandas as pd"
   ]
  },
  {
   "cell_type": "code",
   "execution_count": 20,
   "metadata": {},
   "outputs": [],
   "source": [
    "# input data \n",
    "\n",
    "file1 = pd.read_csv('Customer_Analysis_Case_Study/Data/file1.csv')\n",
    "file2 = pd.read_csv('Customer_Analysis_Case_Study/Data/file2.csv')\n",
    "file3 = pd.read_csv('Customer_Analysis_Case_Study/Data/file3.csv') \n",
    "\n",
    "file_list = [file1, file2, file3]\n"
   ]
  },
  {
   "cell_type": "code",
   "execution_count": 21,
   "metadata": {},
   "outputs": [
    {
     "data": {
      "text/plain": [
       "[11, 11, 11]"
      ]
     },
     "execution_count": 21,
     "metadata": {},
     "output_type": "execute_result"
    }
   ],
   "source": [
    "list(map(lambda x: x.columns, file_list)) \n",
    "list(map(len, list(map(lambda x: x.columns, file_list)) ))"
   ]
  },
  {
   "cell_type": "markdown",
   "metadata": {},
   "source": [
    "## Define to lower"
   ]
  },
  {
   "cell_type": "code",
   "execution_count": 22,
   "metadata": {},
   "outputs": [],
   "source": [
    "\n",
    "def lower_case_column_names(file_list):\n",
    "    file_list.columns=[i.lower() for i in file_list.columns]\n",
    "    return file_list"
   ]
  },
  {
   "cell_type": "code",
   "execution_count": 23,
   "metadata": {},
   "outputs": [
    {
     "data": {
      "text/plain": [
       "[     customer          st gender             education  \\\n",
       " 0     RB50392  Washington    NaN                Master   \n",
       " 1     QZ44356     Arizona      F              Bachelor   \n",
       " 2     AI49188      Nevada      F              Bachelor   \n",
       " 3     WW63253  California      M              Bachelor   \n",
       " 4     GA49547  Washington      M  High School or Below   \n",
       " ...       ...         ...    ...                   ...   \n",
       " 4003      NaN         NaN    NaN                   NaN   \n",
       " 4004      NaN         NaN    NaN                   NaN   \n",
       " 4005      NaN         NaN    NaN                   NaN   \n",
       " 4006      NaN         NaN    NaN                   NaN   \n",
       " 4007      NaN         NaN    NaN                   NaN   \n",
       " \n",
       "      customer lifetime value   income  monthly premium auto  \\\n",
       " 0                        NaN      0.0                1000.0   \n",
       " 1                 697953.59%      0.0                  94.0   \n",
       " 2                1288743.17%  48767.0                 108.0   \n",
       " 3                 764586.18%      0.0                 106.0   \n",
       " 4                 536307.65%  36357.0                  68.0   \n",
       " ...                      ...      ...                   ...   \n",
       " 4003                     NaN      NaN                   NaN   \n",
       " 4004                     NaN      NaN                   NaN   \n",
       " 4005                     NaN      NaN                   NaN   \n",
       " 4006                     NaN      NaN                   NaN   \n",
       " 4007                     NaN      NaN                   NaN   \n",
       " \n",
       "      number of open complaints     policy type  vehicle class  \\\n",
       " 0                       1/0/00   Personal Auto  Four-Door Car   \n",
       " 1                       1/0/00   Personal Auto  Four-Door Car   \n",
       " 2                       1/0/00   Personal Auto   Two-Door Car   \n",
       " 3                       1/0/00  Corporate Auto            SUV   \n",
       " 4                       1/0/00   Personal Auto  Four-Door Car   \n",
       " ...                        ...             ...            ...   \n",
       " 4003                       NaN             NaN            NaN   \n",
       " 4004                       NaN             NaN            NaN   \n",
       " 4005                       NaN             NaN            NaN   \n",
       " 4006                       NaN             NaN            NaN   \n",
       " 4007                       NaN             NaN            NaN   \n",
       " \n",
       "       total claim amount  \n",
       " 0               2.704934  \n",
       " 1            1131.464935  \n",
       " 2             566.472247  \n",
       " 3             529.881344  \n",
       " 4              17.269323  \n",
       " ...                  ...  \n",
       " 4003                 NaN  \n",
       " 4004                 NaN  \n",
       " 4005                 NaN  \n",
       " 4006                 NaN  \n",
       " 4007                 NaN  \n",
       " \n",
       " [4008 rows x 11 columns],\n",
       "     customer          st gender education customer lifetime value  income  \\\n",
       " 0    GS98873     Arizona      F  Bachelor              323912.47%   16061   \n",
       " 1    CW49887  California      F    Master              462680.11%   79487   \n",
       " 2    MY31220  California      F   College              899704.02%   54230   \n",
       " 3    UH35128      Oregon      F   College             2580706.30%   71210   \n",
       " 4    WH52799     Arizona      F   College              380812.21%   94903   \n",
       " ..       ...         ...    ...       ...                     ...     ...   \n",
       " 991  HV85198     Arizona      M    Master              847141.75%   63513   \n",
       " 992  BS91566     Arizona      F   College              543121.91%   58161   \n",
       " 993  IL40123      Nevada      F   College              568964.41%   83640   \n",
       " 994  MY32149  California      F    Master              368672.38%       0   \n",
       " 995  SA91515  California      M  Bachelor              399258.39%       0   \n",
       " \n",
       "      monthly premium auto number of open complaints  total claim amount  \\\n",
       " 0                      88                    1/0/00          633.600000   \n",
       " 1                     114                    1/0/00          547.200000   \n",
       " 2                     112                    1/0/00          537.600000   \n",
       " 3                     214                    1/1/00         1027.200000   \n",
       " 4                      94                    1/0/00          451.200000   \n",
       " ..                    ...                       ...                 ...   \n",
       " 991                    70                    1/0/00          185.667213   \n",
       " 992                    68                    1/0/00          140.747286   \n",
       " 993                    70                    1/0/00          471.050488   \n",
       " 994                    96                    1/0/00           28.460568   \n",
       " 995                   111                    1/0/00          700.349052   \n",
       " \n",
       "         policy type  vehicle class  \n",
       " 0     Personal Auto  Four-Door Car  \n",
       " 1      Special Auto            SUV  \n",
       " 2     Personal Auto   Two-Door Car  \n",
       " 3     Personal Auto     Luxury Car  \n",
       " 4    Corporate Auto   Two-Door Car  \n",
       " ..              ...            ...  \n",
       " 991   Personal Auto  Four-Door Car  \n",
       " 992  Corporate Auto  Four-Door Car  \n",
       " 993  Corporate Auto   Two-Door Car  \n",
       " 994   Personal Auto   Two-Door Car  \n",
       " 995   Personal Auto            SUV  \n",
       " \n",
       " [996 rows x 11 columns],\n",
       "      customer       state  customer lifetime value             education  \\\n",
       " 0     SA25987  Washington              3479.137523  High School or Below   \n",
       " 1     TB86706     Arizona              2502.637401                Master   \n",
       " 2     ZL73902      Nevada              3265.156348              Bachelor   \n",
       " 3     KX23516  California              4455.843406  High School or Below   \n",
       " 4     FN77294  California              7704.958480  High School or Below   \n",
       " ...       ...         ...                      ...                   ...   \n",
       " 7065  LA72316  California             23405.987980              Bachelor   \n",
       " 7066  PK87824  California              3096.511217               College   \n",
       " 7067  TD14365  California              8163.890428              Bachelor   \n",
       " 7068  UP19263  California              7524.442436               College   \n",
       " 7069  Y167826  California              2611.836866               College   \n",
       " \n",
       "      gender  income  monthly premium auto  number of open complaints  \\\n",
       " 0         M       0                   104                          0   \n",
       " 1         M       0                    66                          0   \n",
       " 2         F   25820                    82                          0   \n",
       " 3         F       0                   121                          0   \n",
       " 4         M   30366                   101                          2   \n",
       " ...     ...     ...                   ...                        ...   \n",
       " 7065      M   71941                    73                          0   \n",
       " 7066      F   21604                    79                          0   \n",
       " 7067      M       0                    85                          3   \n",
       " 7068      M   21941                    96                          0   \n",
       " 7069      M       0                    77                          0   \n",
       " \n",
       "          policy type  total claim amount  vehicle class  \n",
       " 0      Personal Auto          499.200000   Two-Door Car  \n",
       " 1      Personal Auto            3.468912   Two-Door Car  \n",
       " 2      Personal Auto          393.600000  Four-Door Car  \n",
       " 3      Personal Auto          699.615192            SUV  \n",
       " 4      Personal Auto          484.800000            SUV  \n",
       " ...              ...                 ...            ...  \n",
       " 7065   Personal Auto          198.234764  Four-Door Car  \n",
       " 7066  Corporate Auto          379.200000  Four-Door Car  \n",
       " 7067  Corporate Auto          790.784983  Four-Door Car  \n",
       " 7068   Personal Auto          691.200000  Four-Door Car  \n",
       " 7069  Corporate Auto          369.600000   Two-Door Car  \n",
       " \n",
       " [7070 rows x 11 columns]]"
      ]
     },
     "execution_count": 23,
     "metadata": {},
     "output_type": "execute_result"
    }
   ],
   "source": [
    "# Apply to_lower\n",
    "\n",
    "list(map(lower_case_column_names,file_list ))\n"
   ]
  },
  {
   "cell_type": "code",
   "execution_count": 24,
   "metadata": {},
   "outputs": [
    {
     "data": {
      "text/plain": [
       "[     customer       state gender             education  \\\n",
       " 0     RB50392  Washington    NaN                Master   \n",
       " 1     QZ44356     Arizona      F              Bachelor   \n",
       " 2     AI49188      Nevada      F              Bachelor   \n",
       " 3     WW63253  California      M              Bachelor   \n",
       " 4     GA49547  Washington      M  High School or Below   \n",
       " ...       ...         ...    ...                   ...   \n",
       " 4003      NaN         NaN    NaN                   NaN   \n",
       " 4004      NaN         NaN    NaN                   NaN   \n",
       " 4005      NaN         NaN    NaN                   NaN   \n",
       " 4006      NaN         NaN    NaN                   NaN   \n",
       " 4007      NaN         NaN    NaN                   NaN   \n",
       " \n",
       "      customer lifetime value   income  monthly premium auto  \\\n",
       " 0                        NaN      0.0                1000.0   \n",
       " 1                 697953.59%      0.0                  94.0   \n",
       " 2                1288743.17%  48767.0                 108.0   \n",
       " 3                 764586.18%      0.0                 106.0   \n",
       " 4                 536307.65%  36357.0                  68.0   \n",
       " ...                      ...      ...                   ...   \n",
       " 4003                     NaN      NaN                   NaN   \n",
       " 4004                     NaN      NaN                   NaN   \n",
       " 4005                     NaN      NaN                   NaN   \n",
       " 4006                     NaN      NaN                   NaN   \n",
       " 4007                     NaN      NaN                   NaN   \n",
       " \n",
       "      number of open complaints     policy type  vehicle class  \\\n",
       " 0                       1/0/00   Personal Auto  Four-Door Car   \n",
       " 1                       1/0/00   Personal Auto  Four-Door Car   \n",
       " 2                       1/0/00   Personal Auto   Two-Door Car   \n",
       " 3                       1/0/00  Corporate Auto            SUV   \n",
       " 4                       1/0/00   Personal Auto  Four-Door Car   \n",
       " ...                        ...             ...            ...   \n",
       " 4003                       NaN             NaN            NaN   \n",
       " 4004                       NaN             NaN            NaN   \n",
       " 4005                       NaN             NaN            NaN   \n",
       " 4006                       NaN             NaN            NaN   \n",
       " 4007                       NaN             NaN            NaN   \n",
       " \n",
       "       total claim amount  \n",
       " 0               2.704934  \n",
       " 1            1131.464935  \n",
       " 2             566.472247  \n",
       " 3             529.881344  \n",
       " 4              17.269323  \n",
       " ...                  ...  \n",
       " 4003                 NaN  \n",
       " 4004                 NaN  \n",
       " 4005                 NaN  \n",
       " 4006                 NaN  \n",
       " 4007                 NaN  \n",
       " \n",
       " [4008 rows x 11 columns],\n",
       "     customer       state gender education customer lifetime value  income  \\\n",
       " 0    GS98873     Arizona      F  Bachelor              323912.47%   16061   \n",
       " 1    CW49887  California      F    Master              462680.11%   79487   \n",
       " 2    MY31220  California      F   College              899704.02%   54230   \n",
       " 3    UH35128      Oregon      F   College             2580706.30%   71210   \n",
       " 4    WH52799     Arizona      F   College              380812.21%   94903   \n",
       " ..       ...         ...    ...       ...                     ...     ...   \n",
       " 991  HV85198     Arizona      M    Master              847141.75%   63513   \n",
       " 992  BS91566     Arizona      F   College              543121.91%   58161   \n",
       " 993  IL40123      Nevada      F   College              568964.41%   83640   \n",
       " 994  MY32149  California      F    Master              368672.38%       0   \n",
       " 995  SA91515  California      M  Bachelor              399258.39%       0   \n",
       " \n",
       "      monthly premium auto number of open complaints  total claim amount  \\\n",
       " 0                      88                    1/0/00          633.600000   \n",
       " 1                     114                    1/0/00          547.200000   \n",
       " 2                     112                    1/0/00          537.600000   \n",
       " 3                     214                    1/1/00         1027.200000   \n",
       " 4                      94                    1/0/00          451.200000   \n",
       " ..                    ...                       ...                 ...   \n",
       " 991                    70                    1/0/00          185.667213   \n",
       " 992                    68                    1/0/00          140.747286   \n",
       " 993                    70                    1/0/00          471.050488   \n",
       " 994                    96                    1/0/00           28.460568   \n",
       " 995                   111                    1/0/00          700.349052   \n",
       " \n",
       "         policy type  vehicle class  \n",
       " 0     Personal Auto  Four-Door Car  \n",
       " 1      Special Auto            SUV  \n",
       " 2     Personal Auto   Two-Door Car  \n",
       " 3     Personal Auto     Luxury Car  \n",
       " 4    Corporate Auto   Two-Door Car  \n",
       " ..              ...            ...  \n",
       " 991   Personal Auto  Four-Door Car  \n",
       " 992  Corporate Auto  Four-Door Car  \n",
       " 993  Corporate Auto   Two-Door Car  \n",
       " 994   Personal Auto   Two-Door Car  \n",
       " 995   Personal Auto            SUV  \n",
       " \n",
       " [996 rows x 11 columns],\n",
       "      customer       state  customer lifetime value             education  \\\n",
       " 0     SA25987  Washington              3479.137523  High School or Below   \n",
       " 1     TB86706     Arizona              2502.637401                Master   \n",
       " 2     ZL73902      Nevada              3265.156348              Bachelor   \n",
       " 3     KX23516  California              4455.843406  High School or Below   \n",
       " 4     FN77294  California              7704.958480  High School or Below   \n",
       " ...       ...         ...                      ...                   ...   \n",
       " 7065  LA72316  California             23405.987980              Bachelor   \n",
       " 7066  PK87824  California              3096.511217               College   \n",
       " 7067  TD14365  California              8163.890428              Bachelor   \n",
       " 7068  UP19263  California              7524.442436               College   \n",
       " 7069  Y167826  California              2611.836866               College   \n",
       " \n",
       "      gender  income  monthly premium auto  number of open complaints  \\\n",
       " 0         M       0                   104                          0   \n",
       " 1         M       0                    66                          0   \n",
       " 2         F   25820                    82                          0   \n",
       " 3         F       0                   121                          0   \n",
       " 4         M   30366                   101                          2   \n",
       " ...     ...     ...                   ...                        ...   \n",
       " 7065      M   71941                    73                          0   \n",
       " 7066      F   21604                    79                          0   \n",
       " 7067      M       0                    85                          3   \n",
       " 7068      M   21941                    96                          0   \n",
       " 7069      M       0                    77                          0   \n",
       " \n",
       "          policy type  total claim amount  vehicle class  \n",
       " 0      Personal Auto          499.200000   Two-Door Car  \n",
       " 1      Personal Auto            3.468912   Two-Door Car  \n",
       " 2      Personal Auto          393.600000  Four-Door Car  \n",
       " 3      Personal Auto          699.615192            SUV  \n",
       " 4      Personal Auto          484.800000            SUV  \n",
       " ...              ...                 ...            ...  \n",
       " 7065   Personal Auto          198.234764  Four-Door Car  \n",
       " 7066  Corporate Auto          379.200000  Four-Door Car  \n",
       " 7067  Corporate Auto          790.784983  Four-Door Car  \n",
       " 7068   Personal Auto          691.200000  Four-Door Car  \n",
       " 7069  Corporate Auto          369.600000   Two-Door Car  \n",
       " \n",
       " [7070 rows x 11 columns]]"
      ]
     },
     "execution_count": 24,
     "metadata": {},
     "output_type": "execute_result"
    }
   ],
   "source": [
    "# define rename \n",
    "\n",
    "def rename_columns(file_list):\n",
    "    file_list.rename(columns={'st':'state'}, inplace=True )\n",
    "    return file_list\n",
    "\n",
    "# apply rename \n",
    "list(map(rename_columns, file_list))"
   ]
  },
  {
   "cell_type": "markdown",
   "metadata": {},
   "source": [
    "## define drop"
   ]
  },
  {
   "cell_type": "code",
   "execution_count": 25,
   "metadata": {},
   "outputs": [],
   "source": [
    "def drop_columns(file_list) :\n",
    "    file_list.drop(columns=['customer'], inplace=True)\n",
    "    return file_list"
   ]
  },
  {
   "cell_type": "code",
   "execution_count": 26,
   "metadata": {},
   "outputs": [
    {
     "data": {
      "text/html": [
       "<div>\n",
       "<style scoped>\n",
       "    .dataframe tbody tr th:only-of-type {\n",
       "        vertical-align: middle;\n",
       "    }\n",
       "\n",
       "    .dataframe tbody tr th {\n",
       "        vertical-align: top;\n",
       "    }\n",
       "\n",
       "    .dataframe thead th {\n",
       "        text-align: right;\n",
       "    }\n",
       "</style>\n",
       "<table border=\"1\" class=\"dataframe\">\n",
       "  <thead>\n",
       "    <tr style=\"text-align: right;\">\n",
       "      <th></th>\n",
       "      <th>customer</th>\n",
       "      <th>state</th>\n",
       "      <th>gender</th>\n",
       "      <th>education</th>\n",
       "      <th>customer lifetime value</th>\n",
       "      <th>income</th>\n",
       "      <th>monthly premium auto</th>\n",
       "      <th>number of open complaints</th>\n",
       "      <th>policy type</th>\n",
       "      <th>vehicle class</th>\n",
       "      <th>total claim amount</th>\n",
       "    </tr>\n",
       "  </thead>\n",
       "  <tbody>\n",
       "    <tr>\n",
       "      <th>0</th>\n",
       "      <td>RB50392</td>\n",
       "      <td>Washington</td>\n",
       "      <td>NaN</td>\n",
       "      <td>Master</td>\n",
       "      <td>NaN</td>\n",
       "      <td>0.0</td>\n",
       "      <td>1000.0</td>\n",
       "      <td>1/0/00</td>\n",
       "      <td>Personal Auto</td>\n",
       "      <td>Four-Door Car</td>\n",
       "      <td>2.704934</td>\n",
       "    </tr>\n",
       "    <tr>\n",
       "      <th>1</th>\n",
       "      <td>QZ44356</td>\n",
       "      <td>Arizona</td>\n",
       "      <td>F</td>\n",
       "      <td>Bachelor</td>\n",
       "      <td>697953.59%</td>\n",
       "      <td>0.0</td>\n",
       "      <td>94.0</td>\n",
       "      <td>1/0/00</td>\n",
       "      <td>Personal Auto</td>\n",
       "      <td>Four-Door Car</td>\n",
       "      <td>1131.464935</td>\n",
       "    </tr>\n",
       "    <tr>\n",
       "      <th>2</th>\n",
       "      <td>AI49188</td>\n",
       "      <td>Nevada</td>\n",
       "      <td>F</td>\n",
       "      <td>Bachelor</td>\n",
       "      <td>1288743.17%</td>\n",
       "      <td>48767.0</td>\n",
       "      <td>108.0</td>\n",
       "      <td>1/0/00</td>\n",
       "      <td>Personal Auto</td>\n",
       "      <td>Two-Door Car</td>\n",
       "      <td>566.472247</td>\n",
       "    </tr>\n",
       "    <tr>\n",
       "      <th>3</th>\n",
       "      <td>WW63253</td>\n",
       "      <td>California</td>\n",
       "      <td>M</td>\n",
       "      <td>Bachelor</td>\n",
       "      <td>764586.18%</td>\n",
       "      <td>0.0</td>\n",
       "      <td>106.0</td>\n",
       "      <td>1/0/00</td>\n",
       "      <td>Corporate Auto</td>\n",
       "      <td>SUV</td>\n",
       "      <td>529.881344</td>\n",
       "    </tr>\n",
       "    <tr>\n",
       "      <th>4</th>\n",
       "      <td>GA49547</td>\n",
       "      <td>Washington</td>\n",
       "      <td>M</td>\n",
       "      <td>High School or Below</td>\n",
       "      <td>536307.65%</td>\n",
       "      <td>36357.0</td>\n",
       "      <td>68.0</td>\n",
       "      <td>1/0/00</td>\n",
       "      <td>Personal Auto</td>\n",
       "      <td>Four-Door Car</td>\n",
       "      <td>17.269323</td>\n",
       "    </tr>\n",
       "    <tr>\n",
       "      <th>...</th>\n",
       "      <td>...</td>\n",
       "      <td>...</td>\n",
       "      <td>...</td>\n",
       "      <td>...</td>\n",
       "      <td>...</td>\n",
       "      <td>...</td>\n",
       "      <td>...</td>\n",
       "      <td>...</td>\n",
       "      <td>...</td>\n",
       "      <td>...</td>\n",
       "      <td>...</td>\n",
       "    </tr>\n",
       "    <tr>\n",
       "      <th>7065</th>\n",
       "      <td>LA72316</td>\n",
       "      <td>California</td>\n",
       "      <td>M</td>\n",
       "      <td>Bachelor</td>\n",
       "      <td>23406</td>\n",
       "      <td>71941.0</td>\n",
       "      <td>73.0</td>\n",
       "      <td>0</td>\n",
       "      <td>Personal Auto</td>\n",
       "      <td>Four-Door Car</td>\n",
       "      <td>198.234764</td>\n",
       "    </tr>\n",
       "    <tr>\n",
       "      <th>7066</th>\n",
       "      <td>PK87824</td>\n",
       "      <td>California</td>\n",
       "      <td>F</td>\n",
       "      <td>College</td>\n",
       "      <td>3096.51</td>\n",
       "      <td>21604.0</td>\n",
       "      <td>79.0</td>\n",
       "      <td>0</td>\n",
       "      <td>Corporate Auto</td>\n",
       "      <td>Four-Door Car</td>\n",
       "      <td>379.200000</td>\n",
       "    </tr>\n",
       "    <tr>\n",
       "      <th>7067</th>\n",
       "      <td>TD14365</td>\n",
       "      <td>California</td>\n",
       "      <td>M</td>\n",
       "      <td>Bachelor</td>\n",
       "      <td>8163.89</td>\n",
       "      <td>0.0</td>\n",
       "      <td>85.0</td>\n",
       "      <td>3</td>\n",
       "      <td>Corporate Auto</td>\n",
       "      <td>Four-Door Car</td>\n",
       "      <td>790.784983</td>\n",
       "    </tr>\n",
       "    <tr>\n",
       "      <th>7068</th>\n",
       "      <td>UP19263</td>\n",
       "      <td>California</td>\n",
       "      <td>M</td>\n",
       "      <td>College</td>\n",
       "      <td>7524.44</td>\n",
       "      <td>21941.0</td>\n",
       "      <td>96.0</td>\n",
       "      <td>0</td>\n",
       "      <td>Personal Auto</td>\n",
       "      <td>Four-Door Car</td>\n",
       "      <td>691.200000</td>\n",
       "    </tr>\n",
       "    <tr>\n",
       "      <th>7069</th>\n",
       "      <td>Y167826</td>\n",
       "      <td>California</td>\n",
       "      <td>M</td>\n",
       "      <td>College</td>\n",
       "      <td>2611.84</td>\n",
       "      <td>0.0</td>\n",
       "      <td>77.0</td>\n",
       "      <td>0</td>\n",
       "      <td>Corporate Auto</td>\n",
       "      <td>Two-Door Car</td>\n",
       "      <td>369.600000</td>\n",
       "    </tr>\n",
       "  </tbody>\n",
       "</table>\n",
       "<p>12074 rows × 11 columns</p>\n",
       "</div>"
      ],
      "text/plain": [
       "     customer       state gender             education  \\\n",
       "0     RB50392  Washington    NaN                Master   \n",
       "1     QZ44356     Arizona      F              Bachelor   \n",
       "2     AI49188      Nevada      F              Bachelor   \n",
       "3     WW63253  California      M              Bachelor   \n",
       "4     GA49547  Washington      M  High School or Below   \n",
       "...       ...         ...    ...                   ...   \n",
       "7065  LA72316  California      M              Bachelor   \n",
       "7066  PK87824  California      F               College   \n",
       "7067  TD14365  California      M              Bachelor   \n",
       "7068  UP19263  California      M               College   \n",
       "7069  Y167826  California      M               College   \n",
       "\n",
       "     customer lifetime value   income  monthly premium auto  \\\n",
       "0                        NaN      0.0                1000.0   \n",
       "1                 697953.59%      0.0                  94.0   \n",
       "2                1288743.17%  48767.0                 108.0   \n",
       "3                 764586.18%      0.0                 106.0   \n",
       "4                 536307.65%  36357.0                  68.0   \n",
       "...                      ...      ...                   ...   \n",
       "7065                   23406  71941.0                  73.0   \n",
       "7066                 3096.51  21604.0                  79.0   \n",
       "7067                 8163.89      0.0                  85.0   \n",
       "7068                 7524.44  21941.0                  96.0   \n",
       "7069                 2611.84      0.0                  77.0   \n",
       "\n",
       "     number of open complaints     policy type  vehicle class  \\\n",
       "0                       1/0/00   Personal Auto  Four-Door Car   \n",
       "1                       1/0/00   Personal Auto  Four-Door Car   \n",
       "2                       1/0/00   Personal Auto   Two-Door Car   \n",
       "3                       1/0/00  Corporate Auto            SUV   \n",
       "4                       1/0/00   Personal Auto  Four-Door Car   \n",
       "...                        ...             ...            ...   \n",
       "7065                         0   Personal Auto  Four-Door Car   \n",
       "7066                         0  Corporate Auto  Four-Door Car   \n",
       "7067                         3  Corporate Auto  Four-Door Car   \n",
       "7068                         0   Personal Auto  Four-Door Car   \n",
       "7069                         0  Corporate Auto   Two-Door Car   \n",
       "\n",
       "      total claim amount  \n",
       "0               2.704934  \n",
       "1            1131.464935  \n",
       "2             566.472247  \n",
       "3             529.881344  \n",
       "4              17.269323  \n",
       "...                  ...  \n",
       "7065          198.234764  \n",
       "7066          379.200000  \n",
       "7067          790.784983  \n",
       "7068          691.200000  \n",
       "7069          369.600000  \n",
       "\n",
       "[12074 rows x 11 columns]"
      ]
     },
     "execution_count": 26,
     "metadata": {},
     "output_type": "execute_result"
    }
   ],
   "source": [
    "files_all = pd.concat(file_list, axis=0)\n",
    "\n",
    "files_all"
   ]
  },
  {
   "cell_type": "code",
   "execution_count": 27,
   "metadata": {},
   "outputs": [
    {
     "name": "stdout",
     "output_type": "stream",
     "text": [
      "<class 'pandas.core.frame.DataFrame'>\n",
      "Int64Index: 12074 entries, 0 to 7069\n",
      "Data columns (total 11 columns):\n",
      " #   Column                     Non-Null Count  Dtype  \n",
      "---  ------                     --------------  -----  \n",
      " 0   customer                   9137 non-null   object \n",
      " 1   state                      9137 non-null   object \n",
      " 2   gender                     9015 non-null   object \n",
      " 3   education                  9137 non-null   object \n",
      " 4   customer lifetime value    9130 non-null   object \n",
      " 5   income                     9137 non-null   float64\n",
      " 6   monthly premium auto       9137 non-null   float64\n",
      " 7   number of open complaints  9137 non-null   object \n",
      " 8   policy type                9137 non-null   object \n",
      " 9   vehicle class              9137 non-null   object \n",
      " 10  total claim amount         9137 non-null   float64\n",
      "dtypes: float64(3), object(8)\n",
      "memory usage: 1.1+ MB\n"
     ]
    }
   ],
   "source": [
    "# data type \n",
    "\n",
    "#files_all.describe\n",
    "files_all.info()"
   ]
  },
  {
   "cell_type": "code",
   "execution_count": 28,
   "metadata": {},
   "outputs": [
    {
     "name": "stdout",
     "output_type": "stream",
     "text": [
      "<class 'pandas.core.frame.DataFrame'>\n",
      "Int64Index: 12074 entries, 0 to 7069\n",
      "Data columns (total 11 columns):\n",
      " #   Column                     Non-Null Count  Dtype  \n",
      "---  ------                     --------------  -----  \n",
      " 0   customer                   9137 non-null   object \n",
      " 1   state                      9137 non-null   object \n",
      " 2   gender                     9015 non-null   object \n",
      " 3   education                  9137 non-null   object \n",
      " 4   customer lifetime value    9130 non-null   object \n",
      " 5   income                     9137 non-null   float64\n",
      " 6   monthly premium auto       9137 non-null   float64\n",
      " 7   number of open complaints  9137 non-null   object \n",
      " 8   policy type                9137 non-null   object \n",
      " 9   vehicle class              9137 non-null   object \n",
      " 10  total claim amount         9137 non-null   float64\n",
      "dtypes: float64(3), object(8)\n",
      "memory usage: 1.1+ MB\n"
     ]
    }
   ],
   "source": [
    "files_all.info()"
   ]
  },
  {
   "cell_type": "code",
   "execution_count": 29,
   "metadata": {},
   "outputs": [],
   "source": [
    "## String Operations \n",
    "## remove % 'customer lifetime value'\n",
    "#files_all 'number of open complaints' \n",
    "\n",
    "#get_middle_number =  lambda x: x.extract(r'/(\\d)/') if type(x) == str else x\n",
    "#files_all['number of open complaints'] = files_all['number of open complaints'].apply(get_middle_number)"
   ]
  },
  {
   "cell_type": "code",
   "execution_count": 30,
   "metadata": {},
   "outputs": [],
   "source": [
    "files_all['customer lifetime value'] = files_all['customer lifetime value'].str.rstrip('%')"
   ]
  },
  {
   "cell_type": "code",
   "execution_count": 31,
   "metadata": {},
   "outputs": [],
   "source": [
    "files_all['number of open complaints'] = files_all['number of open complaints'].str.extract(r'/(\\d)/')"
   ]
  },
  {
   "cell_type": "code",
   "execution_count": 32,
   "metadata": {},
   "outputs": [
    {
     "data": {
      "text/plain": [
       "array(['0', '2', '1', '3', '5', '4', nan], dtype=object)"
      ]
     },
     "execution_count": 32,
     "metadata": {},
     "output_type": "execute_result"
    }
   ],
   "source": [
    "files_all['number of open complaints'].unique()"
   ]
  },
  {
   "cell_type": "code",
   "execution_count": 33,
   "metadata": {},
   "outputs": [
    {
     "data": {
      "text/plain": [
       "array(['0', '2', '1', '3', '5', '4', nan], dtype=object)"
      ]
     },
     "execution_count": 33,
     "metadata": {},
     "output_type": "execute_result"
    }
   ],
   "source": [
    "#files_all['number of open complaints'].unique()\n",
    "\n",
    "files_all['number of open complaints'].dropna()\n",
    "files_all['number of open complaints'].unique()\n",
    "\n",
    "#files_all['number of open complaints'].isna().sum()\n",
    "\n",
    "#files_all['number of open complaints'].fillna((files_all['number of open complaints'].mean()), inplace=True)"
   ]
  },
  {
   "cell_type": "markdown",
   "metadata": {},
   "source": [
    "## Remove dublicates "
   ]
  },
  {
   "cell_type": "code",
   "execution_count": 34,
   "metadata": {},
   "outputs": [],
   "source": [
    "## remove dublicates \n",
    "\n",
    "files_all.drop_duplicates(subset=['customer lifetime value', 'income', 'total claim amount' ], keep='first', inplace=True)\n"
   ]
  },
  {
   "cell_type": "markdown",
   "metadata": {},
   "source": [
    "## Replacing null values – Replace missing values with means of the column (for numerical columns)"
   ]
  },
  {
   "cell_type": "markdown",
   "metadata": {},
   "source": [
    "## Cleaning up gender"
   ]
  },
  {
   "cell_type": "code",
   "execution_count": 35,
   "metadata": {},
   "outputs": [],
   "source": [
    "#files_all.apply(, .fillna())   \n",
    "\n",
    "#files_all['monthly premium auto'].fillna((files_all['monthly premium auto'].mean()), inplace=True)\n",
    "\n",
    "#files_all['monthly premium auto'].isnull().values.any()"
   ]
  },
  {
   "cell_type": "code",
   "execution_count": 36,
   "metadata": {},
   "outputs": [
    {
     "name": "stderr",
     "output_type": "stream",
     "text": [
      "C:\\Users\\Lenovo\\anaconda3\\lib\\site-packages\\ipykernel_launcher.py:1: SettingWithCopyWarning: \n",
      "A value is trying to be set on a copy of a slice from a DataFrame\n",
      "\n",
      "See the caveats in the documentation: https://pandas.pydata.org/pandas-docs/stable/user_guide/indexing.html#returning-a-view-versus-a-copy\n",
      "  \"\"\"Entry point for launching an IPython kernel.\n",
      "C:\\Users\\Lenovo\\anaconda3\\lib\\site-packages\\ipykernel_launcher.py:2: SettingWithCopyWarning: \n",
      "A value is trying to be set on a copy of a slice from a DataFrame\n",
      "\n",
      "See the caveats in the documentation: https://pandas.pydata.org/pandas-docs/stable/user_guide/indexing.html#returning-a-view-versus-a-copy\n",
      "  \n",
      "C:\\Users\\Lenovo\\anaconda3\\lib\\site-packages\\ipykernel_launcher.py:3: SettingWithCopyWarning: \n",
      "A value is trying to be set on a copy of a slice from a DataFrame\n",
      "\n",
      "See the caveats in the documentation: https://pandas.pydata.org/pandas-docs/stable/user_guide/indexing.html#returning-a-view-versus-a-copy\n",
      "  This is separate from the ipykernel package so we can avoid doing imports until\n"
     ]
    },
    {
     "data": {
      "text/plain": [
       "array([nan, 'F', 'M'], dtype=object)"
      ]
     },
     "execution_count": 36,
     "metadata": {},
     "output_type": "execute_result"
    }
   ],
   "source": [
    "files_all.loc[:,'gender'][files_all['gender']=='Femal'] = \"F\"\n",
    "files_all.loc[:,'gender'][files_all['gender']=='female']= \"F\"\n",
    "files_all.loc[:,'gender'][files_all['gender']=='Male'] = 'M'\n",
    "          \n",
    "files_all['gender'].value_counts\n",
    "\n",
    "files_all.gender.unique()"
   ]
  },
  {
   "cell_type": "code",
   "execution_count": 37,
   "metadata": {},
   "outputs": [
    {
     "data": {
      "text/plain": [
       "F    3774\n",
       "M    3533\n",
       "Name: gender, dtype: int64"
      ]
     },
     "execution_count": 37,
     "metadata": {},
     "output_type": "execute_result"
    }
   ],
   "source": [
    "# check how many are na in gender\n",
    "\n",
    "files_all[files_all['gender'].isna()==True] \n",
    "\n",
    "files_all['gender'].value_counts(dropna=True)"
   ]
  },
  {
   "cell_type": "code",
   "execution_count": 38,
   "metadata": {},
   "outputs": [],
   "source": [
    "## Cleaning up states"
   ]
  },
  {
   "cell_type": "code",
   "execution_count": 39,
   "metadata": {},
   "outputs": [
    {
     "name": "stderr",
     "output_type": "stream",
     "text": [
      "C:\\Users\\Lenovo\\anaconda3\\lib\\site-packages\\ipykernel_launcher.py:5: SettingWithCopyWarning: \n",
      "A value is trying to be set on a copy of a slice from a DataFrame\n",
      "\n",
      "See the caveats in the documentation: https://pandas.pydata.org/pandas-docs/stable/user_guide/indexing.html#returning-a-view-versus-a-copy\n",
      "  \"\"\"\n",
      "C:\\Users\\Lenovo\\anaconda3\\lib\\site-packages\\ipykernel_launcher.py:6: SettingWithCopyWarning: \n",
      "A value is trying to be set on a copy of a slice from a DataFrame\n",
      "\n",
      "See the caveats in the documentation: https://pandas.pydata.org/pandas-docs/stable/user_guide/indexing.html#returning-a-view-versus-a-copy\n",
      "  \n",
      "C:\\Users\\Lenovo\\anaconda3\\lib\\site-packages\\ipykernel_launcher.py:7: SettingWithCopyWarning: \n",
      "A value is trying to be set on a copy of a slice from a DataFrame\n",
      "\n",
      "See the caveats in the documentation: https://pandas.pydata.org/pandas-docs/stable/user_guide/indexing.html#returning-a-view-versus-a-copy\n",
      "  import sys\n"
     ]
    }
   ],
   "source": [
    "files_all.state.unique()\n",
    "\n",
    "#files_all.loc[:,'gender'][files_all['gender']=='Male'] = 'M'\n",
    "\n",
    "files_all.loc[:,'state'][(files_all['state']=='AZ')] = 'Arizona'\n",
    "files_all.loc[:,'state'][(files_all['state']=='Cali')] = 'California'\n",
    "files_all.loc[:,'state'][(files_all['state']=='WA')] = 'Washington'\n"
   ]
  },
  {
   "cell_type": "code",
   "execution_count": 40,
   "metadata": {},
   "outputs": [
    {
     "data": {
      "text/plain": [
       "array(['Washington', 'Arizona', 'Nevada', 'California', 'Oregon', nan],\n",
       "      dtype=object)"
      ]
     },
     "execution_count": 40,
     "metadata": {},
     "output_type": "execute_result"
    }
   ],
   "source": [
    "files_all.state.unique()"
   ]
  },
  {
   "cell_type": "code",
   "execution_count": 43,
   "metadata": {},
   "outputs": [
    {
     "data": {
      "text/plain": [
       "customer                      0.01\n",
       "state                         0.01\n",
       "gender                        1.64\n",
       "education                     0.01\n",
       "customer lifetime value      74.11\n",
       "income                        0.01\n",
       "monthly premium auto          0.01\n",
       "number of open complaints    74.02\n",
       "policy type                   0.01\n",
       "vehicle class                 0.01\n",
       "total claim amount            0.01\n",
       "dtype: float64"
      ]
     },
     "execution_count": 43,
     "metadata": {},
     "output_type": "execute_result"
    }
   ],
   "source": [
    "## Check how many percent are na's\n",
    "round(files_all.isna().sum()/len(files_all),4)*100"
   ]
  },
  {
   "cell_type": "code",
   "execution_count": 47,
   "metadata": {},
   "outputs": [
    {
     "data": {
      "text/html": [
       "<div>\n",
       "<style scoped>\n",
       "    .dataframe tbody tr th:only-of-type {\n",
       "        vertical-align: middle;\n",
       "    }\n",
       "\n",
       "    .dataframe tbody tr th {\n",
       "        vertical-align: top;\n",
       "    }\n",
       "\n",
       "    .dataframe thead th {\n",
       "        text-align: right;\n",
       "    }\n",
       "</style>\n",
       "<table border=\"1\" class=\"dataframe\">\n",
       "  <thead>\n",
       "    <tr style=\"text-align: right;\">\n",
       "      <th></th>\n",
       "      <th>header_name</th>\n",
       "      <th>percent_nulls</th>\n",
       "    </tr>\n",
       "  </thead>\n",
       "  <tbody>\n",
       "    <tr>\n",
       "      <th>0</th>\n",
       "      <td>customer</td>\n",
       "      <td>0.01</td>\n",
       "    </tr>\n",
       "    <tr>\n",
       "      <th>1</th>\n",
       "      <td>state</td>\n",
       "      <td>0.01</td>\n",
       "    </tr>\n",
       "    <tr>\n",
       "      <th>2</th>\n",
       "      <td>gender</td>\n",
       "      <td>1.64</td>\n",
       "    </tr>\n",
       "    <tr>\n",
       "      <th>3</th>\n",
       "      <td>education</td>\n",
       "      <td>0.01</td>\n",
       "    </tr>\n",
       "    <tr>\n",
       "      <th>4</th>\n",
       "      <td>customer lifetime value</td>\n",
       "      <td>74.11</td>\n",
       "    </tr>\n",
       "    <tr>\n",
       "      <th>5</th>\n",
       "      <td>income</td>\n",
       "      <td>0.01</td>\n",
       "    </tr>\n",
       "    <tr>\n",
       "      <th>6</th>\n",
       "      <td>monthly premium auto</td>\n",
       "      <td>0.01</td>\n",
       "    </tr>\n",
       "    <tr>\n",
       "      <th>7</th>\n",
       "      <td>number of open complaints</td>\n",
       "      <td>74.02</td>\n",
       "    </tr>\n",
       "    <tr>\n",
       "      <th>8</th>\n",
       "      <td>policy type</td>\n",
       "      <td>0.01</td>\n",
       "    </tr>\n",
       "    <tr>\n",
       "      <th>9</th>\n",
       "      <td>vehicle class</td>\n",
       "      <td>0.01</td>\n",
       "    </tr>\n",
       "    <tr>\n",
       "      <th>10</th>\n",
       "      <td>total claim amount</td>\n",
       "      <td>0.01</td>\n",
       "    </tr>\n",
       "    <tr>\n",
       "      <th>11</th>\n",
       "      <td>zone</td>\n",
       "      <td>0.01</td>\n",
       "    </tr>\n",
       "  </tbody>\n",
       "</table>\n",
       "</div>"
      ],
      "text/plain": [
       "                  header_name  percent_nulls\n",
       "0                    customer           0.01\n",
       "1                       state           0.01\n",
       "2                      gender           1.64\n",
       "3                   education           0.01\n",
       "4     customer lifetime value          74.11\n",
       "5                      income           0.01\n",
       "6        monthly premium auto           0.01\n",
       "7   number of open complaints          74.02\n",
       "8                 policy type           0.01\n",
       "9               vehicle class           0.01\n",
       "10         total claim amount           0.01\n",
       "11                       zone           0.01"
      ]
     },
     "execution_count": 47,
     "metadata": {},
     "output_type": "execute_result"
    }
   ],
   "source": [
    "nulls_df = pd.DataFrame(round(files_all.isna().sum()/len(files_all),4)*100)\n",
    "nulls_df = nulls_df.reset_index()\n",
    "nulls_df.columns = ['header_name', 'percent_nulls']\n",
    "\n",
    "nulls_df"
   ]
  },
  {
   "cell_type": "code",
   "execution_count": 49,
   "metadata": {},
   "outputs": [
    {
     "name": "stdout",
     "output_type": "stream",
     "text": [
      "['customer lifetime value' 'number of open complaints']\n"
     ]
    }
   ],
   "source": [
    "#columns to drop\n",
    "columns_drop = nulls_df[nulls_df['percent_nulls']>25]['header_name']  # dummy case with 3 \n",
    "print(columns_drop.values)\n"
   ]
  },
  {
   "cell_type": "markdown",
   "metadata": {},
   "source": [
    "## States to regions "
   ]
  },
  {
   "cell_type": "code",
   "execution_count": null,
   "metadata": {},
   "outputs": [],
   "source": []
  },
  {
   "cell_type": "code",
   "execution_count": null,
   "metadata": {},
   "outputs": [],
   "source": []
  },
  {
   "cell_type": "code",
   "execution_count": 44,
   "metadata": {},
   "outputs": [
    {
     "name": "stdout",
     "output_type": "stream",
     "text": [
      "0       Washington\n",
      "1          Arizona\n",
      "2           Nevada\n",
      "3       California\n",
      "4       Washington\n",
      "           ...    \n",
      "7063    California\n",
      "7064    California\n",
      "7065    California\n",
      "7067    California\n",
      "7068    California\n",
      "Name: state, Length: 7429, dtype: object\n",
      "West Region    2525\n",
      "Central        2127\n",
      "North West     2123\n",
      "East            653\n",
      "Name: zone, dtype: int64 \n",
      "\n",
      " California    2525\n",
      "Oregon        2123\n",
      "Arizona       1393\n",
      "Nevada         734\n",
      "Washington     653\n",
      "Name: state, dtype: int64\n"
     ]
    }
   ],
   "source": [
    "# Bucketing the data - Write a function to replace column \"State\" to different zones. \n",
    "# California as West Region, Oregon as North West, \n",
    "# and Washington as East, and Arizona and Nevada as Central\n",
    "def change_states_to_zones(x):\n",
    "    '''add a new column named zone from states'''\n",
    "    if x == 'California':\n",
    "        x = 'West Region'\n",
    "    elif x == 'Oregon':\n",
    "        x = 'North West'\n",
    "    elif x=='Washington':\n",
    "        x = 'East'\n",
    "    elif x=='Arizona' or x=='Nevada':\n",
    "        x='Central'\n",
    "    return x\n",
    "\n",
    "\n",
    "files_all['zone'] = list(map(change_states_to_zones, files_all['state']))\n",
    "\n",
    "\n",
    "print(files_all['state'])\n",
    "print(files_all['zone'].value_counts(),'\\n\\n',  files_all['state'].value_counts())"
   ]
  },
  {
   "cell_type": "markdown",
   "metadata": {},
   "source": [
    "## Which variables are catergorical \n",
    "\n"
   ]
  },
  {
   "cell_type": "code",
   "execution_count": 69,
   "metadata": {},
   "outputs": [],
   "source": [
    "files_all = files_all.applymap(lambda s:s.lower() if type(s) == str else s)"
   ]
  },
  {
   "cell_type": "markdown",
   "metadata": {},
   "source": [
    "## Drop customer column"
   ]
  },
  {
   "cell_type": "code",
   "execution_count": 70,
   "metadata": {},
   "outputs": [
    {
     "data": {
      "text/plain": [
       "['customer lifetime value', 'number of open complaints', 'customer']"
      ]
     },
     "execution_count": 70,
     "metadata": {},
     "output_type": "execute_result"
    }
   ],
   "source": [
    "list(columns_drop) +['customer']"
   ]
  },
  {
   "cell_type": "code",
   "execution_count": 71,
   "metadata": {
    "scrolled": true
   },
   "outputs": [
    {
     "data": {
      "text/html": [
       "<div>\n",
       "<style scoped>\n",
       "    .dataframe tbody tr th:only-of-type {\n",
       "        vertical-align: middle;\n",
       "    }\n",
       "\n",
       "    .dataframe tbody tr th {\n",
       "        vertical-align: top;\n",
       "    }\n",
       "\n",
       "    .dataframe thead th {\n",
       "        text-align: right;\n",
       "    }\n",
       "</style>\n",
       "<table border=\"1\" class=\"dataframe\">\n",
       "  <thead>\n",
       "    <tr style=\"text-align: right;\">\n",
       "      <th></th>\n",
       "      <th>state</th>\n",
       "      <th>gender</th>\n",
       "      <th>education</th>\n",
       "      <th>income</th>\n",
       "      <th>monthly premium auto</th>\n",
       "      <th>policy type</th>\n",
       "      <th>vehicle class</th>\n",
       "      <th>total claim amount</th>\n",
       "      <th>zone</th>\n",
       "    </tr>\n",
       "  </thead>\n",
       "  <tbody>\n",
       "    <tr>\n",
       "      <th>0</th>\n",
       "      <td>washington</td>\n",
       "      <td>NaN</td>\n",
       "      <td>master</td>\n",
       "      <td>0.0</td>\n",
       "      <td>1000.0</td>\n",
       "      <td>personal auto</td>\n",
       "      <td>four-door car</td>\n",
       "      <td>2.704934</td>\n",
       "      <td>east</td>\n",
       "    </tr>\n",
       "    <tr>\n",
       "      <th>1</th>\n",
       "      <td>arizona</td>\n",
       "      <td>f</td>\n",
       "      <td>bachelor</td>\n",
       "      <td>0.0</td>\n",
       "      <td>94.0</td>\n",
       "      <td>personal auto</td>\n",
       "      <td>four-door car</td>\n",
       "      <td>1131.464935</td>\n",
       "      <td>central</td>\n",
       "    </tr>\n",
       "    <tr>\n",
       "      <th>2</th>\n",
       "      <td>nevada</td>\n",
       "      <td>f</td>\n",
       "      <td>bachelor</td>\n",
       "      <td>48767.0</td>\n",
       "      <td>108.0</td>\n",
       "      <td>personal auto</td>\n",
       "      <td>two-door car</td>\n",
       "      <td>566.472247</td>\n",
       "      <td>central</td>\n",
       "    </tr>\n",
       "    <tr>\n",
       "      <th>3</th>\n",
       "      <td>california</td>\n",
       "      <td>m</td>\n",
       "      <td>bachelor</td>\n",
       "      <td>0.0</td>\n",
       "      <td>106.0</td>\n",
       "      <td>corporate auto</td>\n",
       "      <td>suv</td>\n",
       "      <td>529.881344</td>\n",
       "      <td>west region</td>\n",
       "    </tr>\n",
       "    <tr>\n",
       "      <th>4</th>\n",
       "      <td>washington</td>\n",
       "      <td>m</td>\n",
       "      <td>high school or below</td>\n",
       "      <td>36357.0</td>\n",
       "      <td>68.0</td>\n",
       "      <td>personal auto</td>\n",
       "      <td>four-door car</td>\n",
       "      <td>17.269323</td>\n",
       "      <td>east</td>\n",
       "    </tr>\n",
       "    <tr>\n",
       "      <th>...</th>\n",
       "      <td>...</td>\n",
       "      <td>...</td>\n",
       "      <td>...</td>\n",
       "      <td>...</td>\n",
       "      <td>...</td>\n",
       "      <td>...</td>\n",
       "      <td>...</td>\n",
       "      <td>...</td>\n",
       "      <td>...</td>\n",
       "    </tr>\n",
       "    <tr>\n",
       "      <th>7063</th>\n",
       "      <td>california</td>\n",
       "      <td>m</td>\n",
       "      <td>college</td>\n",
       "      <td>66367.0</td>\n",
       "      <td>64.0</td>\n",
       "      <td>personal auto</td>\n",
       "      <td>two-door car</td>\n",
       "      <td>307.200000</td>\n",
       "      <td>west region</td>\n",
       "    </tr>\n",
       "    <tr>\n",
       "      <th>7064</th>\n",
       "      <td>california</td>\n",
       "      <td>f</td>\n",
       "      <td>college</td>\n",
       "      <td>47761.0</td>\n",
       "      <td>104.0</td>\n",
       "      <td>personal auto</td>\n",
       "      <td>four-door car</td>\n",
       "      <td>541.282007</td>\n",
       "      <td>west region</td>\n",
       "    </tr>\n",
       "    <tr>\n",
       "      <th>7065</th>\n",
       "      <td>california</td>\n",
       "      <td>m</td>\n",
       "      <td>bachelor</td>\n",
       "      <td>71941.0</td>\n",
       "      <td>73.0</td>\n",
       "      <td>personal auto</td>\n",
       "      <td>four-door car</td>\n",
       "      <td>198.234764</td>\n",
       "      <td>west region</td>\n",
       "    </tr>\n",
       "    <tr>\n",
       "      <th>7067</th>\n",
       "      <td>california</td>\n",
       "      <td>m</td>\n",
       "      <td>bachelor</td>\n",
       "      <td>0.0</td>\n",
       "      <td>85.0</td>\n",
       "      <td>corporate auto</td>\n",
       "      <td>four-door car</td>\n",
       "      <td>790.784983</td>\n",
       "      <td>west region</td>\n",
       "    </tr>\n",
       "    <tr>\n",
       "      <th>7068</th>\n",
       "      <td>california</td>\n",
       "      <td>m</td>\n",
       "      <td>college</td>\n",
       "      <td>21941.0</td>\n",
       "      <td>96.0</td>\n",
       "      <td>personal auto</td>\n",
       "      <td>four-door car</td>\n",
       "      <td>691.200000</td>\n",
       "      <td>west region</td>\n",
       "    </tr>\n",
       "  </tbody>\n",
       "</table>\n",
       "<p>7429 rows × 9 columns</p>\n",
       "</div>"
      ],
      "text/plain": [
       "           state gender             education   income  monthly premium auto  \\\n",
       "0     washington    NaN                master      0.0                1000.0   \n",
       "1        arizona      f              bachelor      0.0                  94.0   \n",
       "2         nevada      f              bachelor  48767.0                 108.0   \n",
       "3     california      m              bachelor      0.0                 106.0   \n",
       "4     washington      m  high school or below  36357.0                  68.0   \n",
       "...          ...    ...                   ...      ...                   ...   \n",
       "7063  california      m               college  66367.0                  64.0   \n",
       "7064  california      f               college  47761.0                 104.0   \n",
       "7065  california      m              bachelor  71941.0                  73.0   \n",
       "7067  california      m              bachelor      0.0                  85.0   \n",
       "7068  california      m               college  21941.0                  96.0   \n",
       "\n",
       "         policy type  vehicle class  total claim amount         zone  \n",
       "0      personal auto  four-door car            2.704934         east  \n",
       "1      personal auto  four-door car         1131.464935      central  \n",
       "2      personal auto   two-door car          566.472247      central  \n",
       "3     corporate auto            suv          529.881344  west region  \n",
       "4      personal auto  four-door car           17.269323         east  \n",
       "...              ...            ...                 ...          ...  \n",
       "7063   personal auto   two-door car          307.200000  west region  \n",
       "7064   personal auto  four-door car          541.282007  west region  \n",
       "7065   personal auto  four-door car          198.234764  west region  \n",
       "7067  corporate auto  four-door car          790.784983  west region  \n",
       "7068   personal auto  four-door car          691.200000  west region  \n",
       "\n",
       "[7429 rows x 9 columns]"
      ]
     },
     "execution_count": 71,
     "metadata": {},
     "output_type": "execute_result"
    }
   ],
   "source": [
    "files_all.drop(['customer']+ list(columns_drop), axis= 1)"
   ]
  },
  {
   "cell_type": "markdown",
   "metadata": {},
   "source": [
    "## Which variables are numerical "
   ]
  },
  {
   "cell_type": "code",
   "execution_count": 73,
   "metadata": {},
   "outputs": [
    {
     "data": {
      "text/html": [
       "<div>\n",
       "<style scoped>\n",
       "    .dataframe tbody tr th:only-of-type {\n",
       "        vertical-align: middle;\n",
       "    }\n",
       "\n",
       "    .dataframe tbody tr th {\n",
       "        vertical-align: top;\n",
       "    }\n",
       "\n",
       "    .dataframe thead th {\n",
       "        text-align: right;\n",
       "    }\n",
       "</style>\n",
       "<table border=\"1\" class=\"dataframe\">\n",
       "  <thead>\n",
       "    <tr style=\"text-align: right;\">\n",
       "      <th></th>\n",
       "    </tr>\n",
       "  </thead>\n",
       "  <tbody>\n",
       "    <tr>\n",
       "      <th>0</th>\n",
       "    </tr>\n",
       "    <tr>\n",
       "      <th>1</th>\n",
       "    </tr>\n",
       "    <tr>\n",
       "      <th>2</th>\n",
       "    </tr>\n",
       "    <tr>\n",
       "      <th>3</th>\n",
       "    </tr>\n",
       "    <tr>\n",
       "      <th>4</th>\n",
       "    </tr>\n",
       "    <tr>\n",
       "      <th>...</th>\n",
       "    </tr>\n",
       "    <tr>\n",
       "      <th>7063</th>\n",
       "    </tr>\n",
       "    <tr>\n",
       "      <th>7064</th>\n",
       "    </tr>\n",
       "    <tr>\n",
       "      <th>7065</th>\n",
       "    </tr>\n",
       "    <tr>\n",
       "      <th>7067</th>\n",
       "    </tr>\n",
       "    <tr>\n",
       "      <th>7068</th>\n",
       "    </tr>\n",
       "  </tbody>\n",
       "</table>\n",
       "<p>7429 rows × 0 columns</p>\n",
       "</div>"
      ],
      "text/plain": [
       "Empty DataFrame\n",
       "Columns: []\n",
       "Index: [0, 1, 2, 3, 4, 5, 6, 7, 8, 9, 10, 11, 12, 13, 14, 15, 16, 17, 18, 19, 20, 21, 23, 24, 25, 26, 27, 28, 29, 30, 31, 32, 33, 34, 35, 36, 37, 38, 39, 40, 41, 42, 43, 44, 45, 46, 47, 48, 49, 50, 51, 52, 53, 54, 55, 56, 57, 58, 59, 60, 61, 62, 63, 64, 65, 66, 67, 68, 69, 70, 71, 72, 73, 74, 75, 76, 77, 78, 79, 80, 81, 82, 83, 84, 85, 86, 87, 88, 89, 90, 91, 92, 93, 94, 95, 96, 97, 98, 99, 100, ...]\n",
       "\n",
       "[7429 rows x 0 columns]"
      ]
     },
     "execution_count": 73,
     "metadata": {},
     "output_type": "execute_result"
    }
   ],
   "source": [
    "files_all.select_dtypes('int64')"
   ]
  },
  {
   "cell_type": "code",
   "execution_count": null,
   "metadata": {},
   "outputs": [],
   "source": []
  }
 ],
 "metadata": {
  "kernelspec": {
   "display_name": "Python 3",
   "language": "python",
   "name": "python3"
  },
  "language_info": {
   "codemirror_mode": {
    "name": "ipython",
    "version": 3
   },
   "file_extension": ".py",
   "mimetype": "text/x-python",
   "name": "python",
   "nbconvert_exporter": "python",
   "pygments_lexer": "ipython3",
   "version": "3.7.6"
  }
 },
 "nbformat": 4,
 "nbformat_minor": 5
}
